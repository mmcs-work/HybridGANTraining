{
  "nbformat": 4,
  "nbformat_minor": 0,
  "metadata": {
    "colab": {
      "name": "BeginWithMNIST.ipynb",
      "provenance": [],
      "collapsed_sections": [],
      "toc_visible": true
    },
    "kernelspec": {
      "name": "python3",
      "display_name": "Python 3"
    },
    "accelerator": "GPU"
  },
  "cells": [
    {
      "cell_type": "code",
      "metadata": {
        "id": "KEPPtfWo3ubU"
      },
      "source": [
        "%load_ext autoreload\n",
        "\n",
        "%autoreload 2"
      ],
      "execution_count": 1,
      "outputs": []
    },
    {
      "cell_type": "code",
      "metadata": {
        "id": "YsSqSu8iQweA"
      },
      "source": [
        "import torch\n",
        "import torchvision\n",
        "import numpy as np"
      ],
      "execution_count": 2,
      "outputs": []
    },
    {
      "cell_type": "code",
      "metadata": {
        "id": "ay_ejErVRGC3",
        "outputId": "85757bf5-e3c3-48c0-dda6-6e4d9970eb27",
        "colab": {
          "base_uri": "https://localhost:8080/"
        }
      },
      "source": [
        "device = 'cuda' if torch.cuda.is_available() else 'cpu'\n",
        "print(device)"
      ],
      "execution_count": 3,
      "outputs": [
        {
          "output_type": "stream",
          "text": [
            "cuda\n"
          ],
          "name": "stdout"
        }
      ]
    },
    {
      "cell_type": "markdown",
      "metadata": {
        "id": "Ckp9bOc0QGmr"
      },
      "source": [
        "# Load data"
      ]
    },
    {
      "cell_type": "code",
      "metadata": {
        "id": "uQd2_k7lOknW"
      },
      "source": [
        "train_data = torchvision.datasets.MNIST(root='./data', train=True, download=True, transform=torchvision.transforms.ToTensor())\n",
        "val_data = torchvision.datasets.MNIST(root='./data', train=False, download=True, transform=torchvision.transforms.ToTensor())"
      ],
      "execution_count": 4,
      "outputs": []
    },
    {
      "cell_type": "code",
      "metadata": {
        "id": "SbxorLnxKn4A"
      },
      "source": [
        "train_loader = torch.utils.data.DataLoader(train_data, batch_size=len(train_data))\n",
        "x, y = next(iter(train_loader))\n",
        "\n",
        "h, w = x.shape[2], x.shape[2]\n",
        "\n",
        "means = torch.zeros(len(train_data.classes), h, w)\n",
        "vars = torch.zeros(len(train_data.classes), h, w)\n",
        "\n",
        "for digit in range(len(train_data.classes)):\n",
        "    subset = x[torch.where(y == 0)[0], :, :]\n",
        "    means[digit, :, :] = torch.mean(subset, dim=0)\n",
        "    vars[digit, :, :] = torch.var(subset, dim=0)\n",
        "\n",
        "means, vars = means.to(device), vars.to(device)"
      ],
      "execution_count": 5,
      "outputs": []
    },
    {
      "cell_type": "code",
      "metadata": {
        "id": "02tPbHeEcFt7"
      },
      "source": [
        "batch_size = 64\n",
        "\n",
        "train_loader = torch.utils.data.DataLoader(train_data, batch_size=batch_size)\n",
        "val_loader = torch.utils.data.DataLoader(val_data, batch_size=batch_size)"
      ],
      "execution_count": 6,
      "outputs": []
    },
    {
      "cell_type": "markdown",
      "metadata": {
        "id": "kxfj0bwy1fQO"
      },
      "source": [
        "## I try out with unit Gaussian here. Need to consider all these 10 distributions."
      ]
    },
    {
      "cell_type": "code",
      "metadata": {
        "id": "0qhWdqJYuHTq"
      },
      "source": [
        "from model import RealNVP\n",
        "\n",
        "mask = np.arange(h * w / 2) * 2  # 0, 2, 4, ...\n",
        "base_dist = torch.distributions.multivariate_normal.MultivariateNormal(torch.zeros(28 * 28).to(device),\n",
        "                                              torch.eye(28 * 28).to(device))\n",
        "model = RealNVP(mask, base_dist).to(device)\n",
        "optimizer = torch.optim.Adam(model.parameters(), lr=1e-3)"
      ],
      "execution_count": 22,
      "outputs": []
    },
    {
      "cell_type": "markdown",
      "metadata": {
        "id": "Ls5fQ8e8VRhE"
      },
      "source": [
        "#TODO: seems log(p_x) and log_det_inv_j would be large negative number. e.g. -1e04"
      ]
    },
    {
      "cell_type": "code",
      "metadata": {
        "id": "hzyl0V9-0s5c"
      },
      "source": [
        "epochs = 20\n",
        "print_every = 1\n",
        "\n",
        "for epoch in range(epochs):\n",
        "    total_loss = 0\n",
        "    for data in train_loader:\n",
        "        x, y = data\n",
        "        x, y = x.to(device), y.to(device)\n",
        "        optimizer.zero_grad()\n",
        "        loss = - torch.sum(model.log_prob(x)) / x.shape[0]\n",
        "        loss.backward()\n",
        "        optimizer.step()\n",
        "        total_loss += loss\n",
        "    total_loss /= len(train_loader)\n",
        "\n",
        "    if epoch % print_every == 0:\n",
        "        print(f\"Epoch {epoch} -> loss: {total_loss.item():.2f}\")"
      ],
      "execution_count": null,
      "outputs": []
    },
    {
      "cell_type": "code",
      "metadata": {
        "id": "Tn7JX_1jTXN_"
      },
      "source": [
        ""
      ],
      "execution_count": null,
      "outputs": []
    }
  ]
}