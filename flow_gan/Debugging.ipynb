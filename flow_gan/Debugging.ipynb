{
 "cells": [
  {
   "cell_type": "code",
   "execution_count": null,
   "metadata": {
    "scrolled": true
   },
   "outputs": [
    {
     "name": "stdout",
     "output_type": "stream",
     "text": [
      "Namespace(batchSize=32, beta1=0.5, classes='bedroom', cuda=True, dataroot='./data', dataset='mnist', dry_run=False, generate=0, generate_img_nums=100, generate_loc='', imageSize=28, likelihood=0, log_path='./flowgan_wgan.log', lr=0.0002, manualSeed=None, ndf=28, netD='', netG='', ngf=28, ngpu=1, niter=100, nz=100, outf='./flowgan_wgan/', root_dir=None, start_epoch=0, workers=2)\n",
      "Random Seed: r 6062\n",
      "100%|█| 50000/50000 [32:19<00:00, 25.77it/s, al=1.32e+3, b=1562, bpd=2.44, l=1.0\n",
      "100%|█| 10000/10000 [01:08<00:00, 145.27it/s, b=312, bpd=1.92, l=1.01e+3, val=1.\n",
      "100%|████| 50000/50000 [32:24<00:00, 25.72it/s, al=963, b=1562, bpd=1.77, l=836]\n",
      "100%|███| 10000/10000 [01:08<00:00, 145.21it/s, b=312, bpd=1.57, l=881, val=853]\n",
      "100%|████| 50000/50000 [32:24<00:00, 25.71it/s, al=840, b=1562, bpd=1.55, l=853]\n",
      "100%|████| 10000/10000 [01:08<00:00, 145.11it/s, b=312, bpd=1.5, l=840, val=813]\n",
      "100%|████| 50000/50000 [32:24<00:00, 25.72it/s, al=968, b=1562, bpd=1.78, l=813]\n",
      "100%|███| 10000/10000 [01:09<00:00, 144.90it/s, b=312, bpd=1.51, l=894, val=819]\n",
      "100%|████| 50000/50000 [32:25<00:00, 25.70it/s, al=826, b=1562, bpd=1.52, l=844]\n",
      "100%|███| 10000/10000 [01:09<00:00, 144.86it/s, b=312, bpd=1.47, l=805, val=801]\n",
      "100%|████| 50000/50000 [32:28<00:00, 25.67it/s, al=785, b=1562, bpd=1.44, l=702]\n",
      "100%|███| 10000/10000 [01:09<00:00, 144.61it/s, b=312, bpd=1.47, l=837, val=797]\n",
      "100%|████| 50000/50000 [32:28<00:00, 25.66it/s, al=755, b=1562, bpd=1.39, l=746]\n",
      "100%|████| 10000/10000 [01:09<00:00, 144.57it/s, b=312, bpd=1.4, l=739, val=760]\n",
      "100%|████| 50000/50000 [32:29<00:00, 25.65it/s, al=767, b=1562, bpd=1.41, l=755]\n",
      "100%|███| 10000/10000 [01:09<00:00, 144.37it/s, b=312, bpd=1.35, l=686, val=731]\n",
      "100%|████| 50000/50000 [32:33<00:00, 25.59it/s, al=726, b=1562, bpd=1.34, l=757]\n",
      "100%|████| 10000/10000 [01:09<00:00, 143.98it/s, b=312, bpd=1.3, l=691, val=708]\n",
      "100%|████| 50000/50000 [32:32<00:00, 25.60it/s, al=713, b=1562, bpd=1.31, l=642]\n",
      "100%|████| 10000/10000 [01:09<00:00, 144.00it/s, b=312, bpd=1.3, l=760, val=707]\n",
      "100%|████| 50000/50000 [32:32<00:00, 25.61it/s, al=700, b=1562, bpd=1.29, l=652]\n",
      "100%|███| 10000/10000 [01:09<00:00, 143.83it/s, b=312, bpd=1.25, l=742, val=682]\n",
      "100%|████| 50000/50000 [32:31<00:00, 25.62it/s, al=737, b=1562, bpd=1.36, l=711]\n",
      "100%|███| 10000/10000 [01:09<00:00, 143.57it/s, b=312, bpd=1.37, l=765, val=747]\n",
      "100%|████| 50000/50000 [32:33<00:00, 25.59it/s, al=690, b=1562, bpd=1.27, l=682]\n",
      "100%|███| 10000/10000 [01:09<00:00, 143.41it/s, b=312, bpd=1.27, l=714, val=691]\n",
      "100%|████| 50000/50000 [32:33<00:00, 25.60it/s, al=680, b=1562, bpd=1.25, l=604]\n",
      "100%|███| 10000/10000 [01:09<00:00, 143.35it/s, b=312, bpd=1.24, l=738, val=676]\n",
      "100%|████| 50000/50000 [32:35<00:00, 25.57it/s, al=673, b=1562, bpd=1.24, l=698]\n",
      "100%|███| 10000/10000 [01:09<00:00, 143.29it/s, b=312, bpd=1.24, l=639, val=675]\n",
      "100%|████| 50000/50000 [32:35<00:00, 25.57it/s, al=669, b=1562, bpd=1.23, l=681]\n",
      "100%|███| 10000/10000 [01:10<00:00, 142.83it/s, b=312, bpd=1.32, l=661, val=718]\n",
      "100%|████| 50000/50000 [32:36<00:00, 25.56it/s, al=748, b=1562, bpd=1.38, l=701]\n",
      "100%|███| 10000/10000 [01:10<00:00, 142.84it/s, b=312, bpd=1.24, l=637, val=673]\n",
      "100%|████| 50000/50000 [32:37<00:00, 25.54it/s, al=664, b=1562, bpd=1.22, l=658]\n",
      "100%|███| 10000/10000 [01:10<00:00, 142.70it/s, b=312, bpd=1.22, l=662, val=665]\n",
      "100%|████| 50000/50000 [32:38<00:00, 25.53it/s, al=658, b=1562, bpd=1.21, l=657]\n",
      "100%|███| 10000/10000 [01:10<00:00, 142.40it/s, b=312, bpd=1.22, l=615, val=663]\n",
      "100%|████| 50000/50000 [32:40<00:00, 25.51it/s, al=660, b=1562, bpd=1.21, l=658]\n",
      "100%|███| 10000/10000 [01:10<00:00, 142.32it/s, b=312, bpd=1.21, l=645, val=658]\n",
      "100%|█████| 50000/50000 [32:40<00:00, 25.50it/s, al=652, b=1562, bpd=1.2, l=617]\n",
      "100%|████| 10000/10000 [01:10<00:00, 141.95it/s, b=312, bpd=1.2, l=651, val=654]\n",
      "100%|████| 50000/50000 [32:41<00:00, 25.49it/s, al=648, b=1562, bpd=1.19, l=592]\n",
      "100%|███| 10000/10000 [01:10<00:00, 141.86it/s, b=312, bpd=1.19, l=682, val=646]\n",
      "100%|████| 50000/50000 [32:43<00:00, 25.47it/s, al=645, b=1562, bpd=1.19, l=621]\n",
      "100%|████| 10000/10000 [01:10<00:00, 141.68it/s, b=312, bpd=1.2, l=666, val=653]\n",
      "100%|████| 50000/50000 [32:43<00:00, 25.46it/s, al=642, b=1562, bpd=1.18, l=600]\n",
      "100%|████| 10000/10000 [01:10<00:00, 141.33it/s, b=312, bpd=1.2, l=687, val=652]\n",
      "100%|████| 50000/50000 [32:43<00:00, 25.47it/s, al=640, b=1562, bpd=1.18, l=596]\n",
      "100%|███| 10000/10000 [01:10<00:00, 140.92it/s, b=312, bpd=1.17, l=596, val=636]\n",
      "100%|████| 50000/50000 [32:45<00:00, 25.43it/s, al=642, b=1562, bpd=1.18, l=619]\n",
      "100%|███| 10000/10000 [01:11<00:00, 139.46it/s, b=312, bpd=1.18, l=593, val=641]\n",
      "100%|████| 50000/50000 [32:44<00:00, 25.45it/s, al=636, b=1562, bpd=1.17, l=583]\n",
      "100%|███| 10000/10000 [01:11<00:00, 139.30it/s, b=312, bpd=1.17, l=655, val=638]\n",
      "100%|████| 50000/50000 [32:45<00:00, 25.43it/s, al=633, b=1562, bpd=1.17, l=589]\n",
      "100%|███| 10000/10000 [01:11<00:00, 139.14it/s, b=312, bpd=1.16, l=644, val=630]\n",
      "100%|████| 50000/50000 [32:47<00:00, 25.42it/s, al=629, b=1562, bpd=1.16, l=680]\n",
      "100%|███| 10000/10000 [01:11<00:00, 138.93it/s, b=312, bpd=1.17, l=621, val=635]\n",
      " 76%|███ | 37856/50000 [24:50<07:57, 25.43it/s, al=628, b=1182, bpd=1.16, l=613]"
     ]
    }
   ],
   "source": [
    "!python ./dcgan_wgandiv.py --dataset 'mnist' --dataroot './data' --cuda \\\n",
    "--outf './flowgan_wgan/' --log_path './flowgan_wgan.log' --batchSize 32 \\\n",
    "--imageSize 28 --niter 100  --start_epoch 0"
   ]
  },
  {
   "cell_type": "code",
   "execution_count": null,
   "metadata": {},
   "outputs": [
    {
     "name": "stdout",
     "output_type": "stream",
     "text": [
      "TensorFlow installation not found - running with reduced feature set.\n",
      "Serving TensorBoard on localhost; to expose to the network, use a proxy or pass --bind_all\n",
      "TensorBoard 2.4.0 at http://localhost:6007/ (Press CTRL+C to quit)\n"
     ]
    }
   ],
   "source": []
  },
  {
   "cell_type": "code",
   "execution_count": 2,
   "metadata": {},
   "outputs": [
    {
     "name": "stdout",
     "output_type": "stream",
     "text": [
      "Collecting tensorboard\n",
      "  Using cached tensorboard-2.4.0-py3-none-any.whl (10.6 MB)\n",
      "Requirement already satisfied: protobuf>=3.6.0 in /nfs/homedirs/qian/anaconda3/envs/myenv/lib/python3.7/site-packages (from tensorboard) (3.14.0)\n",
      "Collecting markdown>=2.6.8\n",
      "  Using cached Markdown-3.3.3-py3-none-any.whl (96 kB)\n",
      "Requirement already satisfied: requests<3,>=2.21.0 in /nfs/homedirs/qian/anaconda3/envs/myenv/lib/python3.7/site-packages (from tensorboard) (2.24.0)\n",
      "Collecting grpcio>=1.24.3\n",
      "  Downloading grpcio-1.34.0-cp37-cp37m-manylinux2014_x86_64.whl (3.9 MB)\n",
      "\u001b[K     |████████████████████████████████| 3.9 MB 8.2 MB/s eta 0:00:01\n",
      "\u001b[?25hRequirement already satisfied: wheel>=0.26; python_version >= \"3\" in /nfs/homedirs/qian/anaconda3/envs/myenv/lib/python3.7/site-packages (from tensorboard) (0.35.1)\n",
      "Collecting google-auth<2,>=1.6.3\n",
      "  Downloading google_auth-1.24.0-py2.py3-none-any.whl (114 kB)\n",
      "\u001b[K     |████████████████████████████████| 114 kB 33.1 MB/s eta 0:00:01\n",
      "\u001b[?25hCollecting absl-py>=0.4\n",
      "  Using cached absl_py-0.11.0-py3-none-any.whl (127 kB)\n",
      "Collecting google-auth-oauthlib<0.5,>=0.4.1\n",
      "  Using cached google_auth_oauthlib-0.4.2-py2.py3-none-any.whl (18 kB)\n",
      "Collecting tensorboard-plugin-wit>=1.6.0\n",
      "  Using cached tensorboard_plugin_wit-1.7.0-py3-none-any.whl (779 kB)\n",
      "Requirement already satisfied: numpy>=1.12.0 in /nfs/homedirs/qian/anaconda3/envs/myenv/lib/python3.7/site-packages (from tensorboard) (1.19.2)\n",
      "Requirement already satisfied: setuptools>=41.0.0 in /nfs/homedirs/qian/anaconda3/envs/myenv/lib/python3.7/site-packages (from tensorboard) (50.3.0.post20201006)\n",
      "Collecting werkzeug>=0.11.15\n",
      "  Using cached Werkzeug-1.0.1-py2.py3-none-any.whl (298 kB)\n",
      "Requirement already satisfied: six>=1.10.0 in /nfs/homedirs/qian/anaconda3/envs/myenv/lib/python3.7/site-packages (from tensorboard) (1.15.0)\n",
      "Requirement already satisfied: importlib-metadata; python_version < \"3.8\" in /nfs/homedirs/qian/anaconda3/envs/myenv/lib/python3.7/site-packages (from markdown>=2.6.8->tensorboard) (2.0.0)\n",
      "Requirement already satisfied: idna<3,>=2.5 in /nfs/homedirs/qian/anaconda3/envs/myenv/lib/python3.7/site-packages (from requests<3,>=2.21.0->tensorboard) (2.10)\n",
      "Requirement already satisfied: urllib3!=1.25.0,!=1.25.1,<1.26,>=1.21.1 in /nfs/homedirs/qian/anaconda3/envs/myenv/lib/python3.7/site-packages (from requests<3,>=2.21.0->tensorboard) (1.25.11)\n",
      "Requirement already satisfied: certifi>=2017.4.17 in /nfs/homedirs/qian/anaconda3/envs/myenv/lib/python3.7/site-packages (from requests<3,>=2.21.0->tensorboard) (2020.11.8)\n",
      "Requirement already satisfied: chardet<4,>=3.0.2 in /nfs/homedirs/qian/anaconda3/envs/myenv/lib/python3.7/site-packages (from requests<3,>=2.21.0->tensorboard) (3.0.4)\n",
      "Collecting pyasn1-modules>=0.2.1\n",
      "  Using cached pyasn1_modules-0.2.8-py2.py3-none-any.whl (155 kB)\n",
      "Collecting cachetools<5.0,>=2.0.0\n",
      "  Downloading cachetools-4.2.0-py3-none-any.whl (12 kB)\n",
      "Collecting rsa<5,>=3.1.4; python_version >= \"3.6\"\n",
      "  Using cached rsa-4.6-py3-none-any.whl (47 kB)\n",
      "Collecting requests-oauthlib>=0.7.0\n",
      "  Using cached requests_oauthlib-1.3.0-py2.py3-none-any.whl (23 kB)\n",
      "Requirement already satisfied: zipp>=0.5 in /nfs/homedirs/qian/anaconda3/envs/myenv/lib/python3.7/site-packages (from importlib-metadata; python_version < \"3.8\"->markdown>=2.6.8->tensorboard) (3.4.0)\n",
      "Collecting pyasn1<0.5.0,>=0.4.6\n",
      "  Using cached pyasn1-0.4.8-py2.py3-none-any.whl (77 kB)\n",
      "Collecting oauthlib>=3.0.0\n",
      "  Using cached oauthlib-3.1.0-py2.py3-none-any.whl (147 kB)\n",
      "Installing collected packages: markdown, grpcio, pyasn1, pyasn1-modules, cachetools, rsa, google-auth, absl-py, oauthlib, requests-oauthlib, google-auth-oauthlib, tensorboard-plugin-wit, werkzeug, tensorboard\n",
      "Successfully installed absl-py-0.11.0 cachetools-4.2.0 google-auth-1.24.0 google-auth-oauthlib-0.4.2 grpcio-1.34.0 markdown-3.3.3 oauthlib-3.1.0 pyasn1-0.4.8 pyasn1-modules-0.2.8 requests-oauthlib-1.3.0 rsa-4.6 tensorboard-2.4.0 tensorboard-plugin-wit-1.7.0 werkzeug-1.0.1\n"
     ]
    }
   ],
   "source": [
    "!pip install tensorboard"
   ]
  },
  {
   "cell_type": "code",
   "execution_count": null,
   "metadata": {},
   "outputs": [],
   "source": []
  }
 ],
 "metadata": {
  "kernelspec": {
   "display_name": "Python 3",
   "language": "python",
   "name": "python3"
  },
  "language_info": {
   "codemirror_mode": {
    "name": "ipython",
    "version": 3
   },
   "file_extension": ".py",
   "mimetype": "text/x-python",
   "name": "python",
   "nbconvert_exporter": "python",
   "pygments_lexer": "ipython3",
   "version": "3.7.9"
  }
 },
 "nbformat": 4,
 "nbformat_minor": 4
}
