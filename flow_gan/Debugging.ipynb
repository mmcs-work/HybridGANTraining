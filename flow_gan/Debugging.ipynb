{
 "cells": [
  {
   "cell_type": "code",
   "execution_count": 42,
   "metadata": {},
   "outputs": [
    {
     "name": "stdout",
     "output_type": "stream",
     "text": [
      "Namespace(batchSize=32, beta1=0.5, classes='bedroom', cuda=True, dataroot='./data', dataset='mnist', dry_run=False, generate=0, generate_img_nums=100, generate_loc='', imageSize=28, likelihood=0, log_path='./flowgan_wgan.log', lr=0.0002, manualSeed=None, ndf=28, netD='', netG='', ngf=28, ngpu=1, niter=100, nz=100, outf='./flowgan_wgan/', root_dir=None, start_epoch=0, workers=2)\n",
      "Random Seed: r 3260\n",
      "  0%|                                                   | 0/500 [00:00<?, ?it/s]---------------\n",
      "  6%| | 32/500 [00:01<00:28, 16.25it/s, batch=0, epoch=0, likelihood=tensor(7138---------------\n",
      " 13%|▏| 64/500 [00:03<00:24, 17.73it/s, batch=1, epoch=0, likelihood=tensor(7066---------------\n",
      " 19%|▏| 96/500 [00:04<00:21, 18.91it/s, batch=2, epoch=0, likelihood=tensor(7219---------------\n",
      " 26%|▎| 128/500 [00:06<00:18, 19.87it/s, batch=3, epoch=0, likelihood=tensor(711---------------\n",
      " 32%|▎| 160/500 [00:07<00:16, 20.59it/s, batch=4, epoch=0, likelihood=tensor(720---------------\n",
      " 38%|▍| 192/500 [00:09<00:14, 21.09it/s, batch=5, epoch=0, likelihood=tensor(722---------------\n",
      "^C\n"
     ]
    }
   ],
   "source": [
    "!python ./dcgan_wgandiv.py --dataset 'mnist' --dataroot './data' --cuda --outf './flowgan_wgan/' --log_path './flowgan_wgan.log' --batchSize 32 --imageSize 28 --niter 100  --start_epoch 0"
   ]
  },
  {
   "cell_type": "code",
   "execution_count": null,
   "metadata": {},
   "outputs": [],
   "source": []
  }
 ],
 "metadata": {
  "kernelspec": {
   "display_name": "Python 3",
   "language": "python",
   "name": "python3"
  },
  "language_info": {
   "codemirror_mode": {
    "name": "ipython",
    "version": 3
   },
   "file_extension": ".py",
   "mimetype": "text/x-python",
   "name": "python",
   "nbconvert_exporter": "python",
   "pygments_lexer": "ipython3",
   "version": "3.8.3"
  }
 },
 "nbformat": 4,
 "nbformat_minor": 4
}
