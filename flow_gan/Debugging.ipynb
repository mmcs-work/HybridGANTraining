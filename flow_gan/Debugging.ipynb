{
 "cells": [
  {
   "cell_type": "code",
   "execution_count": 5,
   "metadata": {
    "scrolled": true
   },
   "outputs": [
    {
     "name": "stdout",
     "output_type": "stream",
     "text": [
      "Namespace(batchSize=32, beta1=0.5, classes='bedroom', cuda=True, dataroot='./data', dataset='mnist', dry_run=False, generate=0, generate_img_nums=100, generate_loc='', imageSize=28, likelihood=0, log_path='./flowgan_wgan.log', lr=0.0002, manualSeed=None, ndf=28, netD='', netG='', ngf=28, ngpu=1, niter=100, nz=100, outf='./flowgan_wgan/', root_dir=None, start_epoch=0, workers=2)\n",
      "Random Seed: r 1788\n",
      " 67%|▋| 33568/50000 [07:36<03:42, 73.75it/s, al=1.44e+3, b=1048, bpd=2.65, l=1.3^C\n",
      " 67%|▋| 33568/50000 [07:37<03:43, 73.40it/s, al=1.44e+3, b=1048, bpd=2.65, l=1.3\n",
      "Traceback (most recent call last):\n",
      "  File \"./dcgan_wgandiv.py\", line 418, in <module>\n",
      "    hybrid.backward()\n",
      "  File \"/nfs/homedirs/qian/anaconda3/envs/myenv/lib/python3.7/site-packages/torch/tensor.py\", line 221, in backward\n",
      "    torch.autograd.backward(self, gradient, retain_graph, create_graph)\n",
      "  File \"/nfs/homedirs/qian/anaconda3/envs/myenv/lib/python3.7/site-packages/torch/autograd/__init__.py\", line 132, in backward\n",
      "    allow_unreachable=True)  # allow_unreachable flag\n",
      "KeyboardInterrupt\n",
      "Traceback (most recent call last):\n",
      "  File \"/nfs/homedirs/qian/anaconda3/envs/myenv/lib/python3.7/multiprocessing/queues.py\", line 242, in _feed\n",
      "    send_bytes(obj)\n",
      "  File \"/nfs/homedirs/qian/anaconda3/envs/myenv/lib/python3.7/multiprocessing/connection.py\", line 200, in send_bytes\n",
      "    self._send_bytes(m[offset:offset + size])\n",
      "  File \"/nfs/homedirs/qian/anaconda3/envs/myenv/lib/python3.7/multiprocessing/connection.py\", line 404, in _send_bytes\n",
      "    self._send(header + buf)\n",
      "  File \"/nfs/homedirs/qian/anaconda3/envs/myenv/lib/python3.7/multiprocessing/connection.py\", line 368, in _send\n",
      "    n = write(self._handle, buf)\n",
      "BrokenPipeError: [Errno 32] Broken pipe\n",
      "Traceback (most recent call last):\n",
      "  File \"/nfs/homedirs/qian/anaconda3/envs/myenv/lib/python3.7/multiprocessing/queues.py\", line 242, in _feed\n",
      "    send_bytes(obj)\n",
      "  File \"/nfs/homedirs/qian/anaconda3/envs/myenv/lib/python3.7/multiprocessing/connection.py\", line 200, in send_bytes\n",
      "    self._send_bytes(m[offset:offset + size])\n",
      "  File \"/nfs/homedirs/qian/anaconda3/envs/myenv/lib/python3.7/multiprocessing/connection.py\", line 404, in _send_bytes\n",
      "    self._send(header + buf)\n",
      "  File \"/nfs/homedirs/qian/anaconda3/envs/myenv/lib/python3.7/multiprocessing/connection.py\", line 368, in _send\n",
      "    n = write(self._handle, buf)\n",
      "BrokenPipeError: [Errno 32] Broken pipe\n"
     ]
    }
   ],
   "source": [
    "!python ./dcgan_wgandiv.py --dataset 'mnist' --dataroot './data' --cuda \\\n",
    "--outf './flowgan_wgan/' --log_path './flowgan_wgan.log' --batchSize 32 \\\n",
    "--imageSize 28 --niter 100  --start_epoch 0"
   ]
  },
  {
   "cell_type": "code",
   "execution_count": null,
   "metadata": {},
   "outputs": [
    {
     "name": "stdout",
     "output_type": "stream",
     "text": [
      "TensorFlow installation not found - running with reduced feature set.\n",
      "Serving TensorBoard on localhost; to expose to the network, use a proxy or pass --bind_all\n",
      "TensorBoard 2.4.0 at http://localhost:6007/ (Press CTRL+C to quit)\n"
     ]
    }
   ],
   "source": []
  },
  {
   "cell_type": "code",
   "execution_count": 2,
   "metadata": {},
   "outputs": [
    {
     "name": "stdout",
     "output_type": "stream",
     "text": [
      "Collecting tensorboard\n",
      "  Using cached tensorboard-2.4.0-py3-none-any.whl (10.6 MB)\n",
      "Requirement already satisfied: protobuf>=3.6.0 in /nfs/homedirs/qian/anaconda3/envs/myenv/lib/python3.7/site-packages (from tensorboard) (3.14.0)\n",
      "Collecting markdown>=2.6.8\n",
      "  Using cached Markdown-3.3.3-py3-none-any.whl (96 kB)\n",
      "Requirement already satisfied: requests<3,>=2.21.0 in /nfs/homedirs/qian/anaconda3/envs/myenv/lib/python3.7/site-packages (from tensorboard) (2.24.0)\n",
      "Collecting grpcio>=1.24.3\n",
      "  Downloading grpcio-1.34.0-cp37-cp37m-manylinux2014_x86_64.whl (3.9 MB)\n",
      "\u001b[K     |████████████████████████████████| 3.9 MB 8.2 MB/s eta 0:00:01\n",
      "\u001b[?25hRequirement already satisfied: wheel>=0.26; python_version >= \"3\" in /nfs/homedirs/qian/anaconda3/envs/myenv/lib/python3.7/site-packages (from tensorboard) (0.35.1)\n",
      "Collecting google-auth<2,>=1.6.3\n",
      "  Downloading google_auth-1.24.0-py2.py3-none-any.whl (114 kB)\n",
      "\u001b[K     |████████████████████████████████| 114 kB 33.1 MB/s eta 0:00:01\n",
      "\u001b[?25hCollecting absl-py>=0.4\n",
      "  Using cached absl_py-0.11.0-py3-none-any.whl (127 kB)\n",
      "Collecting google-auth-oauthlib<0.5,>=0.4.1\n",
      "  Using cached google_auth_oauthlib-0.4.2-py2.py3-none-any.whl (18 kB)\n",
      "Collecting tensorboard-plugin-wit>=1.6.0\n",
      "  Using cached tensorboard_plugin_wit-1.7.0-py3-none-any.whl (779 kB)\n",
      "Requirement already satisfied: numpy>=1.12.0 in /nfs/homedirs/qian/anaconda3/envs/myenv/lib/python3.7/site-packages (from tensorboard) (1.19.2)\n",
      "Requirement already satisfied: setuptools>=41.0.0 in /nfs/homedirs/qian/anaconda3/envs/myenv/lib/python3.7/site-packages (from tensorboard) (50.3.0.post20201006)\n",
      "Collecting werkzeug>=0.11.15\n",
      "  Using cached Werkzeug-1.0.1-py2.py3-none-any.whl (298 kB)\n",
      "Requirement already satisfied: six>=1.10.0 in /nfs/homedirs/qian/anaconda3/envs/myenv/lib/python3.7/site-packages (from tensorboard) (1.15.0)\n",
      "Requirement already satisfied: importlib-metadata; python_version < \"3.8\" in /nfs/homedirs/qian/anaconda3/envs/myenv/lib/python3.7/site-packages (from markdown>=2.6.8->tensorboard) (2.0.0)\n",
      "Requirement already satisfied: idna<3,>=2.5 in /nfs/homedirs/qian/anaconda3/envs/myenv/lib/python3.7/site-packages (from requests<3,>=2.21.0->tensorboard) (2.10)\n",
      "Requirement already satisfied: urllib3!=1.25.0,!=1.25.1,<1.26,>=1.21.1 in /nfs/homedirs/qian/anaconda3/envs/myenv/lib/python3.7/site-packages (from requests<3,>=2.21.0->tensorboard) (1.25.11)\n",
      "Requirement already satisfied: certifi>=2017.4.17 in /nfs/homedirs/qian/anaconda3/envs/myenv/lib/python3.7/site-packages (from requests<3,>=2.21.0->tensorboard) (2020.11.8)\n",
      "Requirement already satisfied: chardet<4,>=3.0.2 in /nfs/homedirs/qian/anaconda3/envs/myenv/lib/python3.7/site-packages (from requests<3,>=2.21.0->tensorboard) (3.0.4)\n",
      "Collecting pyasn1-modules>=0.2.1\n",
      "  Using cached pyasn1_modules-0.2.8-py2.py3-none-any.whl (155 kB)\n",
      "Collecting cachetools<5.0,>=2.0.0\n",
      "  Downloading cachetools-4.2.0-py3-none-any.whl (12 kB)\n",
      "Collecting rsa<5,>=3.1.4; python_version >= \"3.6\"\n",
      "  Using cached rsa-4.6-py3-none-any.whl (47 kB)\n",
      "Collecting requests-oauthlib>=0.7.0\n",
      "  Using cached requests_oauthlib-1.3.0-py2.py3-none-any.whl (23 kB)\n",
      "Requirement already satisfied: zipp>=0.5 in /nfs/homedirs/qian/anaconda3/envs/myenv/lib/python3.7/site-packages (from importlib-metadata; python_version < \"3.8\"->markdown>=2.6.8->tensorboard) (3.4.0)\n",
      "Collecting pyasn1<0.5.0,>=0.4.6\n",
      "  Using cached pyasn1-0.4.8-py2.py3-none-any.whl (77 kB)\n",
      "Collecting oauthlib>=3.0.0\n",
      "  Using cached oauthlib-3.1.0-py2.py3-none-any.whl (147 kB)\n",
      "Installing collected packages: markdown, grpcio, pyasn1, pyasn1-modules, cachetools, rsa, google-auth, absl-py, oauthlib, requests-oauthlib, google-auth-oauthlib, tensorboard-plugin-wit, werkzeug, tensorboard\n",
      "Successfully installed absl-py-0.11.0 cachetools-4.2.0 google-auth-1.24.0 google-auth-oauthlib-0.4.2 grpcio-1.34.0 markdown-3.3.3 oauthlib-3.1.0 pyasn1-0.4.8 pyasn1-modules-0.2.8 requests-oauthlib-1.3.0 rsa-4.6 tensorboard-2.4.0 tensorboard-plugin-wit-1.7.0 werkzeug-1.0.1\n"
     ]
    }
   ],
   "source": [
    "!pip install tensorboard"
   ]
  },
  {
   "cell_type": "code",
   "execution_count": null,
   "metadata": {},
   "outputs": [],
   "source": []
  }
 ],
 "metadata": {
  "kernelspec": {
   "display_name": "Python 3",
   "language": "python",
   "name": "python3"
  },
  "language_info": {
   "codemirror_mode": {
    "name": "ipython",
    "version": 3
   },
   "file_extension": ".py",
   "mimetype": "text/x-python",
   "name": "python",
   "nbconvert_exporter": "python",
   "pygments_lexer": "ipython3",
   "version": "3.7.9"
  }
 },
 "nbformat": 4,
 "nbformat_minor": 4
}
