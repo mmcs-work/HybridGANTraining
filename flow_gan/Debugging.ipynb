{
 "cells": [
  {
   "cell_type": "code",
   "execution_count": 87,
   "metadata": {
    "scrolled": true
   },
   "outputs": [
    {
     "name": "stdout",
     "output_type": "stream",
     "text": [
      "Namespace(batchSize=64, beta1=0.5, classes='bedroom', cuda=True, dataroot='./data', dataset='mnist', dry_run=False, generate=0, generate_img_nums=100, generate_loc='', imageSize=28, likelihood=0, log_path='./flowgan_wgan.log', lr=0.0002, manualSeed=None, ndf=28, netD='', netG='', ngf=28, ngpu=1, niter=100, nz=100, outf='./flowgan_wgan/', root_dir=None, start_epoch=0, workers=2)\n",
      "Random Seed: r 5336\n",
      "100%|█| 1000/1000 [00:36<00:00, 27.77it/s, al=4.18e+3, b=15, bpd=7.7, l=3.25e+3]\n",
      "1280it [00:08, 158.46it/s, b=31, bpd=5.73, l=3.1e+3, val=3.11e+3]               \n",
      "100%|█| 1000/1000 [00:35<00:00, 28.48it/s, al=3.04e+3, b=15, bpd=5.59, l=2.67e+3\n",
      "1280it [00:07, 160.82it/s, b=31, bpd=4.95, l=2.63e+3, val=2.69e+3]              \n",
      "100%|█| 1000/1000 [00:35<00:00, 28.46it/s, al=2.45e+3, b=15, bpd=4.52, l=2.19e+3\n",
      "1280it [00:07, 161.37it/s, b=31, bpd=4.15, l=2.28e+3, val=2.26e+3]              \n",
      " 70%|██▊ | 704/1000 [00:24<00:10, 28.79it/s, al=2.16e+3, b=10, bpd=3.97, l=2e+3]^C\n",
      " 70%|██▊ | 704/1000 [00:26<00:11, 26.46it/s, al=2.16e+3, b=10, bpd=3.97, l=2e+3]\n",
      "Traceback (most recent call last):\n",
      "  File \"./dcgan_wgandiv.py\", line 418, in <module>\n",
      "    hybrid.backward()\n",
      "  File \"/nfs/students/winter-term-2020/project-5/manna/lib/python3.8/site-packages/torch/tensor.py\", line 221, in backward\n",
      "    torch.autograd.backward(self, gradient, retain_graph, create_graph)\n",
      "  File \"/nfs/students/winter-term-2020/project-5/manna/lib/python3.8/site-packages/torch/autograd/__init__.py\", line 130, in backward\n",
      "Traceback (most recent call last):\n",
      "  File \"/nfs/students/winter-term-2020/project-5/manna/lib/python3.8/multiprocessing/queues.py\", line 245, in _feed\n",
      "    send_bytes(obj)\n",
      "  File \"/nfs/students/winter-term-2020/project-5/manna/lib/python3.8/multiprocessing/connection.py\", line 200, in send_bytes\n",
      "    self._send_bytes(m[offset:offset + size])\n",
      "  File \"/nfs/students/winter-term-2020/project-5/manna/lib/python3.8/multiprocessing/connection.py\", line 411, in _send_bytes\n",
      "    self._send(header + buf)\n",
      "  File \"/nfs/students/winter-term-2020/project-5/manna/lib/python3.8/multiprocessing/connection.py\", line 368, in _send\n",
      "    n = write(self._handle, buf)\n",
      "BrokenPipeError: [Errno 32] Broken pipe\n",
      "Traceback (most recent call last):\n",
      "  File \"/nfs/students/winter-term-2020/project-5/manna/lib/python3.8/multiprocessing/queues.py\", line 245, in _feed\n",
      "    send_bytes(obj)\n",
      "  File \"/nfs/students/winter-term-2020/project-5/manna/lib/python3.8/multiprocessing/connection.py\", line 200, in send_bytes\n",
      "    self._send_bytes(m[offset:offset + size])\n",
      "  File \"/nfs/students/winter-term-2020/project-5/manna/lib/python3.8/multiprocessing/connection.py\", line 411, in _send_bytes\n",
      "    self._send(header + buf)\n",
      "  File \"/nfs/students/winter-term-2020/project-5/manna/lib/python3.8/multiprocessing/connection.py\", line 368, in _send\n",
      "    n = write(self._handle, buf)\n",
      "BrokenPipeError: [Errno 32] Broken pipe\n",
      "    Variable._execution_engine.run_backward(\n",
      "KeyboardInterrupt\n"
     ]
    }
   ],
   "source": [
    "!python ./dcgan_wgandiv.py --dataset 'mnist' --dataroot './data' --cuda --outf './flowgan_wgan/' --log_path './flowgan_wgan.log' --batchSize 64 --imageSize 28 --niter 100  --start_epoch 0"
   ]
  },
  {
   "cell_type": "code",
   "execution_count": null,
   "metadata": {},
   "outputs": [
    {
     "name": "stdout",
     "output_type": "stream",
     "text": [
      "TensorFlow installation not found - running with reduced feature set.\n",
      "Serving TensorBoard on localhost; to expose to the network, use a proxy or pass --bind_all\n",
      "TensorBoard 2.4.0 at http://localhost:6007/ (Press CTRL+C to quit)\n"
     ]
    }
   ],
   "source": []
  },
  {
   "cell_type": "code",
   "execution_count": 47,
   "metadata": {},
   "outputs": [
    {
     "name": "stdout",
     "output_type": "stream",
     "text": [
      "Collecting tensorboard\n",
      "  Using cached tensorboard-2.4.0-py3-none-any.whl (10.6 MB)\n",
      "Requirement already satisfied: setuptools>=41.0.0 in /nfs/students/winter-term-2020/project-5/manna/lib/python3.8/site-packages (from tensorboard) (49.2.0.post20200714)\n",
      "Collecting grpcio>=1.24.3\n",
      "  Downloading grpcio-1.34.0-cp38-cp38-manylinux2014_x86_64.whl (4.0 MB)\n",
      "\u001b[K     |████████████████████████████████| 4.0 MB 8.0 MB/s eta 0:00:01\n",
      "\u001b[?25hRequirement already satisfied: wheel>=0.26; python_version >= \"3\" in /nfs/students/winter-term-2020/project-5/manna/lib/python3.8/site-packages (from tensorboard) (0.34.2)\n",
      "Collecting markdown>=2.6.8\n",
      "  Using cached Markdown-3.3.3-py3-none-any.whl (96 kB)\n",
      "Collecting google-auth<2,>=1.6.3\n",
      "  Downloading google_auth-1.24.0-py2.py3-none-any.whl (114 kB)\n",
      "\u001b[K     |████████████████████████████████| 114 kB 39.8 MB/s eta 0:00:01\n",
      "\u001b[?25hRequirement already satisfied: six>=1.10.0 in /nfs/students/winter-term-2020/project-5/manna/lib/python3.8/site-packages (from tensorboard) (1.15.0)\n",
      "Collecting google-auth-oauthlib<0.5,>=0.4.1\n",
      "  Using cached google_auth_oauthlib-0.4.2-py2.py3-none-any.whl (18 kB)\n",
      "Requirement already satisfied: numpy>=1.12.0 in /nfs/students/winter-term-2020/project-5/manna/lib/python3.8/site-packages (from tensorboard) (1.18.5)\n",
      "Collecting protobuf>=3.6.0\n",
      "  Downloading protobuf-3.14.0-cp38-cp38-manylinux1_x86_64.whl (1.0 MB)\n",
      "\u001b[K     |████████████████████████████████| 1.0 MB 49.5 MB/s eta 0:00:01\n",
      "\u001b[?25hRequirement already satisfied: requests<3,>=2.21.0 in /nfs/students/winter-term-2020/project-5/manna/lib/python3.8/site-packages (from tensorboard) (2.24.0)\n",
      "Collecting tensorboard-plugin-wit>=1.6.0\n",
      "  Using cached tensorboard_plugin_wit-1.7.0-py3-none-any.whl (779 kB)\n",
      "Requirement already satisfied: werkzeug>=0.11.15 in /nfs/students/winter-term-2020/project-5/manna/lib/python3.8/site-packages (from tensorboard) (1.0.1)\n",
      "Collecting absl-py>=0.4\n",
      "  Using cached absl_py-0.11.0-py3-none-any.whl (127 kB)\n",
      "Collecting cachetools<5.0,>=2.0.0\n",
      "  Downloading cachetools-4.2.0-py3-none-any.whl (12 kB)\n",
      "Collecting rsa<5,>=3.1.4; python_version >= \"3.6\"\n",
      "  Using cached rsa-4.6-py3-none-any.whl (47 kB)\n",
      "Collecting pyasn1-modules>=0.2.1\n",
      "  Using cached pyasn1_modules-0.2.8-py2.py3-none-any.whl (155 kB)\n",
      "Collecting requests-oauthlib>=0.7.0\n",
      "  Using cached requests_oauthlib-1.3.0-py2.py3-none-any.whl (23 kB)\n",
      "Requirement already satisfied: urllib3!=1.25.0,!=1.25.1,<1.26,>=1.21.1 in /nfs/students/winter-term-2020/project-5/manna/lib/python3.8/site-packages (from requests<3,>=2.21.0->tensorboard) (1.25.9)\n",
      "Requirement already satisfied: certifi>=2017.4.17 in /nfs/students/winter-term-2020/project-5/manna/lib/python3.8/site-packages (from requests<3,>=2.21.0->tensorboard) (2020.6.20)\n",
      "Requirement already satisfied: idna<3,>=2.5 in /nfs/students/winter-term-2020/project-5/manna/lib/python3.8/site-packages (from requests<3,>=2.21.0->tensorboard) (2.10)\n",
      "Requirement already satisfied: chardet<4,>=3.0.2 in /nfs/students/winter-term-2020/project-5/manna/lib/python3.8/site-packages (from requests<3,>=2.21.0->tensorboard) (3.0.4)\n",
      "Collecting pyasn1>=0.1.3\n",
      "  Using cached pyasn1-0.4.8-py2.py3-none-any.whl (77 kB)\n",
      "Collecting oauthlib>=3.0.0\n",
      "  Using cached oauthlib-3.1.0-py2.py3-none-any.whl (147 kB)\n",
      "Installing collected packages: grpcio, markdown, cachetools, pyasn1, rsa, pyasn1-modules, google-auth, oauthlib, requests-oauthlib, google-auth-oauthlib, protobuf, tensorboard-plugin-wit, absl-py, tensorboard\n",
      "Successfully installed absl-py-0.11.0 cachetools-4.2.0 google-auth-1.24.0 google-auth-oauthlib-0.4.2 grpcio-1.34.0 markdown-3.3.3 oauthlib-3.1.0 protobuf-3.14.0 pyasn1-0.4.8 pyasn1-modules-0.2.8 requests-oauthlib-1.3.0 rsa-4.6 tensorboard-2.4.0 tensorboard-plugin-wit-1.7.0\n"
     ]
    }
   ],
   "source": [
    "!pip install tensorboard"
   ]
  }
 ],
 "metadata": {
  "kernelspec": {
   "display_name": "Python 3",
   "language": "python",
   "name": "python3"
  },
  "language_info": {
   "codemirror_mode": {
    "name": "ipython",
    "version": 3
   },
   "file_extension": ".py",
   "mimetype": "text/x-python",
   "name": "python",
   "nbconvert_exporter": "python",
   "pygments_lexer": "ipython3",
   "version": "3.8.3"
  }
 },
 "nbformat": 4,
 "nbformat_minor": 4
}
