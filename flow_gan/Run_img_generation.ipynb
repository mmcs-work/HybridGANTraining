{
 "cells": [
  {
   "cell_type": "markdown",
   "metadata": {},
   "source": [
    "This for GAN for flow. The FID score is \n",
    "\n",
    "\n",
    "\n",
    "|  Model Name      |  FID SCORE  |  \n",
    "|---|---|\n",
    "| GANFORFLOW  |  123.4985400174682 |\n",
    "|   |   |\n",
    "|   |   |"
   ]
  },
  {
   "cell_type": "code",
   "execution_count": 8,
   "metadata": {},
   "outputs": [],
   "source": [
    "!rm -rf ./Generated_Images/GAN_FOR_FLOW/"
   ]
  },
  {
   "cell_type": "markdown",
   "metadata": {},
   "source": [
    "## GAN for flow"
   ]
  },
  {
   "cell_type": "code",
   "execution_count": 10,
   "metadata": {},
   "outputs": [
    {
     "name": "stdout",
     "output_type": "stream",
     "text": [
      "Namespace(batchSize=64, beta1=0.5, classes='bedroom', cuda=True, dataroot='./data', dataset='mnist', dry_run=False, generate=1, generate_img_nums=10000, generate_loc='./Generated_Images/GAN_FOR_FLOW', imageSize=28, log_path='./GAN_for_flow.log', lr=0.0002, manualSeed=None, ndf=28, netD='./GAN_for_flow/netD_epoch_149.pth', netG='./GAN_for_flow/netG_epoch_149.pth', ngf=28, ngpu=1, niter=150, nz=100, outf='./GAN_for_flow', start_epoch=100, workers=2)\n",
      "Random Seed: r 8161\n",
      "100%|█████████████████████████████████████████| 157/157 [01:12<00:00,  2.17it/s]\n"
     ]
    }
   ],
   "source": [
    "!python ./dcgan_cp.py --niter 150 --dataset 'mnist' --dataroot './data' --cuda --outf './GAN_for_flow' --log_path './GAN_for_flow.log' --batchSize 64  --imageSize 28  --start_epoch 100 --netD './GAN_for_flow/netD_epoch_149.pth'  --netG  './GAN_for_flow/netG_epoch_149.pth' --generate 1 --generate_loc './Generated_Images/GAN_FOR_FLOW' --generate_img_nums 10000"
   ]
  },
  {
   "cell_type": "code",
   "execution_count": 11,
   "metadata": {},
   "outputs": [
    {
     "name": "stdout",
     "output_type": "stream",
     "text": [
      "100%|███████████████████████████████████████| 1200/1200 [02:22<00:00,  8.41it/s]\n",
      "100%|█████████████████████████████████████████| 201/201 [00:29<00:00,  6.90it/s]\n",
      "FID:  123.4985400174682\n"
     ]
    }
   ],
   "source": [
    "!python -m pytorch_fid '/nfs/students/winter-term-2020/project-5/project-5-manna/flow_gan/mnistdata/mnist_png/training/' './Generated_Images/GAN_FOR_FLOW'"
   ]
  },
  {
   "cell_type": "markdown",
   "metadata": {},
   "source": [
    "### Vanilla DCGAN"
   ]
  },
  {
   "cell_type": "code",
   "execution_count": 8,
   "metadata": {},
   "outputs": [
    {
     "name": "stdout",
     "output_type": "stream",
     "text": [
      "Namespace(batchSize=64, beta1=0.5, classes='bedroom', cuda=True, dataroot='/nfs/students/winter-term-2020/project-5/project-5/flow_gan/data', dataset='mnist', dry_run=False, generate=1, generate_img_nums=10000, generate_loc='./Generated_Images/Vanilla_DCGAN', imageSize=64, lr=0.0002, manualSeed=None, ndf=64, netD='/nfs/students/winter-term-2020/project-5/dcgan/results/netD_epoch_22.pth', netG='/nfs/students/winter-term-2020/project-5/dcgan/results/netG_epoch_22.pth', ngf=64, ngpu=1, niter=25, nz=100, outf='./results', workers=2)\n",
      "Random Seed:  7716\n",
      "100%|█████████████████████████████████████████| 157/157 [00:50<00:00,  3.08it/s]\n"
     ]
    }
   ],
   "source": [
    "!python ../../dcgan/dcgan.py --dataset 'mnist' --dataroot '/nfs/students/winter-term-2020/project-5/project-5/flow_gan/data' --cuda --outf ./results --netD '/nfs/students/winter-term-2020/project-5/dcgan/results/netD_epoch_22.pth' --netG '/nfs/students/winter-term-2020/project-5/dcgan/results/netG_epoch_22.pth' --generate 1 --generate_loc './Generated_Images/Vanilla_DCGAN' --generate_img_nums 10000 "
   ]
  },
  {
   "cell_type": "code",
   "execution_count": 10,
   "metadata": {
    "scrolled": true
   },
   "outputs": [
    {
     "name": "stdout",
     "output_type": "stream",
     "text": [
      "100%|███████████████████████████████████████| 1200/1200 [02:21<00:00,  8.51it/s]\n",
      "100%|█████████████████████████████████████████| 201/201 [00:30<00:00,  6.58it/s]\n",
      "FID:  271.2779278523886\n"
     ]
    }
   ],
   "source": [
    "!python -m pytorch_fid '/nfs/students/winter-term-2020/project-5/project-5-manna/flow_gan/mnistdata/mnist_png/training/' './Generated_Images/Vanilla_DCGAN'"
   ]
  },
  {
   "cell_type": "markdown",
   "metadata": {},
   "source": [
    "## flowgan with variant alpha"
   ]
  },
  {
   "cell_type": "code",
   "execution_count": 4,
   "metadata": {},
   "outputs": [
    {
     "name": "stdout",
     "output_type": "stream",
     "text": [
      "Namespace(batchSize=64, beta1=0.5, classes='bedroom', cuda=True, dataroot='./data', dataset='mnist', dry_run=False, generate=1, generate_img_nums=10000, generate_loc='./Generated_Images/flowgan_variant_alpha', imageSize=28, log_path='./GAN_for_flow.log', lr=0.0002, manualSeed=None, ndf=28, netD='./samples_hybrid_decay/netD_epoch_53.pth', netG='./samples_hybrid_decay/netG_epoch_53.pth', ngf=28, ngpu=1, niter=150, nz=100, outf='./GAN_for_flow', start_epoch=100, workers=2)\n",
      "Random Seed: r 339\n",
      "100%|█████████████████████████████████████████| 157/157 [01:14<00:00,  2.12it/s]\n"
     ]
    }
   ],
   "source": [
    "!python ./dcgan_run.py --niter 150 --dataset 'mnist' --dataroot './data' --cuda --outf './GAN_for_flow' --log_path './GAN_for_flow.log' --batchSize 64  --imageSize 28  --start_epoch 100 --netG './samples_hybrid_decay/netG_epoch_53.pth'  --netD './samples_hybrid_decay/netD_epoch_53.pth'  --generate 1 --generate_loc './Generated_Images/flowgan_variant_alpha' --generate_img_nums 10000"
   ]
  },
  {
   "cell_type": "code",
   "execution_count": 11,
   "metadata": {},
   "outputs": [
    {
     "name": "stdout",
     "output_type": "stream",
     "text": [
      "100%|███████████████████████████████████████| 1200/1200 [02:17<00:00,  8.72it/s]\n",
      "100%|█████████████████████████████████████████| 201/201 [00:27<00:00,  7.36it/s]\n",
      "FID:  100.88221385585481\n"
     ]
    }
   ],
   "source": [
    "!python -m pytorch_fid '/nfs/students/winter-term-2020/project-5/project-5-manna/flow_gan/mnistdata/mnist_png/training/' './Generated_Images/flowgan_variant_alpha'"
   ]
  },
  {
   "cell_type": "code",
   "execution_count": null,
   "metadata": {},
   "outputs": [],
   "source": []
  },
  {
   "cell_type": "code",
   "execution_count": null,
   "metadata": {},
   "outputs": [],
   "source": []
  },
  {
   "cell_type": "markdown",
   "metadata": {},
   "source": [
    "## flowgan with ADV"
   ]
  },
  {
   "cell_type": "code",
   "execution_count": 6,
   "metadata": {},
   "outputs": [
    {
     "name": "stdout",
     "output_type": "stream",
     "text": [
      "Namespace(batchSize=64, beta1=0.5, classes='bedroom', cuda=True, dataroot='./data', dataset='mnist', dry_run=False, generate=1, generate_img_nums=10000, generate_loc='./Generated_Images/flowgan_ADV', imageSize=28, log_path='./GAN_for_flow.log', lr=0.0002, manualSeed=None, ndf=28, netD='./samples/netD_epoch_49.pth', netG='./samples/netG_epoch_49.pth', ngf=28, ngpu=1, niter=150, nz=100, outf='./GAN_for_flow', start_epoch=100, workers=2)\n",
      "Random Seed: r 8832\n",
      "100%|█████████████████████████████████████████| 157/157 [01:14<00:00,  2.10it/s]\n"
     ]
    }
   ],
   "source": [
    "!python ./dcgan_run.py --niter 150 --dataset 'mnist' --dataroot './data' --cuda --outf './GAN_for_flow' --log_path './GAN_for_flow.log' --batchSize 64  --imageSize 28  --start_epoch 100 --netG './samples/netG_epoch_49.pth'  --netD './samples/netD_epoch_49.pth'  --generate 1 --generate_loc './Generated_Images/flowgan_ADV' --generate_img_nums 10000"
   ]
  },
  {
   "cell_type": "code",
   "execution_count": null,
   "metadata": {},
   "outputs": [
    {
     "name": "stdout",
     "output_type": "stream",
     "text": [
      " 96%|█████████████████████████████████████▍ | 1150/1200 [02:11<00:05,  8.82it/s]"
     ]
    }
   ],
   "source": [
    "!python -m pytorch_fid '/nfs/students/winter-term-2020/project-5/project-5-manna/flow_gan/mnistdata/mnist_png/training/' './Generated_Images/flowgan_ADV'"
   ]
  },
  {
   "cell_type": "code",
   "execution_count": null,
   "metadata": {},
   "outputs": [],
   "source": []
  },
  {
   "cell_type": "code",
   "execution_count": null,
   "metadata": {},
   "outputs": [],
   "source": []
  },
  {
   "cell_type": "code",
   "execution_count": null,
   "metadata": {},
   "outputs": [],
   "source": []
  },
  {
   "cell_type": "markdown",
   "metadata": {},
   "source": [
    "## flowgan with hybrid training"
   ]
  },
  {
   "cell_type": "code",
   "execution_count": 7,
   "metadata": {},
   "outputs": [
    {
     "name": "stdout",
     "output_type": "stream",
     "text": [
      "Namespace(batchSize=64, beta1=0.5, classes='bedroom', cuda=True, dataroot='./data', dataset='mnist', dry_run=False, generate=1, generate_img_nums=10000, generate_loc='./Generated_Images/flowgan_hybrid', imageSize=28, log_path='./GAN_for_flow.log', lr=0.0002, manualSeed=None, ndf=28, netD='../../project-5-manna/flow_gan/samples_hybrid/netD_epoch_300.pth', netG='../../project-5-manna/flow_gan/samples_hybrid/netG_epoch_300.pth', ngf=28, ngpu=1, niter=150, nz=100, outf='./GAN_for_flow', start_epoch=100, workers=2)\n",
      "Random Seed: r 7525\n",
      "100%|█████████████████████████████████████████| 157/157 [01:13<00:00,  2.13it/s]\n"
     ]
    }
   ],
   "source": [
    "!python ./dcgan_run.py --niter 150 --dataset 'mnist' --dataroot './data' --cuda --outf './GAN_for_flow' --log_path './GAN_for_flow.log' --batchSize 64  --imageSize 28  --start_epoch 100 --netG '../../project-5-manna/flow_gan/samples_hybrid/netG_epoch_300.pth'  --netD '../../project-5-manna/flow_gan/samples_hybrid/netD_epoch_300.pth'  --generate 1 --generate_loc './Generated_Images/flowgan_hybrid' --generate_img_nums 10000"
   ]
  },
  {
   "cell_type": "code",
   "execution_count": null,
   "metadata": {},
   "outputs": [],
   "source": [
    "!python -m pytorch_fid '/nfs/students/winter-term-2020/project-5/project-5-manna/flow_gan/mnistdata/mnist_png/training/' './Generated_Images/flowgan_hybrid'"
   ]
  },
  {
   "cell_type": "code",
   "execution_count": null,
   "metadata": {},
   "outputs": [],
   "source": []
  },
  {
   "cell_type": "code",
   "execution_count": null,
   "metadata": {},
   "outputs": [],
   "source": []
  },
  {
   "cell_type": "code",
   "execution_count": null,
   "metadata": {},
   "outputs": [],
   "source": []
  },
  {
   "cell_type": "code",
   "execution_count": null,
   "metadata": {},
   "outputs": [],
   "source": []
  },
  {
   "cell_type": "markdown",
   "metadata": {},
   "source": [
    "## RealNVP"
   ]
  },
  {
   "cell_type": "code",
   "execution_count": null,
   "metadata": {},
   "outputs": [
    {
     "name": "stdout",
     "output_type": "stream",
     "text": [
      "Building model..\r\n"
     ]
    }
   ],
   "source": [
    "!python '/nfs/students/winter-term-2020/project-5/real-nvp/train.py' --batch_size 128 --num_epochs 1 --resume --generate 1 --generate_loc './Generated_Images/realnvp'  --generate_img_nums 10000"
   ]
  },
  {
   "cell_type": "code",
   "execution_count": null,
   "metadata": {},
   "outputs": [],
   "source": [
    "!python -m pytorch_fid '/nfs/students/winter-term-2020/project-5/project-5-manna/flow_gan/mnistdata/mnist_png/training/' './Generated_Images/realnvp'"
   ]
  }
 ],
 "metadata": {
  "kernelspec": {
   "display_name": "Python 3",
   "language": "python",
   "name": "python3"
  },
  "language_info": {
   "codemirror_mode": {
    "name": "ipython",
    "version": 3
   },
   "file_extension": ".py",
   "mimetype": "text/x-python",
   "name": "python",
   "nbconvert_exporter": "python",
   "pygments_lexer": "ipython3",
   "version": "3.7.9"
  }
 },
 "nbformat": 4,
 "nbformat_minor": 4
}
