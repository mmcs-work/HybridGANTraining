{
 "cells": [
  {
   "cell_type": "markdown",
   "metadata": {},
   "source": [
    "This for GAN for flow. The FID score is \n",
    "\n",
    "\n",
    "\n",
    "|  Model Name      |  FID SCORE  |  \n",
    "|---|---|\n",
    "| GANFORFLOW  |  123.4985400174682 |\n",
    "|   |   |\n",
    "|   |   |"
   ]
  },
  {
   "cell_type": "markdown",
   "metadata": {},
   "source": [
    "## DCGAN FID debugging\n"
   ]
  },
  {
   "cell_type": "code",
   "execution_count": 35,
   "metadata": {},
   "outputs": [
    {
     "name": "stdout",
     "output_type": "stream",
     "text": [
      "Namespace(batchSize=64, beta1=0.5, classes='bedroom', cuda=True, dataroot='/nfs/students/winter-term-2020/project-5/project-5/flow_gan/data', dataset='mnist', dry_run=False, generate=1, generate_img_nums=10000, generate_loc='./Generated_Images/Vanilla_DCGAN_Debug', imageSize=64, lr=0.0002, manualSeed=None, ndf=64, netD='/nfs/students/winter-term-2020/project-5/project-5/dcgan/results/netD_epoch_1.pth', netG='/nfs/students/winter-term-2020/project-5/project-5/dcgan/results/netG_epoch_0.pth', ngf=64, ngpu=1, niter=25, nz=100, outf='./results', workers=2)\n",
      "Random Seed:  6232\n",
      "100%|█████████████████████████████████████████| 157/157 [00:42<00:00,  3.67it/s]\n",
      "100%|███████████████████████████████████████| 1200/1200 [02:17<00:00,  8.76it/s]\n",
      "100%|█████████████████████████████████████████| 201/201 [00:29<00:00,  6.85it/s]\n",
      "FID:  255.31843108400827\n",
      "Namespace(batchSize=64, beta1=0.5, classes='bedroom', cuda=True, dataroot='/nfs/students/winter-term-2020/project-5/project-5/flow_gan/data', dataset='mnist', dry_run=False, generate=1, generate_img_nums=10000, generate_loc='./Generated_Images/Vanilla_DCGAN_Debug', imageSize=64, lr=0.0002, manualSeed=None, ndf=64, netD='/nfs/students/winter-term-2020/project-5/project-5/dcgan/results/netD_epoch_1.pth', netG='/nfs/students/winter-term-2020/project-5/project-5/dcgan/results/netG_epoch_1.pth', ngf=64, ngpu=1, niter=25, nz=100, outf='./results', workers=2)\n",
      "Random Seed:  1359\n",
      "100%|█████████████████████████████████████████| 157/157 [00:37<00:00,  4.13it/s]\n",
      "100%|███████████████████████████████████████| 1200/1200 [02:17<00:00,  8.73it/s]\n",
      "100%|█████████████████████████████████████████| 201/201 [00:29<00:00,  6.85it/s]\n",
      "FID:  208.81007007378065\n",
      "Namespace(batchSize=64, beta1=0.5, classes='bedroom', cuda=True, dataroot='/nfs/students/winter-term-2020/project-5/project-5/flow_gan/data', dataset='mnist', dry_run=False, generate=1, generate_img_nums=10000, generate_loc='./Generated_Images/Vanilla_DCGAN_Debug', imageSize=64, lr=0.0002, manualSeed=None, ndf=64, netD='/nfs/students/winter-term-2020/project-5/project-5/dcgan/results/netD_epoch_1.pth', netG='/nfs/students/winter-term-2020/project-5/project-5/dcgan/results/netG_epoch_2.pth', ngf=64, ngpu=1, niter=25, nz=100, outf='./results', workers=2)\n",
      "Random Seed:  7660\n",
      "100%|█████████████████████████████████████████| 157/157 [00:38<00:00,  4.09it/s]\n",
      "100%|███████████████████████████████████████| 1200/1200 [02:17<00:00,  8.73it/s]\n",
      "100%|█████████████████████████████████████████| 201/201 [00:29<00:00,  6.88it/s]\n",
      "FID:  182.92216104856186\n",
      "Namespace(batchSize=64, beta1=0.5, classes='bedroom', cuda=True, dataroot='/nfs/students/winter-term-2020/project-5/project-5/flow_gan/data', dataset='mnist', dry_run=False, generate=1, generate_img_nums=10000, generate_loc='./Generated_Images/Vanilla_DCGAN_Debug', imageSize=64, lr=0.0002, manualSeed=None, ndf=64, netD='/nfs/students/winter-term-2020/project-5/project-5/dcgan/results/netD_epoch_1.pth', netG='/nfs/students/winter-term-2020/project-5/project-5/dcgan/results/netG_epoch_3.pth', ngf=64, ngpu=1, niter=25, nz=100, outf='./results', workers=2)\n",
      "Random Seed:  4890\n",
      "100%|█████████████████████████████████████████| 157/157 [00:42<00:00,  3.68it/s]\n",
      "100%|███████████████████████████████████████| 1200/1200 [02:17<00:00,  8.73it/s]\n",
      "100%|█████████████████████████████████████████| 201/201 [00:29<00:00,  6.87it/s]\n",
      "FID:  150.24002340893554\n",
      "Namespace(batchSize=64, beta1=0.5, classes='bedroom', cuda=True, dataroot='/nfs/students/winter-term-2020/project-5/project-5/flow_gan/data', dataset='mnist', dry_run=False, generate=1, generate_img_nums=10000, generate_loc='./Generated_Images/Vanilla_DCGAN_Debug', imageSize=64, lr=0.0002, manualSeed=None, ndf=64, netD='/nfs/students/winter-term-2020/project-5/project-5/dcgan/results/netD_epoch_1.pth', netG='/nfs/students/winter-term-2020/project-5/project-5/dcgan/results/netG_epoch_4.pth', ngf=64, ngpu=1, niter=25, nz=100, outf='./results', workers=2)\n",
      "Random Seed:  3792\n",
      "100%|█████████████████████████████████████████| 157/157 [00:42<00:00,  3.72it/s]\n",
      "100%|███████████████████████████████████████| 1200/1200 [02:17<00:00,  8.72it/s]\n",
      "100%|█████████████████████████████████████████| 201/201 [00:29<00:00,  6.82it/s]\n",
      "FID:  142.781037066814\n",
      "Namespace(batchSize=64, beta1=0.5, classes='bedroom', cuda=True, dataroot='/nfs/students/winter-term-2020/project-5/project-5/flow_gan/data', dataset='mnist', dry_run=False, generate=1, generate_img_nums=10000, generate_loc='./Generated_Images/Vanilla_DCGAN_Debug', imageSize=64, lr=0.0002, manualSeed=None, ndf=64, netD='/nfs/students/winter-term-2020/project-5/project-5/dcgan/results/netD_epoch_1.pth', netG='/nfs/students/winter-term-2020/project-5/project-5/dcgan/results/netG_epoch_5.pth', ngf=64, ngpu=1, niter=25, nz=100, outf='./results', workers=2)\n",
      "Random Seed:  4403\n",
      "100%|█████████████████████████████████████████| 157/157 [00:40<00:00,  3.91it/s]\n",
      "100%|███████████████████████████████████████| 1200/1200 [02:21<00:00,  8.47it/s]\n",
      "100%|█████████████████████████████████████████| 201/201 [00:29<00:00,  6.88it/s]\n",
      "FID:  148.17520328638665\n",
      "Namespace(batchSize=64, beta1=0.5, classes='bedroom', cuda=True, dataroot='/nfs/students/winter-term-2020/project-5/project-5/flow_gan/data', dataset='mnist', dry_run=False, generate=1, generate_img_nums=10000, generate_loc='./Generated_Images/Vanilla_DCGAN_Debug', imageSize=64, lr=0.0002, manualSeed=None, ndf=64, netD='/nfs/students/winter-term-2020/project-5/project-5/dcgan/results/netD_epoch_1.pth', netG='/nfs/students/winter-term-2020/project-5/project-5/dcgan/results/netG_epoch_6.pth', ngf=64, ngpu=1, niter=25, nz=100, outf='./results', workers=2)\n",
      "Random Seed:  3837\n",
      "100%|█████████████████████████████████████████| 157/157 [00:36<00:00,  4.28it/s]\n",
      "100%|███████████████████████████████████████| 1200/1200 [02:17<00:00,  8.72it/s]\n",
      "100%|█████████████████████████████████████████| 201/201 [00:29<00:00,  6.91it/s]\n",
      "FID:  145.69367282859906\n",
      "Namespace(batchSize=64, beta1=0.5, classes='bedroom', cuda=True, dataroot='/nfs/students/winter-term-2020/project-5/project-5/flow_gan/data', dataset='mnist', dry_run=False, generate=1, generate_img_nums=10000, generate_loc='./Generated_Images/Vanilla_DCGAN_Debug', imageSize=64, lr=0.0002, manualSeed=None, ndf=64, netD='/nfs/students/winter-term-2020/project-5/project-5/dcgan/results/netD_epoch_1.pth', netG='/nfs/students/winter-term-2020/project-5/project-5/dcgan/results/netG_epoch_7.pth', ngf=64, ngpu=1, niter=25, nz=100, outf='./results', workers=2)\n",
      "Random Seed:  745\n",
      "100%|█████████████████████████████████████████| 157/157 [00:37<00:00,  4.24it/s]\n",
      "100%|███████████████████████████████████████| 1200/1200 [02:17<00:00,  8.73it/s]\n",
      "100%|█████████████████████████████████████████| 201/201 [00:29<00:00,  6.89it/s]\n",
      "FID:  101.20300184733043\n",
      "Namespace(batchSize=64, beta1=0.5, classes='bedroom', cuda=True, dataroot='/nfs/students/winter-term-2020/project-5/project-5/flow_gan/data', dataset='mnist', dry_run=False, generate=1, generate_img_nums=10000, generate_loc='./Generated_Images/Vanilla_DCGAN_Debug', imageSize=64, lr=0.0002, manualSeed=None, ndf=64, netD='/nfs/students/winter-term-2020/project-5/project-5/dcgan/results/netD_epoch_1.pth', netG='/nfs/students/winter-term-2020/project-5/project-5/dcgan/results/netG_epoch_8.pth', ngf=64, ngpu=1, niter=25, nz=100, outf='./results', workers=2)\n",
      "Random Seed:  8816\n",
      "100%|█████████████████████████████████████████| 157/157 [00:43<00:00,  3.60it/s]\n",
      "100%|███████████████████████████████████████| 1200/1200 [02:17<00:00,  8.73it/s]\n",
      "100%|█████████████████████████████████████████| 201/201 [00:29<00:00,  6.85it/s]\n",
      "FID:  109.14186199843903\n",
      "Namespace(batchSize=64, beta1=0.5, classes='bedroom', cuda=True, dataroot='/nfs/students/winter-term-2020/project-5/project-5/flow_gan/data', dataset='mnist', dry_run=False, generate=1, generate_img_nums=10000, generate_loc='./Generated_Images/Vanilla_DCGAN_Debug', imageSize=64, lr=0.0002, manualSeed=None, ndf=64, netD='/nfs/students/winter-term-2020/project-5/project-5/dcgan/results/netD_epoch_1.pth', netG='/nfs/students/winter-term-2020/project-5/project-5/dcgan/results/netG_epoch_9.pth', ngf=64, ngpu=1, niter=25, nz=100, outf='./results', workers=2)\n",
      "Random Seed:  9287\n"
     ]
    },
    {
     "name": "stdout",
     "output_type": "stream",
     "text": [
      "100%|█████████████████████████████████████████| 157/157 [00:41<00:00,  3.74it/s]\n",
      "100%|███████████████████████████████████████| 1200/1200 [02:17<00:00,  8.72it/s]\n",
      "100%|█████████████████████████████████████████| 201/201 [00:29<00:00,  6.85it/s]\n",
      "FID:  101.41573839404626\n",
      "Namespace(batchSize=64, beta1=0.5, classes='bedroom', cuda=True, dataroot='/nfs/students/winter-term-2020/project-5/project-5/flow_gan/data', dataset='mnist', dry_run=False, generate=1, generate_img_nums=10000, generate_loc='./Generated_Images/Vanilla_DCGAN_Debug', imageSize=64, lr=0.0002, manualSeed=None, ndf=64, netD='/nfs/students/winter-term-2020/project-5/project-5/dcgan/results/netD_epoch_1.pth', netG='/nfs/students/winter-term-2020/project-5/project-5/dcgan/results/netG_epoch_10.pth', ngf=64, ngpu=1, niter=25, nz=100, outf='./results', workers=2)\n",
      "Random Seed:  3741\n",
      "100%|█████████████████████████████████████████| 157/157 [00:43<00:00,  3.60it/s]\n",
      "100%|███████████████████████████████████████| 1200/1200 [02:17<00:00,  8.72it/s]\n",
      "100%|█████████████████████████████████████████| 201/201 [00:29<00:00,  6.85it/s]\n",
      "FID:  83.20044594730444\n"
     ]
    }
   ],
   "source": [
    "for i in range(11):\n",
    "    !mkdir ./Generated_Images/Vanilla_DCGAN_Debug\n",
    "    !python /nfs/students/winter-term-2020/project-5/project-5/dcgan/dcgan.py --dataset 'mnist' --dataroot '/nfs/students/winter-term-2020/project-5/project-5/flow_gan/data' --cuda --outf ./results --netD '/nfs/students/winter-term-2020/project-5/project-5/dcgan/results/netD_epoch_1.pth' --netG '/nfs/students/winter-term-2020/project-5/project-5/dcgan/results/netG_epoch_{i}.pth' --generate 1 --generate_loc './Generated_Images/Vanilla_DCGAN_Debug' --generate_img_nums 10000 \n",
    "    !python -m pytorch_fid '/nfs/students/winter-term-2020/project-5/project-5-manna/flow_gan/mnistdata/mnist_png/training/' './Generated_Images/Vanilla_DCGAN_Debug'\n",
    "    !rm -rf ./Generated_Images/Vanilla_DCGAN_Debug"
   ]
  },
  {
   "cell_type": "code",
   "execution_count": 34,
   "metadata": {},
   "outputs": [],
   "source": [
    "!rm -rf ./Generated_Images/Vanilla_DCGAN_Debug"
   ]
  },
  {
   "cell_type": "code",
   "execution_count": 33,
   "metadata": {},
   "outputs": [],
   "source": [
    "!mkdir ./Generated_Images/Vanilla_DCGAN_Debug"
   ]
  },
  {
   "cell_type": "code",
   "execution_count": 8,
   "metadata": {},
   "outputs": [],
   "source": [
    "!rm -rf ./Generated_Images/GAN_FOR_FLOW/"
   ]
  },
  {
   "cell_type": "markdown",
   "metadata": {},
   "source": [
    "## GAN for flow"
   ]
  },
  {
   "cell_type": "code",
   "execution_count": 10,
   "metadata": {},
   "outputs": [
    {
     "name": "stdout",
     "output_type": "stream",
     "text": [
      "Namespace(batchSize=64, beta1=0.5, classes='bedroom', cuda=True, dataroot='./data', dataset='mnist', dry_run=False, generate=1, generate_img_nums=10000, generate_loc='./Generated_Images/GAN_FOR_FLOW', imageSize=28, log_path='./GAN_for_flow.log', lr=0.0002, manualSeed=None, ndf=28, netD='./GAN_for_flow/netD_epoch_149.pth', netG='./GAN_for_flow/netG_epoch_149.pth', ngf=28, ngpu=1, niter=150, nz=100, outf='./GAN_for_flow', start_epoch=100, workers=2)\n",
      "Random Seed: r 8161\n",
      "100%|█████████████████████████████████████████| 157/157 [01:12<00:00,  2.17it/s]\n"
     ]
    }
   ],
   "source": [
    "!python ./dcgan_cp.py --niter 150 --dataset 'mnist' --dataroot './data' --cuda --outf './GAN_for_flow' --log_path './GAN_for_flow.log' --batchSize 64  --imageSize 28  --start_epoch 100 --netD './GAN_for_flow/netD_epoch_149.pth'  --netG  './GAN_for_flow/netG_epoch_149.pth' --generate 1 --generate_loc './Generated_Images/GAN_FOR_FLOW' --generate_img_nums 10000"
   ]
  },
  {
   "cell_type": "code",
   "execution_count": 11,
   "metadata": {},
   "outputs": [
    {
     "name": "stdout",
     "output_type": "stream",
     "text": [
      "100%|███████████████████████████████████████| 1200/1200 [02:22<00:00,  8.41it/s]\n",
      "100%|█████████████████████████████████████████| 201/201 [00:29<00:00,  6.90it/s]\n",
      "FID:  123.4985400174682\n"
     ]
    }
   ],
   "source": [
    "!python -m pytorch_fid '/nfs/students/winter-term-2020/project-5/project-5-manna/flow_gan/mnistdata/mnist_png/training/' './Generated_Images/GAN_FOR_FLOW'"
   ]
  },
  {
   "cell_type": "markdown",
   "metadata": {},
   "source": [
    "### Vanilla DCGAN"
   ]
  },
  {
   "cell_type": "code",
   "execution_count": 8,
   "metadata": {},
   "outputs": [
    {
     "name": "stdout",
     "output_type": "stream",
     "text": [
      "Namespace(batchSize=64, beta1=0.5, classes='bedroom', cuda=True, dataroot='/nfs/students/winter-term-2020/project-5/project-5/flow_gan/data', dataset='mnist', dry_run=False, generate=1, generate_img_nums=10000, generate_loc='./Generated_Images/Vanilla_DCGAN', imageSize=64, lr=0.0002, manualSeed=None, ndf=64, netD='/nfs/students/winter-term-2020/project-5/dcgan/results/netD_epoch_22.pth', netG='/nfs/students/winter-term-2020/project-5/dcgan/results/netG_epoch_22.pth', ngf=64, ngpu=1, niter=25, nz=100, outf='./results', workers=2)\n",
      "Random Seed:  7716\n",
      "100%|█████████████████████████████████████████| 157/157 [00:50<00:00,  3.08it/s]\n"
     ]
    }
   ],
   "source": [
    "!python ../../dcgan/dcgan.py --dataset 'mnist' --dataroot '/nfs/students/winter-term-2020/project-5/project-5/flow_gan/data' --cuda --outf ./results --netD '/nfs/students/winter-term-2020/project-5/dcgan/results/netD_epoch_22.pth' --netG '/nfs/students/winter-term-2020/project-5/dcgan/results/netG_epoch_22.pth' --generate 1 --generate_loc './Generated_Images/Vanilla_DCGAN' --generate_img_nums 10000 "
   ]
  },
  {
   "cell_type": "code",
   "execution_count": 10,
   "metadata": {
    "scrolled": true
   },
   "outputs": [
    {
     "name": "stdout",
     "output_type": "stream",
     "text": [
      "100%|███████████████████████████████████████| 1200/1200 [02:21<00:00,  8.51it/s]\n",
      "100%|█████████████████████████████████████████| 201/201 [00:30<00:00,  6.58it/s]\n",
      "FID:  271.2779278523886\n"
     ]
    }
   ],
   "source": [
    "!python -m pytorch_fid '/nfs/students/winter-term-2020/project-5/project-5-manna/flow_gan/mnistdata/mnist_png/training/' './Generated_Images/Vanilla_DCGAN'"
   ]
  },
  {
   "cell_type": "markdown",
   "metadata": {},
   "source": [
    "## flowgan with variant alpha"
   ]
  },
  {
   "cell_type": "code",
   "execution_count": 4,
   "metadata": {},
   "outputs": [
    {
     "name": "stdout",
     "output_type": "stream",
     "text": [
      "Namespace(batchSize=64, beta1=0.5, classes='bedroom', cuda=True, dataroot='./data', dataset='mnist', dry_run=False, generate=1, generate_img_nums=10000, generate_loc='./Generated_Images/flowgan_variant_alpha', imageSize=28, log_path='./GAN_for_flow.log', lr=0.0002, manualSeed=None, ndf=28, netD='./samples_hybrid_decay/netD_epoch_53.pth', netG='./samples_hybrid_decay/netG_epoch_53.pth', ngf=28, ngpu=1, niter=150, nz=100, outf='./GAN_for_flow', start_epoch=100, workers=2)\n",
      "Random Seed: r 339\n",
      "100%|█████████████████████████████████████████| 157/157 [01:14<00:00,  2.12it/s]\n"
     ]
    }
   ],
   "source": [
    "!python ./dcgan_run.py --niter 150 --dataset 'mnist' --dataroot './data' --cuda --outf './GAN_for_flow' --log_path './GAN_for_flow.log' --batchSize 64  --imageSize 28  --start_epoch 100 --netG './samples_hybrid_decay/netG_epoch_53.pth'  --netD './samples_hybrid_decay/netD_epoch_53.pth'  --generate 1 --generate_loc './Generated_Images/flowgan_variant_alpha' --generate_img_nums 10000"
   ]
  },
  {
   "cell_type": "code",
   "execution_count": 11,
   "metadata": {},
   "outputs": [
    {
     "name": "stdout",
     "output_type": "stream",
     "text": [
      "100%|███████████████████████████████████████| 1200/1200 [02:17<00:00,  8.72it/s]\n",
      "100%|█████████████████████████████████████████| 201/201 [00:27<00:00,  7.36it/s]\n",
      "FID:  100.88221385585481\n"
     ]
    }
   ],
   "source": [
    "!python -m pytorch_fid '/nfs/students/winter-term-2020/project-5/project-5-manna/flow_gan/mnistdata/mnist_png/training/' './Generated_Images/flowgan_variant_alpha'"
   ]
  },
  {
   "cell_type": "code",
   "execution_count": null,
   "metadata": {},
   "outputs": [],
   "source": []
  },
  {
   "cell_type": "code",
   "execution_count": null,
   "metadata": {},
   "outputs": [],
   "source": []
  },
  {
   "cell_type": "markdown",
   "metadata": {},
   "source": [
    "## flowgan with ADV"
   ]
  },
  {
   "cell_type": "code",
   "execution_count": 2,
   "metadata": {},
   "outputs": [
    {
     "name": "stdout",
     "output_type": "stream",
     "text": [
      "Namespace(batchSize=64, beta1=0.5, classes='bedroom', cuda=True, dataroot='./data', dataset='mnist', dry_run=False, generate=1, generate_img_nums=10000, generate_loc='./Generated_Images/flowgan_ADV', imageSize=28, log_path='./GAN_for_flow.log', lr=0.0002, manualSeed=None, ndf=28, netD='./samples/netD_epoch_40.pth', netG='./samples/netG_epoch_40.pth', ngf=28, ngpu=1, niter=150, nz=100, outf='./GAN_for_flow', start_epoch=100, workers=2)\n",
      "Random Seed: r 7860\n",
      "100%|█████████████████████████████████████████| 157/157 [01:18<00:00,  2.00it/s]\n"
     ]
    }
   ],
   "source": [
    "!python ./dcgan_run.py --niter 150 --dataset 'mnist' --dataroot './data' --cuda --outf './GAN_for_flow' --log_path './GAN_for_flow.log' --batchSize 64  --imageSize 28  --start_epoch 100 --netG './samples/netG_epoch_40.pth'  --netD './samples/netD_epoch_40.pth'  --generate 1 --generate_loc './Generated_Images/flowgan_ADV' --generate_img_nums 10000"
   ]
  },
  {
   "cell_type": "code",
   "execution_count": null,
   "metadata": {},
   "outputs": [
    {
     "name": "stdout",
     "output_type": "stream",
     "text": [
      " 96%|█████████████████████████████████████▍ | 1150/1200 [02:11<00:05,  8.82it/s]"
     ]
    }
   ],
   "source": [
    "!python -m pytorch_fid '/nfs/students/winter-term-2020/project-5/project-5-manna/flow_gan/mnistdata/mnist_png/training/' './Generated_Images/flowgan_ADV'"
   ]
  },
  {
   "cell_type": "code",
   "execution_count": 49,
   "metadata": {},
   "outputs": [
    {
     "name": "stdout",
     "output_type": "stream",
     "text": [
      "Namespace(batchSize=16, beta1=0.5, classes='bedroom', cuda=True, dataroot='./data', dataset='mnist', dry_run=False, generate=0, generate_img_nums=10000, generate_loc='./Generated_Images/flowgan_ADV', imageSize=28, likelihood=1, log_path='./GAN_for_flow.log', lr=0.0002, manualSeed=None, ndf=28, netD='./samples/netD_epoch_40.pth', netG='./samples/netG_epoch_40.pth', ngf=28, ngpu=1, niter=150, nz=100, outf='./GAN_for_flow', root_dir='./Generated_Images/flowgan_ADV', start_epoch=100, workers=2)\n",
      "Random Seed: r 9634\n",
      "100%|████████████████████████████████████| 10048/10048 [01:22<00:00, 122.17it/s]\n",
      "122224467237.50319\n"
     ]
    }
   ],
   "source": [
    "!python ./dcgan_run.py --niter 150 --dataset 'mnist' --dataroot './data' --cuda --outf './GAN_for_flow' --log_path './GAN_for_flow.log' --batchSize 16  --imageSize 28  --start_epoch 100 --netG './samples/netG_epoch_40.pth'  --netD './samples/netD_epoch_40.pth'  --generate 0 --generate_loc './Generated_Images/flowgan_ADV' --generate_img_nums 10000 --likelihood 1 --root_dir './Generated_Images/flowgan_ADV'"
   ]
  },
  {
   "cell_type": "markdown",
   "metadata": {},
   "source": [
    "Trying to check whether the likelihood is indeed this low for freshly generated images. The folder `GAN_for_flow_debug` is to be deleted after the experiment. Same is the case for `flowgan_AVD_debug`. \n"
   ]
  },
  {
   "cell_type": "code",
   "execution_count": null,
   "metadata": {},
   "outputs": [
    {
     "name": "stdout",
     "output_type": "stream",
     "text": [
      "Namespace(batchSize=64, beta1=0.5, classes='bedroom', cuda=True, dataroot='./data', dataset='mnist', dry_run=False, generate=0, generate_img_nums=100, generate_loc='', imageSize=28, likelihood=0, log_path='./GAN_for_flow_debug.log', lr=0.0002, manualSeed=None, ndf=28, netD='', netG='', ngf=28, ngpu=1, niter=150, nz=100, outf='./GAN_for_flow_debug', root_dir=None, start_epoch=100, workers=2)\n",
      "Random Seed: r 3751\n",
      "100%|█| 60000/60000 [26:52<00:00, 37.21it/s, batch=937, epoch=100, errD=1.01, er\n",
      "100%|█| 60000/60000 [26:54<00:00, 37.15it/s, batch=937, epoch=101, errD=1.32, er\n",
      "100%|█| 60000/60000 [26:53<00:00, 37.19it/s, batch=937, epoch=102, errD=1.26, er\n",
      "100%|█| 60000/60000 [26:50<00:00, 37.26it/s, batch=937, epoch=103, errD=1.36, er\n",
      "100%|█| 60000/60000 [26:53<00:00, 37.18it/s, batch=937, epoch=104, errD=1.09, er\n",
      "100%|█| 60000/60000 [26:54<00:00, 37.17it/s, batch=937, epoch=105, errD=1.36, er\n",
      "100%|█| 60000/60000 [26:55<00:00, 37.13it/s, batch=937, epoch=106, errD=1.27, er\n",
      "100%|█| 60000/60000 [26:51<00:00, 37.22it/s, batch=937, epoch=107, errD=1.35, er\n",
      "100%|█| 60000/60000 [26:59<00:00, 37.04it/s, batch=937, epoch=108, errD=1.35, er\n",
      "100%|█| 60000/60000 [26:59<00:00, 37.06it/s, batch=937, epoch=109, errD=1.09, er\n",
      "100%|█| 60000/60000 [26:42<00:00, 37.43it/s, batch=937, epoch=110, errD=1.43, er\n",
      "100%|█| 60000/60000 [26:38<00:00, 37.54it/s, batch=937, epoch=111, errD=1.3, err\n",
      "100%|█| 60000/60000 [26:55<00:00, 37.13it/s, batch=937, epoch=112, errD=1.25, er\n",
      "100%|█| 60000/60000 [26:25<00:00, 37.84it/s, batch=937, epoch=113, errD=1.19, er\n",
      "100%|█| 60000/60000 [26:25<00:00, 37.84it/s, batch=937, epoch=114, errD=1.25, er\n",
      "100%|█| 60000/60000 [26:51<00:00, 37.22it/s, batch=937, epoch=115, errD=1.21, er\n",
      "100%|█| 60000/60000 [26:48<00:00, 37.30it/s, batch=937, epoch=116, errD=1.03, er\n",
      "100%|█| 60000/60000 [26:46<00:00, 37.35it/s, batch=937, epoch=117, errD=1.16, er\n",
      "100%|█| 60000/60000 [26:19<00:00, 38.00it/s, batch=937, epoch=118, errD=1.22, er\n",
      "100%|█| 60000/60000 [26:17<00:00, 38.05it/s, batch=937, epoch=119, errD=1.36, er\n",
      "100%|█| 60000/60000 [26:21<00:00, 37.95it/s, batch=937, epoch=120, errD=1.16, er\n",
      "100%|█| 60000/60000 [26:21<00:00, 37.94it/s, batch=937, epoch=121, errD=1.19, er\n",
      "100%|█| 60000/60000 [26:21<00:00, 37.95it/s, batch=937, epoch=122, errD=1.15, er\n",
      "100%|█| 60000/60000 [26:19<00:00, 37.98it/s, batch=937, epoch=123, errD=1.24, er\n",
      "100%|█| 60000/60000 [26:19<00:00, 38.00it/s, batch=937, epoch=124, errD=1.34, er\n",
      " 65%|▋| 39040/60000 [17:10<09:13, 37.85it/s, batch=609, epoch=125, errD=1.32, er"
     ]
    }
   ],
   "source": [
    "!python ./dcgan_run.py --niter 150 --dataset 'mnist' --dataroot './data' --cuda --outf './GAN_for_flow_debug' --log_path './GAN_for_flow_debug.log' --batchSize 64  --imageSize 28  --start_epoch 100  --generate 0 "
   ]
  },
  {
   "cell_type": "markdown",
   "metadata": {},
   "source": [
    "## flowgan with hybrid training"
   ]
  },
  {
   "cell_type": "code",
   "execution_count": 7,
   "metadata": {},
   "outputs": [
    {
     "name": "stdout",
     "output_type": "stream",
     "text": [
      "Namespace(batchSize=64, beta1=0.5, classes='bedroom', cuda=True, dataroot='./data', dataset='mnist', dry_run=False, generate=1, generate_img_nums=10000, generate_loc='./Generated_Images/flowgan_hybrid', imageSize=28, log_path='./GAN_for_flow.log', lr=0.0002, manualSeed=None, ndf=28, netD='../../project-5-manna/flow_gan/samples_hybrid/netD_epoch_300.pth', netG='../../project-5-manna/flow_gan/samples_hybrid/netG_epoch_300.pth', ngf=28, ngpu=1, niter=150, nz=100, outf='./GAN_for_flow', start_epoch=100, workers=2)\n",
      "Random Seed: r 7525\n",
      "100%|█████████████████████████████████████████| 157/157 [01:13<00:00,  2.13it/s]\n"
     ]
    }
   ],
   "source": [
    "!python ./dcgan_run.py --niter 150 --dataset 'mnist' --dataroot './data' --cuda --outf './GAN_for_flow' --log_path './GAN_for_flow.log' --batchSize 64  --imageSize 28  --start_epoch 100 --netG '../../project-5-manna/flow_gan/samples_hybrid/netG_epoch_300.pth'  --netD '../../project-5-manna/flow_gan/samples_hybrid/netD_epoch_300.pth'  --generate 1 --generate_loc './Generated_Images/flowgan_hybrid' --generate_img_nums 10000"
   ]
  },
  {
   "cell_type": "code",
   "execution_count": null,
   "metadata": {},
   "outputs": [],
   "source": [
    "!python -m pytorch_fid '/nfs/students/winter-term-2020/project-5/project-5-manna/flow_gan/mnistdata/mnist_png/training/' './Generated_Images/flowgan_hybrid'"
   ]
  },
  {
   "cell_type": "code",
   "execution_count": null,
   "metadata": {},
   "outputs": [],
   "source": []
  },
  {
   "cell_type": "code",
   "execution_count": null,
   "metadata": {},
   "outputs": [],
   "source": []
  },
  {
   "cell_type": "code",
   "execution_count": null,
   "metadata": {},
   "outputs": [],
   "source": []
  },
  {
   "cell_type": "code",
   "execution_count": null,
   "metadata": {},
   "outputs": [],
   "source": []
  },
  {
   "cell_type": "markdown",
   "metadata": {},
   "source": [
    "## RealNVP"
   ]
  },
  {
   "cell_type": "code",
   "execution_count": null,
   "metadata": {},
   "outputs": [
    {
     "name": "stdout",
     "output_type": "stream",
     "text": [
      "Building model..\r\n"
     ]
    }
   ],
   "source": [
    "!python '/nfs/students/winter-term-2020/project-5/real-nvp/train.py' --batch_size 128 --num_epochs 1 --resume --generate 1 --generate_loc './Generated_Images/realnvp'  --generate_img_nums 10000"
   ]
  },
  {
   "cell_type": "code",
   "execution_count": null,
   "metadata": {},
   "outputs": [],
   "source": [
    "!python -m pytorch_fid '/nfs/students/winter-term-2020/project-5/project-5-manna/flow_gan/mnistdata/mnist_png/training/' './Generated_Images/realnvp'"
   ]
  }
 ],
 "metadata": {
  "kernelspec": {
   "display_name": "Python 3",
   "language": "python",
   "name": "python3"
  },
  "language_info": {
   "codemirror_mode": {
    "name": "ipython",
    "version": 3
   },
   "file_extension": ".py",
   "mimetype": "text/x-python",
   "name": "python",
   "nbconvert_exporter": "python",
   "pygments_lexer": "ipython3",
   "version": "3.8.3"
  }
 },
 "nbformat": 4,
 "nbformat_minor": 4
}
