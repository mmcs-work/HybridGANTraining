{
 "cells": [
  {
   "cell_type": "code",
   "execution_count": 1,
   "metadata": {},
   "outputs": [
    {
     "name": "stdout",
     "output_type": "stream",
     "text": [
      "Namespace(batchSize=64, beta1=0.5, classes='bedroom', cuda=True, dataroot='./data', dataset='mnist', dry_run=False, imageSize=64, log_path='./flowgan_hybrid_decay.log', lr=0.0002, manualSeed=None, ndf=28, netD='', netG='', ngf=28, ngpu=1, niter=100, nz=100, outf='./samples_hybrid_decay', start_epoch=0, workers=2)\n",
      "Random Seed: r 6022\n",
      "100%|█| 60000/60000 [24:37<00:00, 40.60it/s, batch=937, epoch=0, errD=0.442, err\n",
      "100%|█| 60000/60000 [24:39<00:00, 40.55it/s, batch=937, epoch=1, errD=0.128, err\n",
      "100%|█| 60000/60000 [24:41<00:00, 40.49it/s, batch=937, epoch=2, errD=0.162, err\n",
      "100%|█| 60000/60000 [24:41<00:00, 40.49it/s, batch=937, epoch=3, errD=0.087, err\n",
      "100%|█| 60000/60000 [24:43<00:00, 40.45it/s, batch=937, epoch=4, errD=0.459, err\n",
      "100%|█| 60000/60000 [24:44<00:00, 40.41it/s, batch=937, epoch=5, errD=0.204, err\n",
      "100%|█| 60000/60000 [24:44<00:00, 40.42it/s, batch=937, epoch=6, errD=0.0215, er\n",
      "100%|█| 60000/60000 [24:44<00:00, 40.41it/s, batch=937, epoch=7, errD=1.13, errG\n",
      "100%|█| 60000/60000 [24:43<00:00, 40.45it/s, batch=937, epoch=8, errD=0.0157, er\n",
      "100%|█| 60000/60000 [24:44<00:00, 40.41it/s, batch=937, epoch=9, errD=0.00658, e\n",
      "100%|█| 60000/60000 [24:45<00:00, 40.39it/s, batch=937, epoch=10, errD=0.00995, \n",
      "100%|█| 60000/60000 [24:46<00:00, 40.38it/s, batch=937, epoch=11, errD=0.0124, e\n",
      "100%|█| 60000/60000 [24:47<00:00, 40.33it/s, batch=937, epoch=12, errD=0.0128, e\n",
      "100%|█| 60000/60000 [24:47<00:00, 40.34it/s, batch=937, epoch=13, errD=0.0128, e\n",
      "100%|█| 60000/60000 [24:47<00:00, 40.32it/s, batch=937, epoch=14, errD=0.00666, \n",
      "100%|█| 60000/60000 [24:47<00:00, 40.34it/s, batch=937, epoch=15, errD=0.014, er\n",
      "100%|█| 60000/60000 [24:48<00:00, 40.30it/s, batch=937, epoch=16, errD=0.039, er\n",
      "100%|█| 60000/60000 [24:47<00:00, 40.35it/s, batch=937, epoch=17, errD=0.00394, \n",
      "100%|█| 60000/60000 [24:46<00:00, 40.37it/s, batch=937, epoch=18, errD=0.0098, e\n",
      "100%|█| 60000/60000 [24:45<00:00, 40.38it/s, batch=937, epoch=19, errD=0.00527, \n",
      "100%|█| 60000/60000 [24:46<00:00, 40.37it/s, batch=937, epoch=20, errD=0.000898,\n",
      "100%|█| 60000/60000 [24:55<00:00, 40.13it/s, batch=937, epoch=21, errD=0.00441, \n",
      "100%|█| 60000/60000 [25:15<00:00, 39.59it/s, batch=937, epoch=22, errD=0.00125, \n",
      "100%|█| 60000/60000 [24:47<00:00, 40.33it/s, batch=937, epoch=23, errD=0.00453, \n",
      "100%|█| 60000/60000 [24:46<00:00, 40.35it/s, batch=937, epoch=24, errD=0.00871, \n",
      "100%|█| 60000/60000 [24:46<00:00, 40.37it/s, batch=937, epoch=25, errD=0.00162, \n",
      "100%|█| 60000/60000 [24:47<00:00, 40.35it/s, batch=937, epoch=26, errD=0.0028, e\n",
      "100%|█| 60000/60000 [24:47<00:00, 40.32it/s, batch=937, epoch=27, errD=0.000958,\n",
      "100%|█| 60000/60000 [24:49<00:00, 40.30it/s, batch=937, epoch=28, errD=0.000596,\n",
      "100%|█| 60000/60000 [24:47<00:00, 40.33it/s, batch=937, epoch=29, errD=0.000274,\n",
      "100%|█| 60000/60000 [24:47<00:00, 40.33it/s, batch=937, epoch=30, errD=0.00634, \n",
      "100%|█| 60000/60000 [24:48<00:00, 40.30it/s, batch=937, epoch=31, errD=0.00363, \n",
      "100%|█| 60000/60000 [24:48<00:00, 40.30it/s, batch=937, epoch=32, errD=0.000867,\n",
      "100%|█| 60000/60000 [24:48<00:00, 40.32it/s, batch=937, epoch=33, errD=0.000791,\n",
      "100%|█| 60000/60000 [24:48<00:00, 40.30it/s, batch=937, epoch=34, errD=0.00268, \n",
      "100%|█| 60000/60000 [24:49<00:00, 40.29it/s, batch=937, epoch=35, errD=0.00434, \n",
      "100%|█| 60000/60000 [24:49<00:00, 40.27it/s, batch=937, epoch=36, errD=0.000892,\n",
      "100%|█| 60000/60000 [24:48<00:00, 40.30it/s, batch=937, epoch=37, errD=0.000679,\n",
      "100%|█| 60000/60000 [24:48<00:00, 40.30it/s, batch=937, epoch=38, errD=0.001, er\n",
      "100%|█| 60000/60000 [24:49<00:00, 40.28it/s, batch=937, epoch=39, errD=0.00165, \n",
      "100%|█| 60000/60000 [24:47<00:00, 40.33it/s, batch=937, epoch=40, errD=0.00106, \n",
      "100%|█| 60000/60000 [24:48<00:00, 40.31it/s, batch=937, epoch=41, errD=0.000562,\n",
      "100%|█| 60000/60000 [24:49<00:00, 40.29it/s, batch=937, epoch=42, errD=0.00282, \n",
      "100%|█| 60000/60000 [24:48<00:00, 40.31it/s, batch=937, epoch=43, errD=0.00567, \n",
      "100%|█| 60000/60000 [24:48<00:00, 40.30it/s, batch=937, epoch=44, errD=0.000397,\n",
      "100%|█| 60000/60000 [24:49<00:00, 40.29it/s, batch=937, epoch=45, errD=0.000346,\n",
      "100%|█| 60000/60000 [24:48<00:00, 40.32it/s, batch=937, epoch=46, errD=0.564, er\n",
      "100%|█| 60000/60000 [24:48<00:00, 40.31it/s, batch=937, epoch=47, errD=0.005, er\n",
      "100%|█| 60000/60000 [24:49<00:00, 40.29it/s, batch=937, epoch=48, errD=0.0105, e\n",
      "100%|█| 60000/60000 [24:48<00:00, 40.31it/s, batch=937, epoch=49, errD=0.026, er\n",
      "100%|█| 60000/60000 [24:50<00:00, 40.27it/s, batch=937, epoch=50, errD=0.000484,\n",
      "100%|█| 60000/60000 [25:03<00:00, 39.90it/s, batch=937, epoch=51, errD=0.00287, \n",
      "100%|█| 60000/60000 [25:03<00:00, 39.91it/s, batch=937, epoch=52, errD=0.0158, e\n",
      "100%|█| 60000/60000 [24:49<00:00, 40.28it/s, batch=937, epoch=53, errD=0.000173,\n",
      " 96%|▉| 57664/60000 [23:51<00:57, 40.39it/s, batch=900, epoch=54, errD=6.02e-5, ^C\n",
      " 96%|▉| 57664/60000 [23:51<00:58, 40.27it/s, batch=900, epoch=54, errD=6.02e-5, \n",
      "Traceback (most recent call last):\n",
      "  File \"./dcgan_run.py\", line 283, in <module>\n",
      "    z, sldj = netG(data[0].to(device), reverse=False)\n",
      "  File \"/nfs/homedirs/qian/anaconda3/envs/myenv/lib/python3.7/site-packages/torch/nn/modules/module.py\", line 727, in _call_impl\n",
      "    result = self.forward(*input, **kwargs)\n",
      "  File \"/nfs/students/winter-term-2020/project-5/project-5/flow_gan/models/real_nvp/real_nvp.py\", line 42, in forward\n",
      "    x, sldj = self.flows(x, sldj, reverse)\n",
      "  File \"/nfs/homedirs/qian/anaconda3/envs/myenv/lib/python3.7/site-packages/torch/nn/modules/module.py\", line 727, in _call_impl\n",
      "    result = self.forward(*input, **kwargs)\n",
      "  File \"/nfs/students/winter-term-2020/project-5/project-5/flow_gan/models/real_nvp/real_nvp.py\", line 140, in forward\n",
      "    x, sldj = self.next_block(x, sldj, reverse)\n",
      "  File \"/nfs/homedirs/qian/anaconda3/envs/myenv/lib/python3.7/site-packages/torch/nn/modules/module.py\", line 727, in _call_impl\n",
      "    result = self.forward(*input, **kwargs)\n",
      "  File \"/nfs/students/winter-term-2020/project-5/project-5/flow_gan/models/real_nvp/real_nvp.py\", line 128, in forward\n",
      "    x, sldj = coupling(x, sldj, reverse)\n",
      "  File \"/nfs/homedirs/qian/anaconda3/envs/myenv/lib/python3.7/site-packages/torch/nn/modules/module.py\", line 727, in _call_impl\n",
      "    result = self.forward(*input, **kwargs)\n",
      "  File \"/nfs/students/winter-term-2020/project-5/project-5/flow_gan/models/real_nvp/coupling_layer.py\", line 60, in forward\n"
     ]
    }
   ],
   "source": [
    "!python ./dcgan_run.py --dataset 'mnist' --dataroot './data' --cuda --outf './samples_hybrid_decay' --log_path './flowgan_hybrid_decay.log' --batchSize 64 --niter 100  --start_epoch 0"
   ]
  },
  {
   "cell_type": "code",
   "execution_count": 2,
   "metadata": {},
   "outputs": [
    {
     "name": "stdout",
     "output_type": "stream",
     "text": [
      "Namespace(batchSize=64, beta1=0.5, classes='bedroom', cuda=True, dataroot='./data', dataset='mnist', dry_run=False, imageSize=28, log_path='./GAN_for_flow.log', lr=0.0002, manualSeed=None, ndf=28, netD='./GAN_for_flow/netD_epoch_99.pth', netG='./GAN_for_flow/netG_epoch_99.pth', ngf=28, ngpu=1, niter=150, nz=100, outf='./GAN_for_flow', start_epoch=100, workers=2)\n",
      "Random Seed: r 5825\n",
      "  2%| | 192/10000 [00:07<06:49, 23.95it/s, batch=2, epoch=100, errD=0.00114, err^C\n",
      "  2%| | 192/10000 [00:07<06:37, 24.64it/s, batch=2, epoch=100, errD=0.00114, err\n",
      "Traceback (most recent call last):\n",
      "  File \"./dcgan_cp.py\", line 274, in <module>\n",
      "    for i, data in enumerate(dataloader):\n",
      "  File \"./dcgan_cp.py\", line 80, in my_dataloader\n",
      "    img = transform(Image.open(os.path.join(root_dir, lst[n])))\n",
      "  File \"/nfs/homedirs/qian/anaconda3/envs/myenv/lib/python3.7/site-packages/PIL/Image.py\", line 2900, in open\n",
      "    prefix = fp.read(16)\n",
      "KeyboardInterrupt\n"
     ]
    }
   ],
   "source": [
    "!python ./dcgan_cp.py --niter 150 --dataset 'mnist' --dataroot './data' --cuda --outf './GAN_for_flow' --log_path './GAN_for_flow.log' --batchSize 64  --imageSize 28  --start_epoch 100 --netD './GAN_for_flow/netD_epoch_99.pth'  --netG  './GAN_for_flow/netG_epoch_99.pth'"
   ]
  },
  {
   "cell_type": "markdown",
   "metadata": {},
   "source": [
    "Running flowgan on GAN generated data but now the loss is only likelihood one."
   ]
  },
  {
   "cell_type": "code",
   "execution_count": null,
   "metadata": {},
   "outputs": [],
   "source": [
    "!python ./dcgan_cp.py --niter 100 --dataset 'mnist' --dataroot './data' --cuda --outf './GAN_for_flow_likelihood' --log_path './GAN_for_flow_likelihood.log' --batchSize 64  --imageSize 28  --start_epoch 0"
   ]
  }
 ],
 "metadata": {
  "kernelspec": {
   "display_name": "Python 3",
   "language": "python",
   "name": "python3"
  },
  "language_info": {
   "codemirror_mode": {
    "name": "ipython",
    "version": 3
   },
   "file_extension": ".py",
   "mimetype": "text/x-python",
   "name": "python",
   "nbconvert_exporter": "python",
   "pygments_lexer": "ipython3",
   "version": "3.8.3"
  }
 },
 "nbformat": 4,
 "nbformat_minor": 4
}
