{
 "cells": [
  {
   "cell_type": "code",
   "execution_count": null,
   "metadata": {},
   "outputs": [
    {
     "name": "stdout",
     "output_type": "stream",
     "text": [
      "100%|█| 50000/50000 [38:46<00:00, 21.49it/s, batch=1562, epoch=0, errD=0.0877, e\n",
      "100%|█| 50000/50000 [38:51<00:00, 21.44it/s, batch=1562, epoch=1, errD=0.991, er\n",
      "100%|█| 50000/50000 [38:59<00:00, 21.38it/s, batch=1562, epoch=2, errD=1.32, err\n",
      "100%|█| 50000/50000 [38:58<00:00, 21.38it/s, batch=1562, epoch=3, errD=1.17, err\n",
      "100%|█| 50000/50000 [38:59<00:00, 21.37it/s, batch=1562, epoch=4, errD=0.418, er\n",
      "100%|█| 50000/50000 [38:58<00:00, 21.38it/s, batch=1562, epoch=5, errD=0.172, er\n",
      "100%|█| 50000/50000 [38:58<00:00, 21.38it/s, batch=1562, epoch=6, errD=0.233, er\n",
      "100%|█| 50000/50000 [38:57<00:00, 21.39it/s, batch=1562, epoch=7, errD=0.919, er\n",
      "100%|█| 50000/50000 [38:57<00:00, 21.39it/s, batch=1562, epoch=8, errD=1.59, err\n",
      "100%|█| 50000/50000 [38:59<00:00, 21.38it/s, batch=1562, epoch=9, errD=0.83, err\n",
      "100%|█| 50000/50000 [38:59<00:00, 21.37it/s, batch=1562, epoch=10, errD=0.151, e\n",
      "100%|█| 50000/50000 [38:59<00:00, 21.37it/s, batch=1562, epoch=11, errD=0.751, e\n",
      "100%|█| 50000/50000 [39:01<00:00, 21.35it/s, batch=1562, epoch=12, errD=1.13, er\n",
      "100%|█| 50000/50000 [39:01<00:00, 21.35it/s, batch=1562, epoch=13, errD=0.0722, \n",
      "100%|█| 50000/50000 [38:58<00:00, 21.38it/s, batch=1562, epoch=14, errD=0.942, e\n",
      "100%|█| 50000/50000 [38:55<00:00, 21.41it/s, batch=1562, epoch=15, errD=0.954, e\n",
      "100%|█| 50000/50000 [38:56<00:00, 21.40it/s, batch=1562, epoch=16, errD=1.23, er\n",
      "100%|█| 50000/50000 [38:53<00:00, 21.43it/s, batch=1562, epoch=17, errD=0.76, er\n",
      "100%|█| 50000/50000 [38:51<00:00, 21.44it/s, batch=1562, epoch=18, errD=0.201, e\n",
      "100%|█| 50000/50000 [38:57<00:00, 21.39it/s, batch=1562, epoch=19, errD=4.02, er\n",
      "100%|█| 50000/50000 [38:57<00:00, 21.39it/s, batch=1562, epoch=20, errD=0.672, e\n",
      "100%|█| 50000/50000 [38:57<00:00, 21.39it/s, batch=1562, epoch=21, errD=0.248, e\n",
      "100%|█| 50000/50000 [38:54<00:00, 21.42it/s, batch=1562, epoch=22, errD=0.641, e\n",
      "100%|█| 50000/50000 [38:54<00:00, 21.42it/s, batch=1562, epoch=23, errD=1.61, er\n",
      "100%|█| 50000/50000 [38:56<00:00, 21.40it/s, batch=1562, epoch=24, errD=0.0823, \n",
      "100%|█| 50000/50000 [38:58<00:00, 21.38it/s, batch=1562, epoch=25, errD=3.26, er\n",
      "100%|█| 50000/50000 [38:58<00:00, 21.38it/s, batch=1562, epoch=26, errD=0.0671, \n",
      "100%|█| 50000/50000 [38:57<00:00, 21.39it/s, batch=1562, epoch=27, errD=1.55, er\n",
      "100%|█| 50000/50000 [38:57<00:00, 21.39it/s, batch=1562, epoch=28, errD=0.0365, \n",
      "100%|█| 50000/50000 [38:55<00:00, 21.41it/s, batch=1562, epoch=29, errD=0.181, e\n",
      "100%|█| 50000/50000 [38:57<00:00, 21.39it/s, batch=1562, epoch=30, errD=0.066, e\n",
      "100%|█| 50000/50000 [38:57<00:00, 21.39it/s, batch=1562, epoch=31, errD=1, errG=\n",
      "100%|█| 50000/50000 [38:55<00:00, 21.41it/s, batch=1562, epoch=32, errD=1.18, er\n",
      "100%|█| 50000/50000 [38:57<00:00, 21.39it/s, batch=1562, epoch=33, errD=0.000666\n",
      " 79%|▊| 39584/50000 [30:53<08:06, 21.40it/s, batch=1236, epoch=34, errD=0.278, e"
     ]
    }
   ],
   "source": [
    "!python ./dcgan_run.py --dataset 'cifar10' --dataroot './data' --cuda --outf './flowgan_cifar_adv/' --log_path './flowgan_cifar_adv.log' --batchSize 32 --imageSize 32 --niter 100  --start_epoch 0"
   ]
  },
  {
   "cell_type": "code",
   "execution_count": null,
   "metadata": {},
   "outputs": [],
   "source": [
    "!python ./dcgan_run.py --dataset 'mnist' --dataroot './data' --cuda --outf './samples_hybrid_decay' --log_path './flowgan_hybrid_decay.log' --batchSize 32 --imageSize 32 --niter 100  --start_epoch 0"
   ]
  },
  {
   "cell_type": "code",
   "execution_count": null,
   "metadata": {
    "scrolled": true
   },
   "outputs": [],
   "source": [
    "!python ./dcgan_cp.py --niter 150 --dataset 'mnist' --dataroot './data' --cuda --outf './GAN_for_flow' --log_path './GAN_for_flow.log' --batchSize 64  --imageSize 28  --start_epoch 100 --netD './GAN_for_flow/netD_epoch_99.pth'  --netG  './GAN_for_flow/netG_epoch_99.pth'"
   ]
  },
  {
   "cell_type": "markdown",
   "metadata": {},
   "source": [
    "Running flowgan on GAN generated data but now the loss is only likelihood one."
   ]
  },
  {
   "cell_type": "code",
   "execution_count": null,
   "metadata": {},
   "outputs": [],
   "source": [
    "!python ./dcgan_cp.py --niter 100 --dataset 'mnist' --dataroot './data' --cuda --outf './GAN_for_flow_likelihood' --log_path './GAN_for_flow_likelihood.log' --batchSize 64  --imageSize 28  --start_epoch 0"
   ]
  }
 ],
 "metadata": {
  "kernelspec": {
   "display_name": "Python 3",
   "language": "python",
   "name": "python3"
  },
  "language_info": {
   "codemirror_mode": {
    "name": "ipython",
    "version": 3
   },
   "file_extension": ".py",
   "mimetype": "text/x-python",
   "name": "python",
   "nbconvert_exporter": "python",
   "pygments_lexer": "ipython3",
   "version": "3.8.3"
  }
 },
 "nbformat": 4,
 "nbformat_minor": 4
}
