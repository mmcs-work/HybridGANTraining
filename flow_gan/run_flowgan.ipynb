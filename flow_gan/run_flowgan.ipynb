{
 "cells": [
  {
   "cell_type": "code",
   "execution_count": null,
   "metadata": {},
   "outputs": [
    {
     "name": "stdout",
     "output_type": "stream",
     "text": [
      "100%|█| 50000/50000 [38:46<00:00, 21.49it/s, batch=1562, epoch=0, errD=0.0877, e\n",
      "100%|█| 50000/50000 [38:51<00:00, 21.44it/s, batch=1562, epoch=1, errD=0.991, er\n",
      " 54%|▌| 27200/50000 [21:12<17:46, 21.37it/s, batch=849, epoch=2, errD=1.33, errG"
     ]
    }
   ],
   "source": [
    "!python ./dcgan_run.py --dataset 'cifar10' --dataroot './data' --cuda --outf './flowgan_cifar_adv/' --log_path './flowgan_cifar_adv.log' --batchSize 32 --imageSize 32 --niter 100  --start_epoch 0"
   ]
  },
  {
   "cell_type": "code",
   "execution_count": null,
   "metadata": {},
   "outputs": [],
   "source": [
    "!python ./dcgan_run.py --dataset 'mnist' --dataroot './data' --cuda --outf './samples_hybrid_decay' --log_path './flowgan_hybrid_decay.log' --batchSize 32 --imageSize 32 --niter 100  --start_epoch 0"
   ]
  },
  {
   "cell_type": "code",
   "execution_count": null,
   "metadata": {
    "scrolled": true
   },
   "outputs": [],
   "source": [
    "!python ./dcgan_cp.py --niter 150 --dataset 'mnist' --dataroot './data' --cuda --outf './GAN_for_flow' --log_path './GAN_for_flow.log' --batchSize 64  --imageSize 28  --start_epoch 100 --netD './GAN_for_flow/netD_epoch_99.pth'  --netG  './GAN_for_flow/netG_epoch_99.pth'"
   ]
  },
  {
   "cell_type": "code",
   "execution_count": null,
   "metadata": {},
   "outputs": [],
   "source": []
  }
 ],
 "metadata": {
  "kernelspec": {
   "display_name": "Python 3",
   "language": "python",
   "name": "python3"
  },
  "language_info": {
   "codemirror_mode": {
    "name": "ipython",
    "version": 3
   },
   "file_extension": ".py",
   "mimetype": "text/x-python",
   "name": "python",
   "nbconvert_exporter": "python",
   "pygments_lexer": "ipython3",
   "version": "3.7.9"
  }
 },
 "nbformat": 4,
 "nbformat_minor": 4
}
