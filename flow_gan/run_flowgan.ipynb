{
 "cells": [
  {
   "cell_type": "code",
   "execution_count": null,
   "metadata": {},
   "outputs": [],
   "source": [
    "!python ./dcgan_run.py --dataset 'cifar10' --dataroot './data' --cuda --outf './flowgan_cifar_adv/' --log_path './flowgan_cifar_adv.log' --batchSize 32 --imageSize 32 --niter 100  --start_epoch 0"
   ]
  },
  {
   "cell_type": "code",
   "execution_count": null,
   "metadata": {},
   "outputs": [],
   "source": [
    "!python ./dcgan_run.py --dataset 'mnist' --dataroot './data' --cuda --outf './samples_hybrid_decay' --log_path './flowgan_hybrid_decay.log' --batchSize 32 --imageSize 32 --niter 100  --start_epoch 0"
   ]
  },
  {
   "cell_type": "markdown",
   "metadata": {},
   "source": [
    "Running flowgan on GAN generated data but now the loss is only likelihood one."
   ]
  },
  {
   "cell_type": "code",
   "execution_count": 72,
   "metadata": {},
   "outputs": [
    {
     "name": "stdout",
     "output_type": "stream",
     "text": [
      "Namespace(batchSize=32, beta1=0.5, classes='bedroom', cuda=True, dataroot='./data', dataset='mnist', dry_run=False, generate=0, generate_img_nums=100, generate_loc='', imageSize=28, log_path='./flowgan_for_flow_likelihood.log', lr=0.0002, manualSeed=None, ndf=28, netD='', netG='', ngf=28, ngpu=1, niter=100, nz=100, outf='./flowgan_for_flow_likelihood', root_dir='./Generated_Images/flowgan_ADV', start_epoch=0, workers=2)\n",
      "Random Seed: r 4360\n",
      "100%|█| 10048/10048 [04:06<00:00, 40.70it/s, batch=313, epoch=0, errD=0.789, err\n",
      "100%|█| 10048/10048 [04:06<00:00, 40.79it/s, batch=313, epoch=1, errD=0.531, err\n",
      "100%|█| 10048/10048 [04:06<00:00, 40.77it/s, batch=313, epoch=2, errD=0.265, err\n",
      "100%|█| 10048/10048 [04:05<00:00, 40.85it/s, batch=313, epoch=3, errD=0.233, err\n",
      "100%|█| 10048/10048 [04:05<00:00, 40.90it/s, batch=313, epoch=4, errD=0.183, err\n",
      "100%|█| 10048/10048 [04:06<00:00, 40.79it/s, batch=313, epoch=5, errD=0.155, err\n",
      "100%|█| 10048/10048 [04:05<00:00, 40.96it/s, batch=313, epoch=6, errD=0.0799, er\n",
      "100%|█| 10048/10048 [04:05<00:00, 40.98it/s, batch=313, epoch=7, errD=0.126, err\n",
      "100%|█| 10048/10048 [04:06<00:00, 40.75it/s, batch=313, epoch=8, errD=0.0545, er\n",
      "100%|█| 10048/10048 [04:07<00:00, 40.67it/s, batch=313, epoch=9, errD=0.0699, er\n",
      "100%|█| 10048/10048 [04:06<00:00, 40.69it/s, batch=313, epoch=10, errD=0.0333, e\n",
      "100%|█| 10048/10048 [04:06<00:00, 40.75it/s, batch=313, epoch=11, errD=0.264, er\n",
      "100%|█| 10048/10048 [04:07<00:00, 40.66it/s, batch=313, epoch=12, errD=0.0401, e\n",
      "100%|█| 10048/10048 [04:07<00:00, 40.53it/s, batch=313, epoch=13, errD=0.0277, e\n",
      "100%|█| 10048/10048 [04:06<00:00, 40.82it/s, batch=313, epoch=14, errD=0.0309, e\n",
      "100%|█| 10048/10048 [04:07<00:00, 40.67it/s, batch=313, epoch=15, errD=0.0317, e\n",
      "100%|█| 10048/10048 [04:08<00:00, 40.51it/s, batch=313, epoch=16, errD=0.0444, e\n",
      "100%|█| 10048/10048 [04:07<00:00, 40.55it/s, batch=313, epoch=17, errD=0.035, er\n",
      "100%|█| 10048/10048 [04:07<00:00, 40.58it/s, batch=313, epoch=18, errD=0.0385, e\n",
      "100%|█| 10048/10048 [04:08<00:00, 40.48it/s, batch=313, epoch=19, errD=0.0158, e\n",
      "100%|█| 10048/10048 [04:07<00:00, 40.53it/s, batch=313, epoch=20, errD=0.0144, e\n",
      "100%|█| 10048/10048 [04:08<00:00, 40.50it/s, batch=313, epoch=21, errD=0.0203, e\n",
      "100%|█| 10048/10048 [04:08<00:00, 40.51it/s, batch=313, epoch=22, errD=0.0333, e\n",
      "100%|█| 10048/10048 [04:08<00:00, 40.50it/s, batch=313, epoch=23, errD=0.0256, e\n",
      "100%|█| 10048/10048 [04:08<00:00, 40.51it/s, batch=313, epoch=24, errD=0.0136, e\n",
      "100%|█| 10048/10048 [04:06<00:00, 40.74it/s, batch=313, epoch=25, errD=0.0154, e\n",
      "100%|█| 10048/10048 [04:07<00:00, 40.58it/s, batch=313, epoch=26, errD=0.0251, e\n",
      "100%|█| 10048/10048 [04:08<00:00, 40.36it/s, batch=313, epoch=27, errD=0.0334, e\n",
      "100%|█| 10048/10048 [04:07<00:00, 40.57it/s, batch=313, epoch=28, errD=0.0102, e\n",
      "100%|█| 10048/10048 [04:08<00:00, 40.43it/s, batch=313, epoch=29, errD=0.0191, e\n",
      "100%|█| 10048/10048 [04:08<00:00, 40.41it/s, batch=313, epoch=30, errD=0.0133, e\n",
      "100%|█| 10048/10048 [04:08<00:00, 40.44it/s, batch=313, epoch=31, errD=0.012, er\n",
      "100%|█| 10048/10048 [04:09<00:00, 40.31it/s, batch=313, epoch=32, errD=0.00876, \n",
      "100%|█| 10048/10048 [04:08<00:00, 40.45it/s, batch=313, epoch=33, errD=0.00671, \n",
      "100%|█| 10048/10048 [04:08<00:00, 40.40it/s, batch=313, epoch=34, errD=0.0151, e\n",
      "100%|█| 10048/10048 [04:09<00:00, 40.35it/s, batch=313, epoch=35, errD=0.00959, \n",
      "100%|█| 10048/10048 [04:08<00:00, 40.45it/s, batch=313, epoch=36, errD=0.00638, \n",
      "100%|█| 10048/10048 [04:08<00:00, 40.47it/s, batch=313, epoch=37, errD=0.00584, \n",
      "100%|█| 10048/10048 [04:08<00:00, 40.47it/s, batch=313, epoch=38, errD=0.0214, e\n",
      "100%|█| 10048/10048 [04:08<00:00, 40.45it/s, batch=313, epoch=39, errD=0.00433, \n",
      "100%|█| 10048/10048 [04:09<00:00, 40.30it/s, batch=313, epoch=40, errD=0.00485, \n",
      "100%|█| 10048/10048 [04:08<00:00, 40.44it/s, batch=313, epoch=41, errD=0.00354, \n",
      "100%|█| 10048/10048 [04:08<00:00, 40.45it/s, batch=313, epoch=42, errD=0.003, er\n",
      "100%|█| 10048/10048 [04:08<00:00, 40.43it/s, batch=313, epoch=43, errD=0.00249, \n",
      "100%|█| 10048/10048 [04:08<00:00, 40.41it/s, batch=313, epoch=44, errD=0.0144, e\n",
      "100%|█| 10048/10048 [04:08<00:00, 40.43it/s, batch=313, epoch=45, errD=0.00584, \n",
      "100%|█| 10048/10048 [04:08<00:00, 40.38it/s, batch=313, epoch=46, errD=0.00449, \n",
      "100%|█| 10048/10048 [04:08<00:00, 40.39it/s, batch=313, epoch=47, errD=0.0237, e\n",
      "100%|█| 10048/10048 [04:07<00:00, 40.56it/s, batch=313, epoch=48, errD=0.0102, e\n",
      "100%|█| 10048/10048 [04:08<00:00, 40.39it/s, batch=313, epoch=49, errD=0.00299, \n",
      "100%|█| 10048/10048 [04:07<00:00, 40.58it/s, batch=313, epoch=50, errD=0.00386, \n",
      "100%|█| 10048/10048 [04:08<00:00, 40.49it/s, batch=313, epoch=51, errD=0.002, er\n",
      "100%|█| 10048/10048 [04:09<00:00, 40.21it/s, batch=313, epoch=52, errD=0.0176, e\n",
      "100%|█| 10048/10048 [04:07<00:00, 40.54it/s, batch=313, epoch=53, errD=0.0094, e\n",
      "100%|█| 10048/10048 [04:08<00:00, 40.46it/s, batch=313, epoch=54, errD=0.00538, \n",
      "100%|█| 10048/10048 [04:08<00:00, 40.42it/s, batch=313, epoch=55, errD=0.0131, e\n",
      "100%|█| 10048/10048 [04:08<00:00, 40.46it/s, batch=313, epoch=56, errD=0.00307, \n",
      "100%|█| 10048/10048 [04:08<00:00, 40.38it/s, batch=313, epoch=57, errD=0.00252, \n",
      "100%|█| 10048/10048 [04:08<00:00, 40.49it/s, batch=313, epoch=58, errD=0.00325, \n",
      "100%|█| 10048/10048 [04:09<00:00, 40.33it/s, batch=313, epoch=59, errD=0.00202, \n",
      "100%|█| 10048/10048 [04:07<00:00, 40.52it/s, batch=313, epoch=60, errD=0.00157, \n",
      "100%|█| 10048/10048 [04:08<00:00, 40.36it/s, batch=313, epoch=61, errD=0.00138, \n",
      "100%|█| 10048/10048 [04:09<00:00, 40.32it/s, batch=313, epoch=62, errD=0.00139, \n",
      "100%|█| 10048/10048 [04:09<00:00, 40.34it/s, batch=313, epoch=63, errD=0.00595, \n",
      "100%|█| 10048/10048 [04:08<00:00, 40.51it/s, batch=313, epoch=64, errD=0.00552, \n",
      "100%|█| 10048/10048 [04:09<00:00, 40.32it/s, batch=313, epoch=65, errD=0.00279, \n",
      "100%|█| 10048/10048 [04:09<00:00, 40.32it/s, batch=313, epoch=66, errD=0.00231, \n",
      "100%|█| 10048/10048 [04:08<00:00, 40.36it/s, batch=313, epoch=67, errD=0.00213, \n",
      "100%|█| 10048/10048 [04:08<00:00, 40.43it/s, batch=313, epoch=68, errD=0.00171, \n",
      "100%|█| 10048/10048 [04:08<00:00, 40.40it/s, batch=313, epoch=69, errD=0.00152, \n",
      "100%|█| 10048/10048 [04:09<00:00, 40.30it/s, batch=313, epoch=70, errD=0.0013, e\n",
      "100%|█| 10048/10048 [04:08<00:00, 40.36it/s, batch=313, epoch=71, errD=0.00108, \n",
      "100%|█| 10048/10048 [04:09<00:00, 40.32it/s, batch=313, epoch=72, errD=0.00773, \n",
      "100%|█| 10048/10048 [04:09<00:00, 40.31it/s, batch=313, epoch=73, errD=0.00358, \n",
      "100%|█| 10048/10048 [04:08<00:00, 40.40it/s, batch=313, epoch=74, errD=0.00237, \n",
      "100%|█| 10048/10048 [04:09<00:00, 40.29it/s, batch=313, epoch=75, errD=0.00177, \n",
      "100%|█| 10048/10048 [04:12<00:00, 39.85it/s, batch=313, epoch=76, errD=0.00133, \n",
      "100%|█| 10048/10048 [04:10<00:00, 40.09it/s, batch=313, epoch=77, errD=0.00113, \n",
      "100%|█| 10048/10048 [04:09<00:00, 40.27it/s, batch=313, epoch=78, errD=0.00367, \n",
      "100%|█| 10048/10048 [04:09<00:00, 40.22it/s, batch=313, epoch=79, errD=0.00304, \n",
      " 93%|▉| 9312/10048 [03:50<00:18, 40.83it/s, batch=290, epoch=80, errD=0.000829, ^C\n",
      " 93%|▉| 9312/10048 [03:51<00:18, 40.29it/s, batch=290, epoch=80, errD=0.000829, \n",
      "Traceback (most recent call last):\n",
      "  File \"./dcgan_cp.py\", line 342, in <module>\n",
      "    z, sldj = netG(data.to(device), reverse=False)\n",
      "  File \"/nfs/homedirs/qian/anaconda3/envs/myenv/lib/python3.7/site-packages/torch/nn/modules/module.py\", line 727, in _call_impl\n",
      "    result = self.forward(*input, **kwargs)\n",
      "  File \"/nfs/students/winter-term-2020/project-5/project-5/flow_gan/models/real_nvp/real_nvp.py\", line 42, in forward\n",
      "    x, sldj = self.flows(x, sldj, reverse)\n",
      "  File \"/nfs/homedirs/qian/anaconda3/envs/myenv/lib/python3.7/site-packages/torch/nn/modules/module.py\", line 727, in _call_impl\n",
      "    result = self.forward(*input, **kwargs)\n",
      "  File \"/nfs/students/winter-term-2020/project-5/project-5/flow_gan/models/real_nvp/real_nvp.py\", line 134, in forward\n",
      "    x, sldj = coupling(x, sldj, reverse)\n",
      "  File \"/nfs/homedirs/qian/anaconda3/envs/myenv/lib/python3.7/site-packages/torch/nn/modules/module.py\", line 727, in _call_impl\n",
      "    result = self.forward(*input, **kwargs)\n",
      "  File \"/nfs/students/winter-term-2020/project-5/project-5/flow_gan/models/real_nvp/coupling_layer.py\", line 73, in forward\n",
      "    st = self.st_net(x_id)\n",
      "  File \"/nfs/homedirs/qian/anaconda3/envs/myenv/lib/python3.7/site-packages/torch/nn/modules/module.py\", line 727, in _call_impl\n",
      "    result = self.forward(*input, **kwargs)\n",
      "  File \"/nfs/students/winter-term-2020/project-5/project-5/flow_gan/models/resnet/resnet.py\", line 48, in forward\n",
      "    x_skip += skip(x)\n",
      "KeyboardInterrupt\n"
     ]
    }
   ],
   "source": [
    "!python ./dcgan_cp.py --niter 100 --dataset 'mnist' --dataroot './data' --cuda --outf './flowgan_for_flow_likelihood' --log_path './flowgan_for_flow_likelihood.log' --batchSize 32  --imageSize 28  --start_epoch 0  --root_dir './Generated_Images/flowgan_ADV'"
   ]
  },
  {
   "cell_type": "code",
   "execution_count": null,
   "metadata": {},
   "outputs": [],
   "source": []
  }
 ],
 "metadata": {
  "kernelspec": {
   "display_name": "Python 3",
   "language": "python",
   "name": "python3"
  },
  "language_info": {
   "codemirror_mode": {
    "name": "ipython",
    "version": 3
   },
   "file_extension": ".py",
   "mimetype": "text/x-python",
   "name": "python",
   "nbconvert_exporter": "python",
   "pygments_lexer": "ipython3",
   "version": "3.8.3"
  }
 },
 "nbformat": 4,
 "nbformat_minor": 4
}
