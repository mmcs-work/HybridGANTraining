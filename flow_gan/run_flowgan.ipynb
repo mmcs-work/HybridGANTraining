{
 "cells": [
  {
   "cell_type": "code",
   "execution_count": 2,
   "metadata": {},
   "outputs": [
    {
     "name": "stdout",
     "output_type": "stream",
     "text": [
      "Namespace(batchSize=64, beta1=0.5, classes='bedroom', cuda=True, dataroot='./data', dataset='mnist', dry_run=False, imageSize=64, lr=0.0002, manualSeed=None, ndf=28, netD='./samples_hybrid/netD_epoch_42.pth', netG='./samples_hybrid/netG_epoch_42.pth', ngf=28, ngpu=1, niter=9, nz=100, outf='./samples_hybrid', workers=2)\n",
      "Random Seed: r 3751\n",
      "100%|█| 60000/60000 [24:49<00:00, 40.28it/s, batch=937, epoch=42, errD=0.000374,\n",
      "100%|█| 60000/60000 [24:50<00:00, 40.26it/s, batch=937, epoch=43, errD=0.00324, \n",
      "100%|█| 60000/60000 [24:54<00:00, 40.13it/s, batch=937, epoch=44, errD=0.0487, e\n",
      "100%|█| 60000/60000 [25:05<00:00, 39.84it/s, batch=937, epoch=45, errD=0.00809, \n",
      "100%|█| 60000/60000 [24:56<00:00, 40.08it/s, batch=937, epoch=46, errD=0.00106, \n",
      "100%|█| 60000/60000 [24:54<00:00, 40.15it/s, batch=937, epoch=47, errD=0.00109, \n",
      "100%|█| 60000/60000 [24:54<00:00, 40.15it/s, batch=937, epoch=48, errD=0.000625,\n",
      "100%|█| 60000/60000 [24:55<00:00, 40.13it/s, batch=937, epoch=49, errD=0.000698,\n",
      " 33%|▎| 19968/60000 [08:18<16:36, 40.16it/s, batch=311, epoch=50, errD=0.00108, ^C\n",
      " 33%|▎| 19968/60000 [08:18<16:39, 40.05it/s, batch=311, epoch=50, errD=0.00108, \n",
      "Traceback (most recent call last):\n",
      "  File \"./dcgan_run.py\", line 277, in <module>\n",
      "    z, sldj = netG(data[0].to(device), reverse=False)\n",
      "  File \"/nfs/homedirs/qian/anaconda3/envs/myenv/lib/python3.7/site-packages/torch/nn/modules/module.py\", line 727, in _call_impl\n",
      "    result = self.forward(*input, **kwargs)\n",
      "  File \"/nfs/students/winter-term-2020/project-5/project-5/flow_gan/models/real_nvp/real_nvp.py\", line 42, in forward\n",
      "    x, sldj = self.flows(x, sldj, reverse)\n",
      "  File \"/nfs/homedirs/qian/anaconda3/envs/myenv/lib/python3.7/site-packages/torch/nn/modules/module.py\", line 727, in _call_impl\n",
      "    result = self.forward(*input, **kwargs)\n",
      "  File \"/nfs/students/winter-term-2020/project-5/project-5/flow_gan/models/real_nvp/real_nvp.py\", line 134, in forward\n",
      "    x, sldj = coupling(x, sldj, reverse)\n",
      "  File \"/nfs/homedirs/qian/anaconda3/envs/myenv/lib/python3.7/site-packages/torch/nn/modules/module.py\", line 727, in _call_impl\n",
      "    result = self.forward(*input, **kwargs)\n",
      "  File \"/nfs/students/winter-term-2020/project-5/project-5/flow_gan/models/real_nvp/coupling_layer.py\", line 85, in forward\n",
      "    if torch.isnan(exp_s).any():\n",
      "KeyboardInterrupt\n"
     ]
    }
   ],
   "source": [
    "!python ./dcgan_run.py --niter 9 --dataset 'mnist' --dataroot './data' --cuda --outf './samples_hybrid' --batchSize 64"
   ]
  },
  {
   "cell_type": "code",
   "execution_count": null,
   "metadata": {},
   "outputs": [],
   "source": []
  }
 ],
 "metadata": {
  "kernelspec": {
   "display_name": "Python 3",
   "language": "python",
   "name": "python3"
  },
  "language_info": {
   "codemirror_mode": {
    "name": "ipython",
    "version": 3
   },
   "file_extension": ".py",
   "mimetype": "text/x-python",
   "name": "python",
   "nbconvert_exporter": "python",
   "pygments_lexer": "ipython3",
   "version": "3.7.9"
  }
 },
 "nbformat": 4,
 "nbformat_minor": 4
}
