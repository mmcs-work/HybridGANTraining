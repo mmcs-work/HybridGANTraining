{
 "cells": [
  {
   "cell_type": "code",
   "execution_count": null,
   "metadata": {},
   "outputs": [],
   "source": [
    "!python ./dcgan_run.py --dataset 'cifar10' --dataroot './data' --cuda --outf './flowgan_cifar_adv/' --log_path './flowgan_cifar_adv.log' --batchSize 32 --imageSize 32 --niter 100  --start_epoch 0"
   ]
  },
  {
   "cell_type": "code",
   "execution_count": null,
   "metadata": {},
   "outputs": [],
   "source": [
    "!python ./dcgan_run.py --dataset 'mnist' --dataroot './data' --cuda --outf './samples_hybrid_decay' --log_path './flowgan_hybrid_decay.log' --batchSize 32 --imageSize 32 --niter 100  --start_epoch 0"
   ]
  },
  {
   "cell_type": "code",
   "execution_count": null,
   "metadata": {
    "scrolled": true
   },
   "outputs": [],
   "source": [
    "!python ./dcgan_cp.py --niter 150 --dataset 'mnist' --dataroot './data' --cuda --outf './GAN_for_flow' --log_path './GAN_for_flow.log' --batchSize 64  --imageSize 28  --start_epoch 100 --netD './GAN_for_flow/netD_epoch_99.pth'  --netG  './GAN_for_flow/netG_epoch_99.pth'"
   ]
  },
  {
   "cell_type": "markdown",
   "metadata": {},
   "source": [
    "Running flowgan on GAN generated data but now the loss is only likelihood one."
   ]
  },
  {
   "cell_type": "code",
   "execution_count": null,
   "metadata": {},
   "outputs": [],
   "source": [
    "!python ./dcgan_cp.py --niter 100 --dataset 'mnist' --dataroot './data' --cuda --outf './GAN_for_flow_likelihood' --log_path './GAN_for_flow_likelihood.log' --batchSize 32  --imageSize 28  --start_epoch 0"
   ]
  },
  {
   "cell_type": "code",
   "execution_count": null,
   "metadata": {},
   "outputs": [
    {
     "name": "stdout",
     "output_type": "stream",
     "text": [
      "Namespace(batchSize=32, beta1=0.5, classes='bedroom', cuda=True, dataroot='./data', dataset='mnist', dry_run=False, generate=0, generate_img_nums=100, generate_loc='', imageSize=28, log_path='./flowgan_for_flow_likelihood.log', lr=0.0002, manualSeed=None, ndf=28, netD='./samples/netD_epoch_49.pth', netG='./samples/netG_epoch_49.pth', ngf=28, ngpu=1, niter=100, nz=100, outf='./flowgan_for_flow_likelihood', root_dir='./Generated_Images/flowgan_ADV', start_epoch=50, workers=2)\n",
      "Random Seed: r 613\n",
      "100%|█| 10048/10048 [04:26<00:00, 37.73it/s, batch=313, epoch=50, errD=0.056, er\n",
      "100%|█| 10048/10048 [04:01<00:00, 41.55it/s, batch=313, epoch=51, errD=0.0401, e\n",
      " 24%|▏| 2400/10048 [00:57<03:02, 41.92it/s, batch=74, epoch=52, errD=0.0218, err"
     ]
    }
   ],
   "source": [
    "!python ./dcgan_cp.py --niter 100 --dataset 'mnist' --dataroot './data' --cuda --outf './flowgan_for_flow_likelihood' --log_path './flowgan_for_flow_likelihood.log' --batchSize 32  --imageSize 28  --start_epoch 50 --netD './samples/netD_epoch_49.pth'  --netG  './samples/netG_epoch_49.pth' --root_dir './Generated_Images/flowgan_ADV'"
   ]
  },
  {
   "cell_type": "code",
   "execution_count": null,
   "metadata": {},
   "outputs": [],
   "source": []
  }
 ],
 "metadata": {
  "kernelspec": {
   "display_name": "Python 3",
   "language": "python",
   "name": "python3"
  },
  "language_info": {
   "codemirror_mode": {
    "name": "ipython",
    "version": 3
   },
   "file_extension": ".py",
   "mimetype": "text/x-python",
   "name": "python",
   "nbconvert_exporter": "python",
   "pygments_lexer": "ipython3",
   "version": "3.7.9"
  }
 },
 "nbformat": 4,
 "nbformat_minor": 4
}
