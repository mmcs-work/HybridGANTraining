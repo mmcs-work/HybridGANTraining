{
 "cells": [
  {
   "cell_type": "markdown",
   "metadata": {},
   "source": [
    "# MNIST Mle"
   ]
  },
  {
   "cell_type": "code",
   "execution_count": null,
   "metadata": {},
   "outputs": [],
   "source": [
    "! python discriminator_score.py --filename 'mnist_mle' \\\n",
    "--netD './mnist_mle_ckpt/netD_epoch_99.pth' \\\n",
    "# --netG './mnist_mle_ckpt/netG_epoch_30.pth' \\"
   ]
  },
  {
   "cell_type": "code",
   "execution_count": null,
   "metadata": {},
   "outputs": [],
   "source": [
    "import numpy as np\n",
    "import pandas as pd\n",
    "import seaborn as sns\n",
    "\n",
    "npzfile = np.load('mnist_mle.npz')\n",
    "real, fake = npzfile['arr_0'], npzfile['arr_1']\n",
    "\n",
    "real = np.expand_dims(real, axis=0).T\n",
    "fake = np.expand_dims(fake, axis=0).T\n",
    "\n",
    "df = pd.DataFrame(np.concatenate((real, fake), axis=1), columns=[\"real\", \"fake\"])\n",
    "sns.histplot(data=df)"
   ]
  },
  {
   "cell_type": "code",
   "execution_count": null,
   "metadata": {},
   "outputs": [],
   "source": [
    "! python discriminator_score.py --filename 'mnist_mle' \\\n",
    "--netD './mnist_mle_ckpt/netD_epoch_99.pth' \\\n",
    "--netG './mnist_mle_ckpt/netG_epoch_99.pth'"
   ]
  },
  {
   "cell_type": "code",
   "execution_count": null,
   "metadata": {},
   "outputs": [],
   "source": [
    "import numpy as np\n",
    "import pandas as pd\n",
    "import seaborn as sns\n",
    "\n",
    "npzfile = np.load('mnist_mle.npz')\n",
    "real, fake = npzfile['arr_0'], npzfile['arr_1']\n",
    "\n",
    "real = np.expand_dims(real, axis=0).T\n",
    "fake = np.expand_dims(fake, axis=0).T\n",
    "\n",
    "df = pd.DataFrame(np.concatenate((real, fake), axis=1), columns=[\"real\", \"fake\"])\n",
    "sns.histplot(data=df)"
   ]
  },
  {
   "cell_type": "markdown",
   "metadata": {},
   "source": [
    "# MNIST ADV"
   ]
  },
  {
   "cell_type": "code",
   "execution_count": null,
   "metadata": {},
   "outputs": [],
   "source": [
    "! python discriminator_score.py --filename 'mnist_adv' \\\n",
    "--netD './mnist_adv_flowgan_marin/netD_epoch_99.pth' \\\n",
    "--netG './mnist_adv_flowgan_marin/netG_epoch_99.pth'"
   ]
  },
  {
   "cell_type": "code",
   "execution_count": null,
   "metadata": {},
   "outputs": [],
   "source": [
    "import numpy as np\n",
    "import pandas as pd\n",
    "import seaborn as sns\n",
    "\n",
    "npzfile = np.load('mnist_adv.npz')\n",
    "real, fake = npzfile['arr_0'], npzfile['arr_1']\n",
    "\n",
    "real = np.expand_dims(real, axis=0).T\n",
    "fake = np.expand_dims(fake, axis=0).T\n",
    "\n",
    "df = pd.DataFrame(np.concatenate((real, fake), axis=1), columns=[\"real\", \"fake\"])\n",
    "sns.histplot(data=df)"
   ]
  },
  {
   "cell_type": "markdown",
   "metadata": {},
   "source": [
    "# MNIST HYB"
   ]
  },
  {
   "cell_type": "code",
   "execution_count": null,
   "metadata": {},
   "outputs": [],
   "source": [
    "! python discriminator_score.py --filename 'mnist_hyb' \\\n",
    "--netD './mnist_hybrid_ckpt/netD_epoch_87.pth' \\\n",
    "--netG './mnist_hybrid_ckpt/netG_epoch_87.pth'"
   ]
  },
  {
   "cell_type": "code",
   "execution_count": null,
   "metadata": {},
   "outputs": [],
   "source": [
    "import numpy as np\n",
    "import pandas as pd\n",
    "import seaborn as sns\n",
    "\n",
    "npzfile = np.load('mnist_hyb.npz')\n",
    "real, fake = npzfile['arr_0'], npzfile['arr_1']\n",
    "\n",
    "real = np.expand_dims(real, axis=0).T\n",
    "fake = np.expand_dims(fake, axis=0).T\n",
    "\n",
    "df = pd.DataFrame(np.concatenate((real, fake), axis=1), columns=[\"real\", \"fake\"])\n",
    "sns.histplot(data=df)"
   ]
  },
  {
   "cell_type": "markdown",
   "metadata": {},
   "source": [
    "# CIFAR MLE"
   ]
  },
  {
   "cell_type": "code",
   "execution_count": 7,
   "metadata": {},
   "outputs": [
    {
     "name": "stdout",
     "output_type": "stream",
     "text": [
      "Files already downloaded and verified\n",
      "Files already downloaded and verified\n",
      "100%|████████████████████████████████████| 10000/10000 [01:20<00:00, 124.71it/s]\n"
     ]
    }
   ],
   "source": [
    "! python discriminator_score.py --filename 'cifar_mle' \\\n",
    "--no_of_layers 8 \\\n",
    "--dataset 'cifar10' \\\n",
    "--img_size 32 \\\n",
    "--netD './cifar_mle_ckpt/netD_epoch_94.pth' \\\n",
    "# --netG './mnist_mle_ckpt/netG_epoch_30.pth' \\"
   ]
  },
  {
   "cell_type": "code",
   "execution_count": 8,
   "metadata": {},
   "outputs": [
    {
     "data": {
      "text/plain": [
       "<AxesSubplot:ylabel='Count'>"
      ]
     },
     "execution_count": 8,
     "metadata": {},
     "output_type": "execute_result"
    },
    {
     "data": {
      "image/png": "[encoded data removed]",
      "text/plain": [
       "<Figure size 432x288 with 1 Axes>"
      ]
     },
     "metadata": {
      "needs_background": "light"
     },
     "output_type": "display_data"
    }
   ],
   "source": [
    "import numpy as np\n",
    "import pandas as pd\n",
    "import seaborn as sns\n",
    "\n",
    "npzfile = np.load('cifar_mle.npz')\n",
    "real, fake = npzfile['arr_0'], npzfile['arr_1']\n",
    "\n",
    "real = np.expand_dims(real, axis=0).T\n",
    "fake = np.expand_dims(fake, axis=0).T\n",
    "\n",
    "df = pd.DataFrame(np.concatenate((real, fake), axis=1), columns=[\"real\", \"fake\"])\n",
    "sns.histplot(data=df)"
   ]
  },
  {
   "cell_type": "code",
   "execution_count": 2,
   "metadata": {},
   "outputs": [
    {
     "name": "stdout",
     "output_type": "stream",
     "text": [
      "Files already downloaded and verified\n",
      "Files already downloaded and verified\n",
      "100%|████████████████████████████████████| 10000/10000 [01:22<00:00, 121.73it/s]\n"
     ]
    }
   ],
   "source": [
    "! python discriminator_score.py --filename 'cifar_mle' \\\n",
    "--no_of_layers 8 \\\n",
    "--dataset 'cifar10' \\\n",
    "--img_size 32 \\\n",
    "--netD './cifar_mle_ckpt/netD_epoch_94.pth' \\\n",
    "--netG './cifar_mle_ckpt/netG_epoch_94.pth'"
   ]
  },
  {
   "cell_type": "code",
   "execution_count": 3,
   "metadata": {},
   "outputs": [
    {
     "data": {
      "text/plain": [
       "<AxesSubplot:ylabel='Count'>"
      ]
     },
     "execution_count": 3,
     "metadata": {},
     "output_type": "execute_result"
    },
    {
     "data": {
      "image/png": "[encoded data removed]",
      "text/plain": [
       "<Figure size 432x288 with 1 Axes>"
      ]
     },
     "metadata": {
      "needs_background": "light"
     },
     "output_type": "display_data"
    }
   ],
   "source": [
    "import numpy as np\n",
    "import pandas as pd\n",
    "import seaborn as sns\n",
    "\n",
    "npzfile = np.load('cifar_mle.npz')\n",
    "real, fake = npzfile['arr_0'], npzfile['arr_1']\n",
    "\n",
    "real = np.expand_dims(real, axis=0).T\n",
    "fake = np.expand_dims(fake, axis=0).T\n",
    "\n",
    "df = pd.DataFrame(np.concatenate((real, fake), axis=1), columns=[\"real\", \"fake\"])\n",
    "sns.histplot(data=df)"
   ]
  },
  {
   "cell_type": "markdown",
   "metadata": {},
   "source": [
    "# CIFAR Hyb"
   ]
  },
  {
   "cell_type": "code",
   "execution_count": 3,
   "metadata": {},
   "outputs": [
    {
     "name": "stdout",
     "output_type": "stream",
     "text": [
      "Files already downloaded and verified\n",
      "Files already downloaded and verified\n",
      "100%|████████████████████████████████████| 10000/10000 [01:21<00:00, 122.77it/s]\n"
     ]
    }
   ],
   "source": [
    "! python discriminator_score.py --filename 'cifar_hyb' \\\n",
    "--no_of_layers 8 \\\n",
    "--dataset 'cifar10' \\\n",
    "--img_size 32 \\\n",
    "--netD './cifar_hybrid_ckpt/netD_epoch_77.pth'\n",
    "# --netG './cifar_hybrid_ckpt/netG_epoch_94.pth'"
   ]
  },
  {
   "cell_type": "code",
   "execution_count": 4,
   "metadata": {},
   "outputs": [
    {
     "data": {
      "text/plain": [
       "<AxesSubplot:ylabel='Count'>"
      ]
     },
     "execution_count": 4,
     "metadata": {},
     "output_type": "execute_result"
    },
    {
     "data": {
      "image/png": "[encoded data removed]",
      "text/plain": [
       "<Figure size 432x288 with 1 Axes>"
      ]
     },
     "metadata": {
      "needs_background": "light"
     },
     "output_type": "display_data"
    }
   ],
   "source": [
    "import numpy as np\n",
    "import pandas as pd\n",
    "import seaborn as sns\n",
    "\n",
    "npzfile = np.load('cifar_hyb.npz')\n",
    "real, fake = npzfile['arr_0'], npzfile['arr_1']\n",
    "\n",
    "real = np.expand_dims(real, axis=0).T\n",
    "fake = np.expand_dims(fake, axis=0).T\n",
    "\n",
    "df = pd.DataFrame(np.concatenate((real, fake), axis=1), columns=[\"real\", \"fake\"])\n",
    "sns.histplot(data=df)"
   ]
  },
  {
   "cell_type": "code",
   "execution_count": 5,
   "metadata": {},
   "outputs": [
    {
     "name": "stdout",
     "output_type": "stream",
     "text": [
      "Files already downloaded and verified\n",
      "Files already downloaded and verified\n",
      "100%|████████████████████████████████████| 10000/10000 [01:21<00:00, 122.58it/s]\n"
     ]
    }
   ],
   "source": [
    "! python discriminator_score.py --filename 'cifar_hyb' \\\n",
    "--no_of_layers 8 \\\n",
    "--dataset 'cifar10' \\\n",
    "--img_size 32 \\\n",
    "--netD './cifar_hybrid_ckpt/netD_epoch_77.pth' \\\n",
    "--netG './cifar_hybrid_ckpt/netG_epoch_77.pth'"
   ]
  },
  {
   "cell_type": "code",
   "execution_count": 6,
   "metadata": {},
   "outputs": [
    {
     "data": {
      "text/plain": [
       "<AxesSubplot:ylabel='Count'>"
      ]
     },
     "execution_count": 6,
     "metadata": {},
     "output_type": "execute_result"
    },
    {
     "data": {
      "image/png": "[encoded data removed]",
      "text/plain": [
       "<Figure size 432x288 with 1 Axes>"
      ]
     },
     "metadata": {
      "needs_background": "light"
     },
     "output_type": "display_data"
    }
   ],
   "source": [
    "import numpy as np\n",
    "import pandas as pd\n",
    "import seaborn as sns\n",
    "\n",
    "npzfile = np.load('cifar_hyb.npz')\n",
    "real, fake = npzfile['arr_0'], npzfile['arr_1']\n",
    "\n",
    "real = np.expand_dims(real, axis=0).T\n",
    "fake = np.expand_dims(fake, axis=0).T\n",
    "\n",
    "df = pd.DataFrame(np.concatenate((real, fake), axis=1), columns=[\"real\", \"fake\"])\n",
    "sns.histplot(data=df)"
   ]
  },
  {
   "cell_type": "markdown",
   "metadata": {},
   "source": [
    "# CIFAR10 adv"
   ]
  },
  {
   "cell_type": "code",
   "execution_count": 15,
   "metadata": {},
   "outputs": [
    {
     "name": "stdout",
     "output_type": "stream",
     "text": [
      "Files already downloaded and verified\n",
      "Files already downloaded and verified\n",
      "100%|████████████████████████████████████| 10000/10000 [01:22<00:00, 121.78it/s]\n"
     ]
    }
   ],
   "source": [
    "! python discriminator_score.py --filename 'cifar_adv' \\\n",
    "--no_of_layers 8 \\\n",
    "--dataset 'cifar10' \\\n",
    "--img_size 32 \\\n",
    "--netD './cifar_adv_ckpt/netD_epoch_81.pth'\n",
    "# --netG './cifar_adv_ckpt/netG_epoch_81.pth'"
   ]
  },
  {
   "cell_type": "code",
   "execution_count": 16,
   "metadata": {},
   "outputs": [
    {
     "data": {
      "text/plain": [
       "<AxesSubplot:ylabel='Count'>"
      ]
     },
     "execution_count": 16,
     "metadata": {},
     "output_type": "execute_result"
    },
    {
     "data": {
      "image/png": "[encoded data removed]",
      "text/plain": [
       "<Figure size 432x288 with 1 Axes>"
      ]
     },
     "metadata": {
      "needs_background": "light"
     },
     "output_type": "display_data"
    }
   ],
   "source": [
    "import numpy as np\n",
    "import pandas as pd\n",
    "import seaborn as sns\n",
    "\n",
    "npzfile = np.load('cifar_adv.npz')\n",
    "real, fake = npzfile['arr_0'], npzfile['arr_1']\n",
    "\n",
    "real = np.expand_dims(real, axis=0).T\n",
    "fake = np.expand_dims(fake, axis=0).T\n",
    "\n",
    "df = pd.DataFrame(np.concatenate((real, fake), axis=1), columns=[\"real\", \"fake\"])\n",
    "sns.histplot(data=df)"
   ]
  },
  {
   "cell_type": "code",
   "execution_count": 18,
   "metadata": {},
   "outputs": [
    {
     "name": "stdout",
     "output_type": "stream",
     "text": [
      "Files already downloaded and verified\n",
      "Files already downloaded and verified\n",
      "100%|████████████████████████████████████| 10000/10000 [01:21<00:00, 122.61it/s]\n"
     ]
    }
   ],
   "source": [
    "! python discriminator_score.py --filename 'cifar_adv' \\\n",
    "--no_of_layers 8 \\\n",
    "--dataset 'cifar10' \\\n",
    "--img_size 32 \\\n",
    "--netD './cifar_adv_ckpt/netD_epoch_81.pth' \\\n",
    "--netG './cifar_adv_ckpt/netG_epoch_81.pth'"
   ]
  },
  {
   "cell_type": "code",
   "execution_count": 19,
   "metadata": {},
   "outputs": [
    {
     "data": {
      "text/plain": [
       "<AxesSubplot:ylabel='Count'>"
      ]
     },
     "execution_count": 19,
     "metadata": {},
     "output_type": "execute_result"
    },
    {
     "data": {
      "image/png": "[encoded data removed]",
      "text/plain": [
       "<Figure size 432x288 with 1 Axes>"
      ]
     },
     "metadata": {
      "needs_background": "light"
     },
     "output_type": "display_data"
    }
   ],
   "source": [
    "import numpy as np\n",
    "import pandas as pd\n",
    "import seaborn as sns\n",
    "\n",
    "npzfile = np.load('cifar_adv.npz')\n",
    "real, fake = npzfile['arr_0'], npzfile['arr_1']\n",
    "\n",
    "real = np.expand_dims(real, axis=0).T\n",
    "fake = np.expand_dims(fake, axis=0).T\n",
    "\n",
    "df = pd.DataFrame(np.concatenate((real, fake), axis=1), columns=[\"real\", \"fake\"])\n",
    "sns.histplot(data=df)"
   ]
  },
  {
   "cell_type": "code",
   "execution_count": null,
   "metadata": {},
   "outputs": [],
   "source": []
  }
 ],
 "metadata": {
  "kernelspec": {
   "display_name": "Python 3",
   "language": "python",
   "name": "python3"
  },
  "language_info": {
   "codemirror_mode": {
    "name": "ipython",
    "version": 3
   },
   "file_extension": ".py",
   "mimetype": "text/x-python",
   "name": "python",
   "nbconvert_exporter": "python",
   "pygments_lexer": "ipython3",
   "version": "3.8.3"
  }
 },
 "nbformat": 4,
 "nbformat_minor": 4
}
