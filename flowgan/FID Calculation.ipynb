{
 "cells": [
  {
   "cell_type": "code",
   "execution_count": null,
   "metadata": {
    "scrolled": true
   },
   "outputs": [],
   "source": [
    "# folder = 'flowgan_marin_adv'\n",
    "# for i in range(81,100,5):\n",
    "#     !python main.py --dataset 'mnist' --img_size 28 --no_of_layers 5 --batch_size 32 --netG './mnist_adv_flowgan_marin/netG_epoch_{i}.pth' --generate 1 --generate_sample_dir $folder --generate_num_imgs 1000\n",
    "#     !python -m pytorch_fid '/nfs/students/winter-term-2020/project-5/project-5-manna/flow_gan/mnistdata/mnist_png/training/' './Generated_Images/flowgan_marin_adv'\n",
    "#     !rm -rf ./Generated_Images/$folder"
   ]
  },
  {
   "cell_type": "code",
   "execution_count": null,
   "metadata": {},
   "outputs": [],
   "source": [
    "# folders = ['mnist_adv_flowgan_marin','mnist_hybrid_ckpt','mnist_mle_ckpt']\n",
    "# folders1 = ['mnist_adv_flowgan_marin1','mnist_hybrid_ckpt1','mnist_mle_ckpt1']\n",
    "# epochs = [100,87,99]\n",
    "# epochs = [100,87,99]\n",
    "# for i,folder in enumerate(folders):\n",
    "#     folder1 = folders1[i]\n",
    "#     for index in range(0,epochs[i]+1,5):\n",
    "#         !python main.py --dataset 'mnist' --img_size 28 --no_of_layers 5 --batch_size 32 --netG './$folder/netG_epoch_{index}.pth' --generate 1 --generate_sample_dir $folder1 --generate_num_imgs 10000\n",
    "#         !python -m pytorch_fid '/nfs/students/winter-term-2020/project-5/project-5-manna/flow_gan/mnistdata/mnist_png/training/' './Generated_Images/{folder1}' >>  ./FID_scores/$folder1'.txt'\n",
    "#         !rm -rf ./Generated_Images/$folder1"
   ]
  },
  {
   "cell_type": "code",
   "execution_count": null,
   "metadata": {},
   "outputs": [],
   "source": []
  },
  {
   "cell_type": "code",
   "execution_count": null,
   "metadata": {},
   "outputs": [],
   "source": [
    "# folder = 'mm'\n",
    "# !echo $folder'.txt'\n",
    "# !pwd"
   ]
  },
  {
   "cell_type": "code",
   "execution_count": null,
   "metadata": {},
   "outputs": [],
   "source": [
    "\n",
    "# for i in range(1,4,1):\n",
    "#     !python hello.py >> mm.txt"
   ]
  },
  {
   "cell_type": "code",
   "execution_count": null,
   "metadata": {},
   "outputs": [],
   "source": [
    "# folder = 'flowgan_debugging_mle_del'\n",
    "# !python main.py --dataset 'mnist' --img_size 28 --no_of_layers 5 --batch_size 1 --netG './mnist_adv_flowgan_marin/netG_epoch_66.pth' --generate 1 --generate_sample_dir $folder --generate_num_imgs 1000\n",
    "    "
   ]
  },
  {
   "cell_type": "code",
   "execution_count": null,
   "metadata": {},
   "outputs": [],
   "source": [
    "# from numpy import load\n",
    "# # load dict of arrays\n",
    "# dict_data = load('data.npz')\n",
    "# # extract the first array\n",
    "# data = dict_data['arr_0']\n",
    "# # print the array\n",
    "# print(data)\n",
    "\n"
   ]
  },
  {
   "cell_type": "code",
   "execution_count": null,
   "metadata": {},
   "outputs": [],
   "source": [
    "# import seaborn as sns\n",
    "# print(sns.__version__)\n",
    "# sns.distplot(data)"
   ]
  },
  {
   "cell_type": "code",
   "execution_count": null,
   "metadata": {},
   "outputs": [],
   "source": [
    "# data = np.append(data,np.ones(10000))"
   ]
  },
  {
   "cell_type": "code",
   "execution_count": null,
   "metadata": {},
   "outputs": [],
   "source": [
    "# np.ones(10000)"
   ]
  },
  {
   "cell_type": "code",
   "execution_count": null,
   "metadata": {},
   "outputs": [],
   "source": [
    "# from matplotlib import pyplot as plt \n",
    "# import numpy as np \n",
    "\n",
    "\n",
    "\n",
    "\n",
    "# # Creating histogram \n",
    "# fig, ax = plt.subplots(figsize =(10, 7)) \n",
    "# ax.hist(data) #bins = [0, 25, 50, 75, 100]) \n",
    "\n",
    "# # Show plot \n",
    "# plt.show() \n"
   ]
  },
  {
   "cell_type": "markdown",
   "metadata": {},
   "source": [
    "epoch| FID\n",
    "-----| ----\n",
    "1 | 199\n",
    "6 | 93\n",
    "11| 105\n",
    "16| 87\n",
    "21| 93\n",
    "26| 111\n",
    "31| 87\n",
    "36| 98\n",
    "41| 123\n",
    "46| 92\n",
    "51| 100\n",
    "56| 102\n",
    "61| 81\n",
    "66| 35\n",
    "71| 92\n",
    "76| 117\n",
    "81| 79\n",
    "86| 83\n",
    "91| 72\n",
    "96| 78\n",
    "\n"
   ]
  },
  {
   "cell_type": "code",
   "execution_count": 1,
   "metadata": {},
   "outputs": [],
   "source": [
    "import torch\n",
    "import torch.nn as nn\n",
    "import torch.nn.functional as F\n",
    "import torchvision\n",
    "\n",
    "try:\n",
    "    from torchvision.models.utils import load_state_dict_from_url\n",
    "except ImportError:\n",
    "    from torch.utils.model_zoo import load_url as load_state_dict_from_url\n",
    "\n",
    "# Inception weights ported to Pytorch from\n",
    "# http://download.tensorflow.org/models/image/imagenet/inception-2015-12-05.tgz\n",
    "FID_WEIGHTS_URL = 'https://github.com/mseitzer/pytorch-fid/releases/download/fid_weights/pt_inception-2015-12-05-6726825d.pth'  # noqa: E501\n",
    "\n",
    "\n",
    "class InceptionV3(nn.Module):\n",
    "    \"\"\"Pretrained InceptionV3 network returning feature maps\"\"\"\n",
    "\n",
    "    # Index of default block of inception to return,\n",
    "    # corresponds to output of final average pooling\n",
    "    DEFAULT_BLOCK_INDEX = 3\n",
    "\n",
    "    # Maps feature dimensionality to their output blocks indices\n",
    "    BLOCK_INDEX_BY_DIM = {\n",
    "        64: 0,   # First max pooling features\n",
    "        192: 1,  # Second max pooling featurs\n",
    "        768: 2,  # Pre-aux classifier features\n",
    "        2048: 3  # Final average pooling features\n",
    "    }\n",
    "\n",
    "    def __init__(self,\n",
    "                 output_blocks=(DEFAULT_BLOCK_INDEX,),\n",
    "                 resize_input=True,\n",
    "                 normalize_input=True,\n",
    "                 requires_grad=False,\n",
    "                 use_fid_inception=True):\n",
    "        \"\"\"Build pretrained InceptionV3\n",
    "\n",
    "        Parameters\n",
    "        ----------\n",
    "        output_blocks : list of int\n",
    "            Indices of blocks to return features of. Possible values are:\n",
    "                - 0: corresponds to output of first max pooling\n",
    "                - 1: corresponds to output of second max pooling\n",
    "                - 2: corresponds to output which is fed to aux classifier\n",
    "                - 3: corresponds to output of final average pooling\n",
    "        resize_input : bool\n",
    "            If true, bilinearly resizes input to width and height 299 before\n",
    "            feeding input to model. As the network without fully connected\n",
    "            layers is fully convolutional, it should be able to handle inputs\n",
    "            of arbitrary size, so resizing might not be strictly needed\n",
    "        normalize_input : bool\n",
    "            If true, scales the input from range (0, 1) to the range the\n",
    "            pretrained Inception network expects, namely (-1, 1)\n",
    "        requires_grad : bool\n",
    "            If true, parameters of the model require gradients. Possibly useful\n",
    "            for finetuning the network\n",
    "        use_fid_inception : bool\n",
    "            If true, uses the pretrained Inception model used in Tensorflow's\n",
    "            FID implementation. If false, uses the pretrained Inception model\n",
    "            available in torchvision. The FID Inception model has different\n",
    "            weights and a slightly different structure from torchvision's\n",
    "            Inception model. If you want to compute FID scores, you are\n",
    "            strongly advised to set this parameter to true to get comparable\n",
    "            results.\n",
    "        \"\"\"\n",
    "        super(InceptionV3, self).__init__()\n",
    "\n",
    "        self.resize_input = resize_input\n",
    "        self.normalize_input = normalize_input\n",
    "        self.output_blocks = sorted(output_blocks)\n",
    "        self.last_needed_block = max(output_blocks)\n",
    "\n",
    "        assert self.last_needed_block <= 3, \\\n",
    "            'Last possible output block index is 3'\n",
    "\n",
    "        self.blocks = nn.ModuleList()\n",
    "\n",
    "        if use_fid_inception:\n",
    "            inception = fid_inception_v3()\n",
    "        else:\n",
    "            inception = _inception_v3(pretrained=True)\n",
    "\n",
    "        # Block 0: input to maxpool1\n",
    "        block0 = [\n",
    "            inception.Conv2d_1a_3x3,\n",
    "            inception.Conv2d_2a_3x3,\n",
    "            inception.Conv2d_2b_3x3,\n",
    "            nn.MaxPool2d(kernel_size=3, stride=2)\n",
    "        ]\n",
    "        self.blocks.append(nn.Sequential(*block0))\n",
    "\n",
    "        # Block 1: maxpool1 to maxpool2\n",
    "        if self.last_needed_block >= 1:\n",
    "            block1 = [\n",
    "                inception.Conv2d_3b_1x1,\n",
    "                inception.Conv2d_4a_3x3,\n",
    "                nn.MaxPool2d(kernel_size=3, stride=2)\n",
    "            ]\n",
    "            self.blocks.append(nn.Sequential(*block1))\n",
    "\n",
    "        # Block 2: maxpool2 to aux classifier\n",
    "        if self.last_needed_block >= 2:\n",
    "            block2 = [\n",
    "                inception.Mixed_5b,\n",
    "                inception.Mixed_5c,\n",
    "                inception.Mixed_5d,\n",
    "                inception.Mixed_6a,\n",
    "                inception.Mixed_6b,\n",
    "                inception.Mixed_6c,\n",
    "                inception.Mixed_6d,\n",
    "                inception.Mixed_6e,\n",
    "            ]\n",
    "            self.blocks.append(nn.Sequential(*block2))\n",
    "\n",
    "        # Block 3: aux classifier to final avgpool\n",
    "        if self.last_needed_block >= 3:\n",
    "            block3 = [\n",
    "                inception.Mixed_7a,\n",
    "                inception.Mixed_7b,\n",
    "                inception.Mixed_7c,\n",
    "                nn.AdaptiveAvgPool2d(output_size=(1, 1))\n",
    "            ]\n",
    "            self.blocks.append(nn.Sequential(*block3))\n",
    "\n",
    "        for param in self.parameters():\n",
    "            param.requires_grad = requires_grad\n",
    "\n",
    "    def forward(self, inp):\n",
    "        \"\"\"Get Inception feature maps\n",
    "\n",
    "        Parameters\n",
    "        ----------\n",
    "        inp : torch.autograd.Variable\n",
    "            Input tensor of shape Bx3xHxW. Values are expected to be in\n",
    "            range (0, 1)\n",
    "\n",
    "        Returns\n",
    "        -------\n",
    "        List of torch.autograd.Variable, corresponding to the selected output\n",
    "        block, sorted ascending by index\n",
    "        \"\"\"\n",
    "        outp = []\n",
    "        x = inp\n",
    "\n",
    "        if self.resize_input:\n",
    "            x = F.interpolate(x,\n",
    "                              size=(299, 299),\n",
    "                              mode='bilinear',\n",
    "                              align_corners=False)\n",
    "\n",
    "        if self.normalize_input:\n",
    "            x = 2 * x - 1  # Scale from range (0, 1) to range (-1, 1)\n",
    "\n",
    "        for idx, block in enumerate(self.blocks):\n",
    "            x = block(x)\n",
    "            if idx in self.output_blocks:\n",
    "                outp.append(x)\n",
    "\n",
    "            if idx == self.last_needed_block:\n",
    "                break\n",
    "\n",
    "        return outp\n",
    "\n",
    "\n",
    "def _inception_v3(*args, **kwargs):\n",
    "    \"\"\"Wraps `torchvision.models.inception_v3`\n",
    "\n",
    "    Skips default weight inititialization if supported by torchvision version.\n",
    "    See https://github.com/mseitzer/pytorch-fid/issues/28.\n",
    "    \"\"\"\n",
    "    try:\n",
    "        version = tuple(map(int, torchvision.__version__.split('.')[:2]))\n",
    "    except ValueError:\n",
    "        # Just a caution against weird version strings\n",
    "        version = (0,)\n",
    "\n",
    "    if version >= (0, 6):\n",
    "        kwargs['init_weights'] = False\n",
    "\n",
    "    return torchvision.models.inception_v3(*args, **kwargs)\n",
    "\n",
    "\n",
    "def fid_inception_v3():\n",
    "    \"\"\"Build pretrained Inception model for FID computation\n",
    "\n",
    "    The Inception model for FID computation uses a different set of weights\n",
    "    and has a slightly different structure than torchvision's Inception.\n",
    "\n",
    "    This method first constructs torchvision's Inception and then patches the\n",
    "    necessary parts that are different in the FID Inception model.\n",
    "    \"\"\"\n",
    "    inception = _inception_v3(num_classes=1008,\n",
    "                              aux_logits=False,\n",
    "                              pretrained=False)\n",
    "    inception.Mixed_5b = FIDInceptionA(192, pool_features=32)\n",
    "    inception.Mixed_5c = FIDInceptionA(256, pool_features=64)\n",
    "    inception.Mixed_5d = FIDInceptionA(288, pool_features=64)\n",
    "    inception.Mixed_6b = FIDInceptionC(768, channels_7x7=128)\n",
    "    inception.Mixed_6c = FIDInceptionC(768, channels_7x7=160)\n",
    "    inception.Mixed_6d = FIDInceptionC(768, channels_7x7=160)\n",
    "    inception.Mixed_6e = FIDInceptionC(768, channels_7x7=192)\n",
    "    inception.Mixed_7b = FIDInceptionE_1(1280)\n",
    "    inception.Mixed_7c = FIDInceptionE_2(2048)\n",
    "\n",
    "    state_dict = load_state_dict_from_url(FID_WEIGHTS_URL, progress=True)\n",
    "    inception.load_state_dict(state_dict)\n",
    "    return inception\n",
    "\n",
    "\n",
    "class FIDInceptionA(torchvision.models.inception.InceptionA):\n",
    "    \"\"\"InceptionA block patched for FID computation\"\"\"\n",
    "    def __init__(self, in_channels, pool_features):\n",
    "        super(FIDInceptionA, self).__init__(in_channels, pool_features)\n",
    "\n",
    "    def forward(self, x):\n",
    "        branch1x1 = self.branch1x1(x)\n",
    "\n",
    "        branch5x5 = self.branch5x5_1(x)\n",
    "        branch5x5 = self.branch5x5_2(branch5x5)\n",
    "\n",
    "        branch3x3dbl = self.branch3x3dbl_1(x)\n",
    "        branch3x3dbl = self.branch3x3dbl_2(branch3x3dbl)\n",
    "        branch3x3dbl = self.branch3x3dbl_3(branch3x3dbl)\n",
    "\n",
    "        # Patch: Tensorflow's average pool does not use the padded zero's in\n",
    "        # its average calculation\n",
    "        branch_pool = F.avg_pool2d(x, kernel_size=3, stride=1, padding=1,\n",
    "                                   count_include_pad=False)\n",
    "        branch_pool = self.branch_pool(branch_pool)\n",
    "\n",
    "        outputs = [branch1x1, branch5x5, branch3x3dbl, branch_pool]\n",
    "        return torch.cat(outputs, 1)\n",
    "\n",
    "\n",
    "class FIDInceptionC(torchvision.models.inception.InceptionC):\n",
    "    \"\"\"InceptionC block patched for FID computation\"\"\"\n",
    "    def __init__(self, in_channels, channels_7x7):\n",
    "        super(FIDInceptionC, self).__init__(in_channels, channels_7x7)\n",
    "\n",
    "    def forward(self, x):\n",
    "        branch1x1 = self.branch1x1(x)\n",
    "\n",
    "        branch7x7 = self.branch7x7_1(x)\n",
    "        branch7x7 = self.branch7x7_2(branch7x7)\n",
    "        branch7x7 = self.branch7x7_3(branch7x7)\n",
    "\n",
    "        branch7x7dbl = self.branch7x7dbl_1(x)\n",
    "        branch7x7dbl = self.branch7x7dbl_2(branch7x7dbl)\n",
    "        branch7x7dbl = self.branch7x7dbl_3(branch7x7dbl)\n",
    "        branch7x7dbl = self.branch7x7dbl_4(branch7x7dbl)\n",
    "        branch7x7dbl = self.branch7x7dbl_5(branch7x7dbl)\n",
    "\n",
    "        # Patch: Tensorflow's average pool does not use the padded zero's in\n",
    "        # its average calculation\n",
    "        branch_pool = F.avg_pool2d(x, kernel_size=3, stride=1, padding=1,\n",
    "                                   count_include_pad=False)\n",
    "        branch_pool = self.branch_pool(branch_pool)\n",
    "\n",
    "        outputs = [branch1x1, branch7x7, branch7x7dbl, branch_pool]\n",
    "        return torch.cat(outputs, 1)\n",
    "\n",
    "\n",
    "class FIDInceptionE_1(torchvision.models.inception.InceptionE):\n",
    "    \"\"\"First InceptionE block patched for FID computation\"\"\"\n",
    "    def __init__(self, in_channels):\n",
    "        super(FIDInceptionE_1, self).__init__(in_channels)\n",
    "\n",
    "    def forward(self, x):\n",
    "        branch1x1 = self.branch1x1(x)\n",
    "\n",
    "        branch3x3 = self.branch3x3_1(x)\n",
    "        branch3x3 = [\n",
    "            self.branch3x3_2a(branch3x3),\n",
    "            self.branch3x3_2b(branch3x3),\n",
    "        ]\n",
    "        branch3x3 = torch.cat(branch3x3, 1)\n",
    "\n",
    "        branch3x3dbl = self.branch3x3dbl_1(x)\n",
    "        branch3x3dbl = self.branch3x3dbl_2(branch3x3dbl)\n",
    "        branch3x3dbl = [\n",
    "            self.branch3x3dbl_3a(branch3x3dbl),\n",
    "            self.branch3x3dbl_3b(branch3x3dbl),\n",
    "        ]\n",
    "        branch3x3dbl = torch.cat(branch3x3dbl, 1)\n",
    "\n",
    "        # Patch: Tensorflow's average pool does not use the padded zero's in\n",
    "        # its average calculation\n",
    "        branch_pool = F.avg_pool2d(x, kernel_size=3, stride=1, padding=1,\n",
    "                                   count_include_pad=False)\n",
    "        branch_pool = self.branch_pool(branch_pool)\n",
    "\n",
    "        outputs = [branch1x1, branch3x3, branch3x3dbl, branch_pool]\n",
    "        return torch.cat(outputs, 1)\n",
    "\n",
    "\n",
    "class FIDInceptionE_2(torchvision.models.inception.InceptionE):\n",
    "    \"\"\"Second InceptionE block patched for FID computation\"\"\"\n",
    "    def __init__(self, in_channels):\n",
    "        super(FIDInceptionE_2, self).__init__(in_channels)\n",
    "\n",
    "    def forward(self, x):\n",
    "        branch1x1 = self.branch1x1(x)\n",
    "\n",
    "        branch3x3 = self.branch3x3_1(x)\n",
    "        branch3x3 = [\n",
    "            self.branch3x3_2a(branch3x3),\n",
    "            self.branch3x3_2b(branch3x3),\n",
    "        ]\n",
    "        branch3x3 = torch.cat(branch3x3, 1)\n",
    "\n",
    "        branch3x3dbl = self.branch3x3dbl_1(x)\n",
    "        branch3x3dbl = self.branch3x3dbl_2(branch3x3dbl)\n",
    "        branch3x3dbl = [\n",
    "            self.branch3x3dbl_3a(branch3x3dbl),\n",
    "            self.branch3x3dbl_3b(branch3x3dbl),\n",
    "        ]\n",
    "        branch3x3dbl = torch.cat(branch3x3dbl, 1)\n",
    "\n",
    "        # Patch: The FID Inception model uses max pooling instead of average\n",
    "        # pooling. This is likely an error in this specific Inception\n",
    "        # implementation, as other Inception models use average pooling here\n",
    "        # (which matches the description in the paper).\n",
    "        branch_pool = F.max_pool2d(x, kernel_size=3, stride=1, padding=1)\n",
    "        branch_pool = self.branch_pool(branch_pool)\n",
    "\n",
    "        outputs = [branch1x1, branch3x3, branch3x3dbl, branch_pool]\n",
    "        return torch.cat(outputs, 1)"
   ]
  },
  {
   "cell_type": "code",
   "execution_count": 2,
   "metadata": {},
   "outputs": [],
   "source": [
    "\"\"\"Calculates the Frechet Inception Distance (FID) to evalulate GANs\n",
    "\n",
    "The FID metric calculates the distance between two distributions of images.\n",
    "Typically, we have summary statistics (mean & covariance matrix) of one\n",
    "of these distributions, while the 2nd distribution is given by a GAN.\n",
    "\n",
    "When run as a stand-alone program, it compares the distribution of\n",
    "images that are stored as PNG/JPEG at a specified location with a\n",
    "distribution given by summary statistics (in pickle format).\n",
    "\n",
    "The FID is calculated by assuming that X_1 and X_2 are the activations of\n",
    "the pool_3 layer of the inception net for generated samples and real world\n",
    "samples respectively.\n",
    "\n",
    "See --help to see further details.\n",
    "\n",
    "Code apapted from https://github.com/bioinf-jku/TTUR to use PyTorch instead\n",
    "of Tensorflow\n",
    "\n",
    "Copyright 2018 Institute of Bioinformatics, JKU Linz\n",
    "\n",
    "Licensed under the Apache License, Version 2.0 (the \"License\");\n",
    "you may not use this file except in compliance with the License.\n",
    "You may obtain a copy of the License at\n",
    "\n",
    "   http://www.apache.org/licenses/LICENSE-2.0\n",
    "\n",
    "Unless required by applicable law or agreed to in writing, software\n",
    "distributed under the License is distributed on an \"AS IS\" BASIS,\n",
    "WITHOUT WARRANTIES OR CONDITIONS OF ANY KIND, either express or implied.\n",
    "See the License for the specific language governing permissions and\n",
    "limitations under the License.\n",
    "\"\"\"\n",
    "import os\n",
    "import pathlib\n",
    "from argparse import ArgumentDefaultsHelpFormatter, ArgumentParser\n",
    "from multiprocessing import cpu_count\n",
    "\n",
    "import numpy as np\n",
    "import torch\n",
    "import torchvision.transforms as TF\n",
    "from PIL import Image\n",
    "from scipy import linalg\n",
    "from torch.nn.functional import adaptive_avg_pool2d\n",
    "\n",
    "try:\n",
    "    from tqdm import tqdm\n",
    "except ImportError:\n",
    "    # If tqdm is not available, provide a mock version of it\n",
    "    def tqdm(x):\n",
    "        return x\n",
    "\n",
    "from pytorch_fid.inception import InceptionV3\n",
    "\n",
    "parser = ArgumentParser(formatter_class=ArgumentDefaultsHelpFormatter)\n",
    "parser.add_argument('--batch-size', type=int, default=50,\n",
    "                    help='Batch size to use')\n",
    "parser.add_argument('--device', type=str, default=None,\n",
    "                    help='Device to use. Like cuda, cuda:0 or cpu')\n",
    "parser.add_argument('--dims', type=int, default=2048,\n",
    "                    choices=list(InceptionV3.BLOCK_INDEX_BY_DIM),\n",
    "                    help=('Dimensionality of Inception features to use. '\n",
    "                          'By default, uses pool3 features'))\n",
    "parser.add_argument('path', type=str, nargs=2,\n",
    "                    help=('Paths to the generated images or '\n",
    "                          'to .npz statistic files'))\n",
    "\n",
    "IMAGE_EXTENSIONS = {'bmp', 'jpg', 'jpeg', 'pgm', 'png', 'ppm',\n",
    "                    'tif', 'tiff', 'webp'}\n",
    "\n",
    "\n",
    "class ImagePathDataset(torch.utils.data.Dataset):\n",
    "    def __init__(self, files, transforms=None):\n",
    "        self.files = files\n",
    "        self.transforms = transforms\n",
    "\n",
    "    def __len__(self):\n",
    "        return len(self.files)\n",
    "\n",
    "    def __getitem__(self, i):\n",
    "        path = self.files[i]\n",
    "        img = Image.open(path).convert('RGB')\n",
    "        if self.transforms is not None:\n",
    "            img = self.transforms(img)\n",
    "        return img\n",
    "\n",
    "\n",
    "def get_activations(files, model, batch_size=50, dims=2048, device='cpu'):\n",
    "    \"\"\"Calculates the activations of the pool_3 layer for all images.\n",
    "\n",
    "    Params:\n",
    "    -- files       : List of image files paths\n",
    "    -- model       : Instance of inception model\n",
    "    -- batch_size  : Batch size of images for the model to process at once.\n",
    "                     Make sure that the number of samples is a multiple of\n",
    "                     the batch size, otherwise some samples are ignored. This\n",
    "                     behavior is retained to match the original FID score\n",
    "                     implementation.\n",
    "    -- dims        : Dimensionality of features returned by Inception\n",
    "    -- device      : Device to run calculations\n",
    "\n",
    "    Returns:\n",
    "    -- A numpy array of dimension (num images, dims) that contains the\n",
    "       activations of the given tensor when feeding inception with the\n",
    "       query tensor.\n",
    "    \"\"\"\n",
    "    model.eval()\n",
    "\n",
    "    if batch_size > len(files):\n",
    "        print(('Warning: batch size is bigger than the data size. '\n",
    "               'Setting batch size to data size'))\n",
    "        batch_size = len(files)\n",
    "\n",
    "    dataset = ImagePathDataset(files, transforms=TF.ToTensor())\n",
    "    dataloader = torch.utils.data.DataLoader(dataset,\n",
    "                                             batch_size=batch_size,\n",
    "                                             shuffle=False,\n",
    "                                             drop_last=False,\n",
    "                                             num_workers=cpu_count())\n",
    "\n",
    "    pred_arr = np.empty((len(files), dims))\n",
    "\n",
    "    start_idx = 0\n",
    "\n",
    "    for batch in tqdm(dataloader):\n",
    "        batch = batch.to(device)\n",
    "\n",
    "        with torch.no_grad():\n",
    "            pred = model(batch)[0]\n",
    "\n",
    "        # If model output is not scalar, apply global spatial average pooling.\n",
    "        # This happens if you choose a dimensionality not equal 2048.\n",
    "        if pred.size(2) != 1 or pred.size(3) != 1:\n",
    "            pred = adaptive_avg_pool2d(pred, output_size=(1, 1))\n",
    "\n",
    "        pred = pred.squeeze(3).squeeze(2).cpu().numpy()\n",
    "\n",
    "        pred_arr[start_idx:start_idx + pred.shape[0]] = pred\n",
    "\n",
    "        start_idx = start_idx + pred.shape[0]\n",
    "\n",
    "    return pred_arr\n",
    "\n",
    "\n",
    "def calculate_frechet_distance(mu1, sigma1, mu2, sigma2, eps=1e-6):\n",
    "    \"\"\"Numpy implementation of the Frechet Distance.\n",
    "    The Frechet distance between two multivariate Gaussians X_1 ~ N(mu_1, C_1)\n",
    "    and X_2 ~ N(mu_2, C_2) is\n",
    "            d^2 = ||mu_1 - mu_2||^2 + Tr(C_1 + C_2 - 2*sqrt(C_1*C_2)).\n",
    "\n",
    "    Stable version by Dougal J. Sutherland.\n",
    "\n",
    "    Params:\n",
    "    -- mu1   : Numpy array containing the activations of a layer of the\n",
    "               inception net (like returned by the function 'get_predictions')\n",
    "               for generated samples.\n",
    "    -- mu2   : The sample mean over activations, precalculated on an\n",
    "               representative data set.\n",
    "    -- sigma1: The covariance matrix over activations for generated samples.\n",
    "    -- sigma2: The covariance matrix over activations, precalculated on an\n",
    "               representative data set.\n",
    "\n",
    "    Returns:\n",
    "    --   : The Frechet Distance.\n",
    "    \"\"\"\n",
    "\n",
    "    mu1 = np.atleast_1d(mu1)\n",
    "    mu2 = np.atleast_1d(mu2)\n",
    "\n",
    "    sigma1 = np.atleast_2d(sigma1)\n",
    "    sigma2 = np.atleast_2d(sigma2)\n",
    "\n",
    "    assert mu1.shape == mu2.shape, \\\n",
    "        'Training and test mean vectors have different lengths'\n",
    "    assert sigma1.shape == sigma2.shape, \\\n",
    "        'Training and test covariances have different dimensions'\n",
    "\n",
    "    diff = mu1 - mu2\n",
    "\n",
    "    # Product might be almost singular\n",
    "    covmean, _ = linalg.sqrtm(sigma1.dot(sigma2), disp=False)\n",
    "    if not np.isfinite(covmean).all():\n",
    "        msg = ('fid calculation produces singular product; '\n",
    "               'adding %s to diagonal of cov estimates') % eps\n",
    "        print(msg)\n",
    "        offset = np.eye(sigma1.shape[0]) * eps\n",
    "        covmean = linalg.sqrtm((sigma1 + offset).dot(sigma2 + offset))\n",
    "\n",
    "    # Numerical error might give slight imaginary component\n",
    "    if np.iscomplexobj(covmean):\n",
    "        if not np.allclose(np.diagonal(covmean).imag, 0, atol=1e-3):\n",
    "            m = np.max(np.abs(covmean.imag))\n",
    "            raise ValueError('Imaginary component {}'.format(m))\n",
    "        covmean = covmean.real\n",
    "\n",
    "    tr_covmean = np.trace(covmean)\n",
    "\n",
    "    return (diff.dot(diff) + np.trace(sigma1)\n",
    "            + np.trace(sigma2) - 2 * tr_covmean)\n",
    "\n",
    "\n",
    "def calculate_activation_statistics(files, model, batch_size=50, dims=2048,\n",
    "                                    device='cpu'):\n",
    "    \"\"\"Calculation of the statistics used by the FID.\n",
    "    Params:\n",
    "    -- files       : List of image files paths\n",
    "    -- model       : Instance of inception model\n",
    "    -- batch_size  : The images numpy array is split into batches with\n",
    "                     batch size batch_size. A reasonable batch size\n",
    "                     depends on the hardware.\n",
    "    -- dims        : Dimensionality of features returned by Inception\n",
    "    -- device      : Device to run calculations\n",
    "\n",
    "    Returns:\n",
    "    -- mu    : The mean over samples of the activations of the pool_3 layer of\n",
    "               the inception model.\n",
    "    -- sigma : The covariance matrix of the activations of the pool_3 layer of\n",
    "               the inception model.\n",
    "    \"\"\"\n",
    "    print(\"batch_size1\", batch_size)\n",
    "    act = get_activations(files, model, batch_size, dims, device)\n",
    "    mu = np.mean(act, axis=0)\n",
    "    sigma = np.cov(act, rowvar=False)\n",
    "    return mu, sigma\n",
    "\n",
    "\n",
    "def compute_statistics_of_path(path, model, batch_size, dims, device):\n",
    "    if path.endswith('.npz'):\n",
    "        with np.load(path) as f:\n",
    "            m, s = f['mu'][:], f['sigma'][:]\n",
    "    else:\n",
    "        path = pathlib.Path(path)\n",
    "        files = sorted([file for ext in IMAGE_EXTENSIONS\n",
    "                       for file in path.glob('*.{}'.format(ext))])\n",
    "        print(\"batch_size\", batch_size)\n",
    "        m, s = calculate_activation_statistics(files, model, batch_size,\n",
    "                                               dims, device)\n",
    "\n",
    "    return m, s\n",
    "\n",
    "\n",
    "def calculate_fid_given_paths(paths, batch_size, device, dims,t,m,s):\n",
    "    \"\"\"Calculates the FID of two paths\"\"\"\n",
    "    for p in paths:\n",
    "        if not os.path.exists(p):\n",
    "            raise RuntimeError('Invalid path: %s' % p)\n",
    "\n",
    "    block_idx = InceptionV3.BLOCK_INDEX_BY_DIM[dims]\n",
    "\n",
    "    model = InceptionV3([block_idx]).to(device)\n",
    "    \n",
    "    if t== 0:\n",
    "        m1, s1 = compute_statistics_of_path(paths[0], model, batch_size,\n",
    "                                        dims, device)\n",
    "    else:\n",
    "        m1,s1=m,s\n",
    "    m2, s2 = compute_statistics_of_path(paths[1], model, batch_size,\n",
    "                                        dims, device)\n",
    "    fid_value = calculate_frechet_distance(m1, s1, m2, s2)\n",
    "\n",
    "    return fid_value,m1,s1\n",
    "\n",
    "\n",
    "def main(path,  t=0, m=0,s=0):\n",
    "    #args = parser.parse_args()\n",
    "    dims = 2048\n",
    "    batch_size = 16\n",
    "    device = torch.device('cuda' if (torch.cuda.is_available()) else 'cpu')\n",
    "    print(batch_size)\n",
    "    fid_value,m1,s1 = calculate_fid_given_paths(path,\n",
    "                                          batch_size,\n",
    "                                          device,\n",
    "                                          dims,t,m,s)\n",
    "    print('FID: ', fid_value)\n",
    "    return fid_value,m1,s1\n",
    "\n"
   ]
  },
  {
   "cell_type": "code",
   "execution_count": null,
   "metadata": {},
   "outputs": [],
   "source": [
    "torch.__version__"
   ]
  },
  {
   "cell_type": "code",
   "execution_count": null,
   "metadata": {},
   "outputs": [],
   "source": [
    "import pickle\n",
    "folders = ['mnist_adv_flowgan_marin','mnist_hybrid_ckpt','mnist_mle_ckpt']\n",
    "folders1 = ['mnist_adv_flowgan_marin1','mnist_hybrid_ckpt1','mnist_mle_ckpt1']\n",
    "epochs = [100,87,99]\n",
    "epochs = [100,87,99]\n",
    "d = {}\n",
    "t=0\n",
    "m1=0\n",
    "s1=0\n",
    "for i,folder in enumerate(folders):\n",
    "    folder1= folders1[i]\n",
    "    d[folder1]=[]\n",
    "    for index in range(0,epochs[i]+1):\n",
    "        !python main.py --dataset 'mnist' --img_size 28 --no_of_layers 5 --batch_size 32 --netG './$folder/netG_epoch_{index}.pth' --generate 1 --generate_sample_dir $folder1 --generate_num_imgs 1000\n",
    "        fid,m1,s1 = main(['/nfs/students/winter-term-2020/project-5/mnist_png/training/',f\"./Generated_Images/{folder1}\"], t,m1,s1)\n",
    "        d[folder1].append(fid)\n",
    "        !rm -rf ./Generated_Images/$folder1\n",
    "        if t%10==0:\n",
    "            print(d)\n",
    "            pickle.dump(d, open('FID_cont_result_dict.pkl', 'wb'))\n",
    "        t=t+1\n",
    "    pickle.dump(d, open('FID_cont_result_dict.pkl', 'wb'))"
   ]
  },
  {
   "cell_type": "code",
   "execution_count": 8,
   "metadata": {},
   "outputs": [],
   "source": [
    "import pickle\n",
    "objectRep = open(\"FID_cont_result_dict.pkl\", \"rb\")\n",
    "fid = pickle.load(objectRep)\n",
    "\n",
    "new = open(\"new.pkl\", \"rb\")\n",
    "rest = pickle.load(new)"
   ]
  },
  {
   "cell_type": "code",
   "execution_count": 9,
   "metadata": {},
   "outputs": [
    {
     "data": {
      "text/plain": [
       "dict_keys(['cifar_adv_ckpt1', 'cifar_hybrid_ckpt1', 'cifar_mle_ckpt1'])"
      ]
     },
     "execution_count": 9,
     "metadata": {},
     "output_type": "execute_result"
    }
   ],
   "source": [
    "fid.keys()"
   ]
  },
  {
   "cell_type": "code",
   "execution_count": 10,
   "metadata": {},
   "outputs": [
    {
     "data": {
      "image/png": "[encoded data removed]",
      "text/plain": [
       "<Figure size 432x288 with 1 Axes>"
      ]
     },
     "metadata": {
      "needs_background": "light"
     },
     "output_type": "display_data"
    }
   ],
   "source": [
    "import matplotlib.pyplot as plt\n",
    "\n",
    "adv_fids = np.array(fid['cifar_adv_ckpt1'])\n",
    "x = np.arange(len(adv_fids))\n",
    "plt.plot(x, adv_fids, label='adv')\n",
    "\n",
    "adv_fids = np.append(np.array(fid['cifar_hybrid_ckpt1']), np.array(rest['cifar_hybrid_ckpt1']))\n",
    "x = np.arange(len(adv_fids))\n",
    "plt.plot(x, adv_fids, label='hybrid')\n",
    "\n",
    "adv_fids = np.array(fid['cifar_mle_ckpt1'])\n",
    "x = np.arange(len(adv_fids))\n",
    "plt.plot(x, adv_fids, label='mle')\n",
    "\n",
    "plt.legend()\n",
    "# Display a figure.\n",
    "plt.show()"
   ]
  },
  {
   "cell_type": "code",
   "execution_count": 17,
   "metadata": {},
   "outputs": [
    {
     "data": {
      "text/plain": [
       "Text(0.5, 1.0, 'CIFAR_ADV_Training')"
      ]
     },
     "execution_count": 17,
     "metadata": {},
     "output_type": "execute_result"
    },
    {
     "data": {
      "image/png": "[encoded data removed]",
      "text/plain": [
       "<Figure size 432x288 with 1 Axes>"
      ]
     },
     "metadata": {
      "needs_background": "light"
     },
     "output_type": "display_data"
    }
   ],
   "source": [
    "import matplotlib.pyplot as plt\n",
    "\n",
    "adv_fids = np.array(fid['cifar_adv_ckpt1'])\n",
    "x = np.arange(len(adv_fids))\n",
    "plt.plot(x, adv_fids)\n",
    "plt.xlabel('epoch')\n",
    "plt.ylabel('FID')\n",
    "plt.title('CIFAR_ADV_Training')"
   ]
  },
  {
   "cell_type": "code",
   "execution_count": 14,
   "metadata": {},
   "outputs": [
    {
     "data": {
      "text/plain": [
       "Text(0.5, 1.0, 'CIFAR_Hybrid_Training')"
      ]
     },
     "execution_count": 14,
     "metadata": {},
     "output_type": "execute_result"
    },
    {
     "data": {
      "image/png": "[encoded data removed]",
      "text/plain": [
       "<Figure size 432x288 with 1 Axes>"
      ]
     },
     "metadata": {
      "needs_background": "light"
     },
     "output_type": "display_data"
    }
   ],
   "source": [
    "import matplotlib.pyplot as plt\n",
    "\n",
    "adv_fids = np.array(fid['cifar_hybrid_ckpt1'])\n",
    "x = np.arange(len(adv_fids))\n",
    "plt.plot(x, adv_fids)\n",
    "plt.xlabel('epoch')\n",
    "plt.ylabel('FID')\n",
    "plt.title('CIFAR_Hybrid_Training')"
   ]
  },
  {
   "cell_type": "code",
   "execution_count": 15,
   "metadata": {},
   "outputs": [
    {
     "data": {
      "text/plain": [
       "Text(0.5, 1.0, 'CIFAR_MLE_Training')"
      ]
     },
     "execution_count": 15,
     "metadata": {},
     "output_type": "execute_result"
    },
    {
     "data": {
      "image/png": "[encoded data removed]",
      "text/plain": [
       "<Figure size 432x288 with 1 Axes>"
      ]
     },
     "metadata": {
      "needs_background": "light"
     },
     "output_type": "display_data"
    }
   ],
   "source": [
    "import matplotlib.pyplot as plt\n",
    "\n",
    "adv_fids = np.array(fid['cifar_mle_ckpt1'])\n",
    "x = np.arange(len(adv_fids))\n",
    "plt.plot(x, adv_fids)\n",
    "plt.xlabel('epoch')\n",
    "plt.ylabel('FID')\n",
    "plt.title('CIFAR_MLE_Training')"
   ]
  },
  {
   "cell_type": "markdown",
   "metadata": {},
   "source": [
    "# CIFAR"
   ]
  },
  {
   "cell_type": "code",
   "execution_count": 3,
   "metadata": {},
   "outputs": [
    {
     "name": "stdout",
     "output_type": "stream",
     "text": [
      "Namespace(alpha=1e-07, batch_size=32, beta1=0.5, beta2=0.999, checkpoint_dir='./flow_gan', dataset='cifar10', df_dim=64, epoch=25, generate=1, generate_num_imgs=1000, generate_sample_dir='cifar_hybrid_ckpt1', hidden_layers=1000, img_size=32, lambda_gp=10.0, like_reg=10.0, log_path='./flow_gan.log', lr=0.0002, lr_decay=0.99999, min_lr=0.0, mode='hybrid', model_type='real_nvp', n_critics=5, netD='', netG='./cifar_hybrid_ckpt/netG_epoch_45.pth', no_of_layers=8, root_dir='./data', sample_dir='./flow_gan_sample', start_epoch=0, writer_log='runs')\n",
      "31\n",
      "100%|███████████████████████████████████████████| 31/31 [00:28<00:00,  1.09it/s]\n",
      "10537.486296622983\n",
      "16\n"
     ]
    },
    {
     "name": "stderr",
     "output_type": "stream",
     "text": [
      "\r",
      "  0%|          | 0/3125 [00:00<?, ?it/s]"
     ]
    },
    {
     "name": "stdout",
     "output_type": "stream",
     "text": [
      "batch_size 16\n",
      "batch_size1 16\n"
     ]
    },
    {
     "name": "stderr",
     "output_type": "stream",
     "text": [
      "100%|██████████| 3125/3125 [02:02<00:00, 25.55it/s]\n",
      "  0%|          | 0/62 [00:00<?, ?it/s]"
     ]
    },
    {
     "name": "stdout",
     "output_type": "stream",
     "text": [
      "batch_size 16\n",
      "batch_size1 16\n"
     ]
    },
    {
     "name": "stderr",
     "output_type": "stream",
     "text": [
      "100%|██████████| 62/62 [00:08<00:00,  7.01it/s]\n"
     ]
    },
    {
     "name": "stdout",
     "output_type": "stream",
     "text": [
      "FID:  100.10954174526432\n",
      "{'cifar_hybrid_ckpt1': [100.10954174526432]}\n",
      "Namespace(alpha=1e-07, batch_size=32, beta1=0.5, beta2=0.999, checkpoint_dir='./flow_gan', dataset='cifar10', df_dim=64, epoch=25, generate=1, generate_num_imgs=1000, generate_sample_dir='cifar_hybrid_ckpt1', hidden_layers=1000, img_size=32, lambda_gp=10.0, like_reg=10.0, log_path='./flow_gan.log', lr=0.0002, lr_decay=0.99999, min_lr=0.0, mode='hybrid', model_type='real_nvp', n_critics=5, netD='', netG='./cifar_hybrid_ckpt/netG_epoch_46.pth', no_of_layers=8, root_dir='./data', sample_dir='./flow_gan_sample', start_epoch=0, writer_log='runs')\n",
      "31\n",
      "100%|███████████████████████████████████████████| 31/31 [00:29<00:00,  1.05it/s]\n",
      "13358.913936491936\n",
      "16\n"
     ]
    },
    {
     "name": "stderr",
     "output_type": "stream",
     "text": [
      "\r",
      "  0%|          | 0/62 [00:00<?, ?it/s]"
     ]
    },
    {
     "name": "stdout",
     "output_type": "stream",
     "text": [
      "batch_size 16\n",
      "batch_size1 16\n"
     ]
    },
    {
     "name": "stderr",
     "output_type": "stream",
     "text": [
      "100%|██████████| 62/62 [00:03<00:00, 15.87it/s]\n"
     ]
    },
    {
     "name": "stdout",
     "output_type": "stream",
     "text": [
      "FID:  97.29661131745684\n",
      "Namespace(alpha=1e-07, batch_size=32, beta1=0.5, beta2=0.999, checkpoint_dir='./flow_gan', dataset='cifar10', df_dim=64, epoch=25, generate=1, generate_num_imgs=1000, generate_sample_dir='cifar_hybrid_ckpt1', hidden_layers=1000, img_size=32, lambda_gp=10.0, like_reg=10.0, log_path='./flow_gan.log', lr=0.0002, lr_decay=0.99999, min_lr=0.0, mode='hybrid', model_type='real_nvp', n_critics=5, netD='', netG='./cifar_hybrid_ckpt/netG_epoch_47.pth', no_of_layers=8, root_dir='./data', sample_dir='./flow_gan_sample', start_epoch=0, writer_log='runs')\n",
      "31\n",
      "100%|███████████████████████████████████████████| 31/31 [00:27<00:00,  1.13it/s]\n",
      "10891.396011844758\n",
      "16\n"
     ]
    },
    {
     "name": "stderr",
     "output_type": "stream",
     "text": [
      "\r",
      "  0%|          | 0/62 [00:00<?, ?it/s]"
     ]
    },
    {
     "name": "stdout",
     "output_type": "stream",
     "text": [
      "batch_size 16\n",
      "batch_size1 16\n"
     ]
    },
    {
     "name": "stderr",
     "output_type": "stream",
     "text": [
      "100%|██████████| 62/62 [00:03<00:00, 15.87it/s]\n"
     ]
    },
    {
     "name": "stdout",
     "output_type": "stream",
     "text": [
      "FID:  100.42545782065463\n",
      "Namespace(alpha=1e-07, batch_size=32, beta1=0.5, beta2=0.999, checkpoint_dir='./flow_gan', dataset='cifar10', df_dim=64, epoch=25, generate=1, generate_num_imgs=1000, generate_sample_dir='cifar_hybrid_ckpt1', hidden_layers=1000, img_size=32, lambda_gp=10.0, like_reg=10.0, log_path='./flow_gan.log', lr=0.0002, lr_decay=0.99999, min_lr=0.0, mode='hybrid', model_type='real_nvp', n_critics=5, netD='', netG='./cifar_hybrid_ckpt/netG_epoch_48.pth', no_of_layers=8, root_dir='./data', sample_dir='./flow_gan_sample', start_epoch=0, writer_log='runs')\n",
      "31\n",
      "100%|███████████████████████████████████████████| 31/31 [00:27<00:00,  1.14it/s]\n",
      "10266.932365171371\n",
      "16\n"
     ]
    },
    {
     "name": "stderr",
     "output_type": "stream",
     "text": [
      "\r",
      "  0%|          | 0/62 [00:00<?, ?it/s]"
     ]
    },
    {
     "name": "stdout",
     "output_type": "stream",
     "text": [
      "batch_size 16\n",
      "batch_size1 16\n"
     ]
    },
    {
     "name": "stderr",
     "output_type": "stream",
     "text": [
      "100%|██████████| 62/62 [00:04<00:00, 15.45it/s]\n"
     ]
    },
    {
     "name": "stdout",
     "output_type": "stream",
     "text": [
      "FID:  93.69058460463913\n",
      "Namespace(alpha=1e-07, batch_size=32, beta1=0.5, beta2=0.999, checkpoint_dir='./flow_gan', dataset='cifar10', df_dim=64, epoch=25, generate=1, generate_num_imgs=1000, generate_sample_dir='cifar_hybrid_ckpt1', hidden_layers=1000, img_size=32, lambda_gp=10.0, like_reg=10.0, log_path='./flow_gan.log', lr=0.0002, lr_decay=0.99999, min_lr=0.0, mode='hybrid', model_type='real_nvp', n_critics=5, netD='', netG='./cifar_hybrid_ckpt/netG_epoch_49.pth', no_of_layers=8, root_dir='./data', sample_dir='./flow_gan_sample', start_epoch=0, writer_log='runs')\n",
      "31\n",
      "100%|███████████████████████████████████████████| 31/31 [00:27<00:00,  1.13it/s]\n",
      "11428.47908266129\n",
      "16\n"
     ]
    },
    {
     "name": "stderr",
     "output_type": "stream",
     "text": [
      "\r",
      "  0%|          | 0/62 [00:00<?, ?it/s]"
     ]
    },
    {
     "name": "stdout",
     "output_type": "stream",
     "text": [
      "batch_size 16\n",
      "batch_size1 16\n"
     ]
    },
    {
     "name": "stderr",
     "output_type": "stream",
     "text": [
      "100%|██████████| 62/62 [00:04<00:00, 15.33it/s]\n"
     ]
    },
    {
     "name": "stdout",
     "output_type": "stream",
     "text": [
      "FID:  98.64710168719921\n",
      "Namespace(alpha=1e-07, batch_size=32, beta1=0.5, beta2=0.999, checkpoint_dir='./flow_gan', dataset='cifar10', df_dim=64, epoch=25, generate=1, generate_num_imgs=1000, generate_sample_dir='cifar_hybrid_ckpt1', hidden_layers=1000, img_size=32, lambda_gp=10.0, like_reg=10.0, log_path='./flow_gan.log', lr=0.0002, lr_decay=0.99999, min_lr=0.0, mode='hybrid', model_type='real_nvp', n_critics=5, netD='', netG='./cifar_hybrid_ckpt/netG_epoch_50.pth', no_of_layers=8, root_dir='./data', sample_dir='./flow_gan_sample', start_epoch=0, writer_log='runs')\n",
      "31\n",
      "100%|███████████████████████████████████████████| 31/31 [00:26<00:00,  1.16it/s]\n",
      "13409.502236643146\n",
      "16\n"
     ]
    },
    {
     "name": "stderr",
     "output_type": "stream",
     "text": [
      "\r",
      "  0%|          | 0/62 [00:00<?, ?it/s]"
     ]
    },
    {
     "name": "stdout",
     "output_type": "stream",
     "text": [
      "batch_size 16\n",
      "batch_size1 16\n"
     ]
    },
    {
     "name": "stderr",
     "output_type": "stream",
     "text": [
      "100%|██████████| 62/62 [00:03<00:00, 15.79it/s]\n"
     ]
    },
    {
     "name": "stdout",
     "output_type": "stream",
     "text": [
      "FID:  111.28946835843567\n",
      "Namespace(alpha=1e-07, batch_size=32, beta1=0.5, beta2=0.999, checkpoint_dir='./flow_gan', dataset='cifar10', df_dim=64, epoch=25, generate=1, generate_num_imgs=1000, generate_sample_dir='cifar_hybrid_ckpt1', hidden_layers=1000, img_size=32, lambda_gp=10.0, like_reg=10.0, log_path='./flow_gan.log', lr=0.0002, lr_decay=0.99999, min_lr=0.0, mode='hybrid', model_type='real_nvp', n_critics=5, netD='', netG='./cifar_hybrid_ckpt/netG_epoch_51.pth', no_of_layers=8, root_dir='./data', sample_dir='./flow_gan_sample', start_epoch=0, writer_log='runs')\n",
      "31\n",
      "100%|███████████████████████████████████████████| 31/31 [00:25<00:00,  1.20it/s]\n",
      "11479.603216355847\n",
      "16\n"
     ]
    },
    {
     "name": "stderr",
     "output_type": "stream",
     "text": [
      "\r",
      "  0%|          | 0/62 [00:00<?, ?it/s]"
     ]
    },
    {
     "name": "stdout",
     "output_type": "stream",
     "text": [
      "batch_size 16\n",
      "batch_size1 16\n"
     ]
    },
    {
     "name": "stderr",
     "output_type": "stream",
     "text": [
      "100%|██████████| 62/62 [00:03<00:00, 15.70it/s]\n"
     ]
    },
    {
     "name": "stdout",
     "output_type": "stream",
     "text": [
      "FID:  96.43347110958712\n",
      "Namespace(alpha=1e-07, batch_size=32, beta1=0.5, beta2=0.999, checkpoint_dir='./flow_gan', dataset='cifar10', df_dim=64, epoch=25, generate=1, generate_num_imgs=1000, generate_sample_dir='cifar_hybrid_ckpt1', hidden_layers=1000, img_size=32, lambda_gp=10.0, like_reg=10.0, log_path='./flow_gan.log', lr=0.0002, lr_decay=0.99999, min_lr=0.0, mode='hybrid', model_type='real_nvp', n_critics=5, netD='', netG='./cifar_hybrid_ckpt/netG_epoch_52.pth', no_of_layers=8, root_dir='./data', sample_dir='./flow_gan_sample', start_epoch=0, writer_log='runs')\n",
      "31\n",
      "100%|███████████████████████████████████████████| 31/31 [00:27<00:00,  1.12it/s]\n",
      "11052.074722782258\n",
      "16\n"
     ]
    },
    {
     "name": "stderr",
     "output_type": "stream",
     "text": [
      "\r",
      "  0%|          | 0/62 [00:00<?, ?it/s]"
     ]
    },
    {
     "name": "stdout",
     "output_type": "stream",
     "text": [
      "batch_size 16\n",
      "batch_size1 16\n"
     ]
    },
    {
     "name": "stderr",
     "output_type": "stream",
     "text": [
      "100%|██████████| 62/62 [00:03<00:00, 15.70it/s]\n"
     ]
    },
    {
     "name": "stdout",
     "output_type": "stream",
     "text": [
      "FID:  97.44873065725943\n",
      "Namespace(alpha=1e-07, batch_size=32, beta1=0.5, beta2=0.999, checkpoint_dir='./flow_gan', dataset='cifar10', df_dim=64, epoch=25, generate=1, generate_num_imgs=1000, generate_sample_dir='cifar_hybrid_ckpt1', hidden_layers=1000, img_size=32, lambda_gp=10.0, like_reg=10.0, log_path='./flow_gan.log', lr=0.0002, lr_decay=0.99999, min_lr=0.0, mode='hybrid', model_type='real_nvp', n_critics=5, netD='', netG='./cifar_hybrid_ckpt/netG_epoch_53.pth', no_of_layers=8, root_dir='./data', sample_dir='./flow_gan_sample', start_epoch=0, writer_log='runs')\n",
      "31\n",
      "100%|███████████████████████████████████████████| 31/31 [00:26<00:00,  1.16it/s]\n",
      "10016.568138860886\n",
      "16\n"
     ]
    },
    {
     "name": "stderr",
     "output_type": "stream",
     "text": [
      "\r",
      "  0%|          | 0/62 [00:00<?, ?it/s]"
     ]
    },
    {
     "name": "stdout",
     "output_type": "stream",
     "text": [
      "batch_size 16\n",
      "batch_size1 16\n"
     ]
    },
    {
     "name": "stderr",
     "output_type": "stream",
     "text": [
      "100%|██████████| 62/62 [00:03<00:00, 15.79it/s]\n"
     ]
    },
    {
     "name": "stdout",
     "output_type": "stream",
     "text": [
      "FID:  95.35513892016104\n",
      "Namespace(alpha=1e-07, batch_size=32, beta1=0.5, beta2=0.999, checkpoint_dir='./flow_gan', dataset='cifar10', df_dim=64, epoch=25, generate=1, generate_num_imgs=1000, generate_sample_dir='cifar_hybrid_ckpt1', hidden_layers=1000, img_size=32, lambda_gp=10.0, like_reg=10.0, log_path='./flow_gan.log', lr=0.0002, lr_decay=0.99999, min_lr=0.0, mode='hybrid', model_type='real_nvp', n_critics=5, netD='', netG='./cifar_hybrid_ckpt/netG_epoch_54.pth', no_of_layers=8, root_dir='./data', sample_dir='./flow_gan_sample', start_epoch=0, writer_log='runs')\n",
      "31\n",
      "100%|███████████████████████████████████████████| 31/31 [00:26<00:00,  1.16it/s]\n",
      "10941.97060861895\n",
      "16\n"
     ]
    },
    {
     "name": "stderr",
     "output_type": "stream",
     "text": [
      "\r",
      "  0%|          | 0/62 [00:00<?, ?it/s]"
     ]
    },
    {
     "name": "stdout",
     "output_type": "stream",
     "text": [
      "batch_size 16\n",
      "batch_size1 16\n"
     ]
    },
    {
     "name": "stderr",
     "output_type": "stream",
     "text": [
      "100%|██████████| 62/62 [00:03<00:00, 15.66it/s]\n"
     ]
    },
    {
     "name": "stdout",
     "output_type": "stream",
     "text": [
      "FID:  95.24427611007928\n",
      "Namespace(alpha=1e-07, batch_size=32, beta1=0.5, beta2=0.999, checkpoint_dir='./flow_gan', dataset='cifar10', df_dim=64, epoch=25, generate=1, generate_num_imgs=1000, generate_sample_dir='cifar_hybrid_ckpt1', hidden_layers=1000, img_size=32, lambda_gp=10.0, like_reg=10.0, log_path='./flow_gan.log', lr=0.0002, lr_decay=0.99999, min_lr=0.0, mode='hybrid', model_type='real_nvp', n_critics=5, netD='', netG='./cifar_hybrid_ckpt/netG_epoch_55.pth', no_of_layers=8, root_dir='./data', sample_dir='./flow_gan_sample', start_epoch=0, writer_log='runs')\n",
      "31\n",
      "100%|███████████████████████████████████████████| 31/31 [00:26<00:00,  1.15it/s]\n",
      "9747.240045362903\n",
      "16\n"
     ]
    },
    {
     "name": "stderr",
     "output_type": "stream",
     "text": [
      "\r",
      "  0%|          | 0/62 [00:00<?, ?it/s]"
     ]
    },
    {
     "name": "stdout",
     "output_type": "stream",
     "text": [
      "batch_size 16\n",
      "batch_size1 16\n"
     ]
    },
    {
     "name": "stderr",
     "output_type": "stream",
     "text": [
      "100%|██████████| 62/62 [00:03<00:00, 15.70it/s]\n"
     ]
    },
    {
     "name": "stdout",
     "output_type": "stream",
     "text": [
      "FID:  93.91493527164658\n",
      "{'cifar_hybrid_ckpt1': [100.10954174526432, 97.29661131745684, 100.42545782065463, 93.69058460463913, 98.64710168719921, 111.28946835843567, 96.43347110958712, 97.44873065725943, 95.35513892016104, 95.24427611007928, 93.91493527164658]}\n",
      "Namespace(alpha=1e-07, batch_size=32, beta1=0.5, beta2=0.999, checkpoint_dir='./flow_gan', dataset='cifar10', df_dim=64, epoch=25, generate=1, generate_num_imgs=1000, generate_sample_dir='cifar_hybrid_ckpt1', hidden_layers=1000, img_size=32, lambda_gp=10.0, like_reg=10.0, log_path='./flow_gan.log', lr=0.0002, lr_decay=0.99999, min_lr=0.0, mode='hybrid', model_type='real_nvp', n_critics=5, netD='', netG='./cifar_hybrid_ckpt/netG_epoch_56.pth', no_of_layers=8, root_dir='./data', sample_dir='./flow_gan_sample', start_epoch=0, writer_log='runs')\n",
      "31\n",
      "100%|███████████████████████████████████████████| 31/31 [00:26<00:00,  1.17it/s]\n",
      "9824.463032384072\n",
      "16\n"
     ]
    },
    {
     "name": "stderr",
     "output_type": "stream",
     "text": [
      "\r",
      "  0%|          | 0/62 [00:00<?, ?it/s]"
     ]
    },
    {
     "name": "stdout",
     "output_type": "stream",
     "text": [
      "batch_size 16\n",
      "batch_size1 16\n"
     ]
    },
    {
     "name": "stderr",
     "output_type": "stream",
     "text": [
      "100%|██████████| 62/62 [00:03<00:00, 15.76it/s]\n"
     ]
    },
    {
     "name": "stdout",
     "output_type": "stream",
     "text": [
      "FID:  95.38692353987574\n",
      "Namespace(alpha=1e-07, batch_size=32, beta1=0.5, beta2=0.999, checkpoint_dir='./flow_gan', dataset='cifar10', df_dim=64, epoch=25, generate=1, generate_num_imgs=1000, generate_sample_dir='cifar_hybrid_ckpt1', hidden_layers=1000, img_size=32, lambda_gp=10.0, like_reg=10.0, log_path='./flow_gan.log', lr=0.0002, lr_decay=0.99999, min_lr=0.0, mode='hybrid', model_type='real_nvp', n_critics=5, netD='', netG='./cifar_hybrid_ckpt/netG_epoch_57.pth', no_of_layers=8, root_dir='./data', sample_dir='./flow_gan_sample', start_epoch=0, writer_log='runs')\n",
      "31\n",
      "100%|███████████████████████████████████████████| 31/31 [00:26<00:00,  1.17it/s]\n",
      "11829.058877268146\n",
      "16\n"
     ]
    },
    {
     "name": "stderr",
     "output_type": "stream",
     "text": [
      "\r",
      "  0%|          | 0/62 [00:00<?, ?it/s]"
     ]
    },
    {
     "name": "stdout",
     "output_type": "stream",
     "text": [
      "batch_size 16\n",
      "batch_size1 16\n"
     ]
    },
    {
     "name": "stderr",
     "output_type": "stream",
     "text": [
      "100%|██████████| 62/62 [00:03<00:00, 15.76it/s]\n"
     ]
    },
    {
     "name": "stdout",
     "output_type": "stream",
     "text": [
      "FID:  91.72547464575877\n",
      "Namespace(alpha=1e-07, batch_size=32, beta1=0.5, beta2=0.999, checkpoint_dir='./flow_gan', dataset='cifar10', df_dim=64, epoch=25, generate=1, generate_num_imgs=1000, generate_sample_dir='cifar_hybrid_ckpt1', hidden_layers=1000, img_size=32, lambda_gp=10.0, like_reg=10.0, log_path='./flow_gan.log', lr=0.0002, lr_decay=0.99999, min_lr=0.0, mode='hybrid', model_type='real_nvp', n_critics=5, netD='', netG='./cifar_hybrid_ckpt/netG_epoch_58.pth', no_of_layers=8, root_dir='./data', sample_dir='./flow_gan_sample', start_epoch=0, writer_log='runs')\n",
      "31\n",
      "100%|███████████████████████████████████████████| 31/31 [00:26<00:00,  1.17it/s]\n",
      "11587.907730594758\n",
      "16\n"
     ]
    },
    {
     "name": "stderr",
     "output_type": "stream",
     "text": [
      "\r",
      "  0%|          | 0/62 [00:00<?, ?it/s]"
     ]
    },
    {
     "name": "stdout",
     "output_type": "stream",
     "text": [
      "batch_size 16\n",
      "batch_size1 16\n"
     ]
    },
    {
     "name": "stderr",
     "output_type": "stream",
     "text": [
      "100%|██████████| 62/62 [00:03<00:00, 15.64it/s]\n"
     ]
    },
    {
     "name": "stdout",
     "output_type": "stream",
     "text": [
      "FID:  94.81917253935609\n",
      "Namespace(alpha=1e-07, batch_size=32, beta1=0.5, beta2=0.999, checkpoint_dir='./flow_gan', dataset='cifar10', df_dim=64, epoch=25, generate=1, generate_num_imgs=1000, generate_sample_dir='cifar_hybrid_ckpt1', hidden_layers=1000, img_size=32, lambda_gp=10.0, like_reg=10.0, log_path='./flow_gan.log', lr=0.0002, lr_decay=0.99999, min_lr=0.0, mode='hybrid', model_type='real_nvp', n_critics=5, netD='', netG='./cifar_hybrid_ckpt/netG_epoch_59.pth', no_of_layers=8, root_dir='./data', sample_dir='./flow_gan_sample', start_epoch=0, writer_log='runs')\n",
      "31\n",
      "100%|███████████████████████████████████████████| 31/31 [00:25<00:00,  1.20it/s]\n",
      "10274.653036794354\n",
      "16\n"
     ]
    },
    {
     "name": "stderr",
     "output_type": "stream",
     "text": [
      "\r",
      "  0%|          | 0/62 [00:00<?, ?it/s]"
     ]
    },
    {
     "name": "stdout",
     "output_type": "stream",
     "text": [
      "batch_size 16\n",
      "batch_size1 16\n"
     ]
    },
    {
     "name": "stderr",
     "output_type": "stream",
     "text": [
      "100%|██████████| 62/62 [00:03<00:00, 15.79it/s]\n"
     ]
    },
    {
     "name": "stdout",
     "output_type": "stream",
     "text": [
      "FID:  91.15258406904633\n",
      "Namespace(alpha=1e-07, batch_size=32, beta1=0.5, beta2=0.999, checkpoint_dir='./flow_gan', dataset='cifar10', df_dim=64, epoch=25, generate=1, generate_num_imgs=1000, generate_sample_dir='cifar_hybrid_ckpt1', hidden_layers=1000, img_size=32, lambda_gp=10.0, like_reg=10.0, log_path='./flow_gan.log', lr=0.0002, lr_decay=0.99999, min_lr=0.0, mode='hybrid', model_type='real_nvp', n_critics=5, netD='', netG='./cifar_hybrid_ckpt/netG_epoch_60.pth', no_of_layers=8, root_dir='./data', sample_dir='./flow_gan_sample', start_epoch=0, writer_log='runs')\n",
      "31\n",
      "100%|███████████████████████████████████████████| 31/31 [00:27<00:00,  1.12it/s]\n",
      "11153.236611643146\n",
      "16\n"
     ]
    },
    {
     "name": "stderr",
     "output_type": "stream",
     "text": [
      "\r",
      "  0%|          | 0/62 [00:00<?, ?it/s]"
     ]
    },
    {
     "name": "stdout",
     "output_type": "stream",
     "text": [
      "batch_size 16\n",
      "batch_size1 16\n"
     ]
    },
    {
     "name": "stderr",
     "output_type": "stream",
     "text": [
      "100%|██████████| 62/62 [00:03<00:00, 15.67it/s]\n"
     ]
    },
    {
     "name": "stdout",
     "output_type": "stream",
     "text": [
      "FID:  96.6364738708208\n",
      "Namespace(alpha=1e-07, batch_size=32, beta1=0.5, beta2=0.999, checkpoint_dir='./flow_gan', dataset='cifar10', df_dim=64, epoch=25, generate=1, generate_num_imgs=1000, generate_sample_dir='cifar_hybrid_ckpt1', hidden_layers=1000, img_size=32, lambda_gp=10.0, like_reg=10.0, log_path='./flow_gan.log', lr=0.0002, lr_decay=0.99999, min_lr=0.0, mode='hybrid', model_type='real_nvp', n_critics=5, netD='', netG='./cifar_hybrid_ckpt/netG_epoch_61.pth', no_of_layers=8, root_dir='./data', sample_dir='./flow_gan_sample', start_epoch=0, writer_log='runs')\n",
      "31\n",
      "100%|███████████████████████████████████████████| 31/31 [00:27<00:00,  1.13it/s]\n",
      "12174.641885080646\n",
      "16\n"
     ]
    },
    {
     "name": "stderr",
     "output_type": "stream",
     "text": [
      "\r",
      "  0%|          | 0/62 [00:00<?, ?it/s]"
     ]
    },
    {
     "name": "stdout",
     "output_type": "stream",
     "text": [
      "batch_size 16\n",
      "batch_size1 16\n"
     ]
    },
    {
     "name": "stderr",
     "output_type": "stream",
     "text": [
      "100%|██████████| 62/62 [00:03<00:00, 15.73it/s]\n"
     ]
    },
    {
     "name": "stdout",
     "output_type": "stream",
     "text": [
      "FID:  93.3391361724128\n",
      "Namespace(alpha=1e-07, batch_size=32, beta1=0.5, beta2=0.999, checkpoint_dir='./flow_gan', dataset='cifar10', df_dim=64, epoch=25, generate=1, generate_num_imgs=1000, generate_sample_dir='cifar_hybrid_ckpt1', hidden_layers=1000, img_size=32, lambda_gp=10.0, like_reg=10.0, log_path='./flow_gan.log', lr=0.0002, lr_decay=0.99999, min_lr=0.0, mode='hybrid', model_type='real_nvp', n_critics=5, netD='', netG='./cifar_hybrid_ckpt/netG_epoch_62.pth', no_of_layers=8, root_dir='./data', sample_dir='./flow_gan_sample', start_epoch=0, writer_log='runs')\n",
      "31\n",
      "100%|███████████████████████████████████████████| 31/31 [00:26<00:00,  1.19it/s]\n",
      "12652.100396925403\n",
      "16\n"
     ]
    },
    {
     "name": "stderr",
     "output_type": "stream",
     "text": [
      "\r",
      "  0%|          | 0/62 [00:00<?, ?it/s]"
     ]
    },
    {
     "name": "stdout",
     "output_type": "stream",
     "text": [
      "batch_size 16\n",
      "batch_size1 16\n"
     ]
    },
    {
     "name": "stderr",
     "output_type": "stream",
     "text": [
      "100%|██████████| 62/62 [00:03<00:00, 15.77it/s]\n"
     ]
    },
    {
     "name": "stdout",
     "output_type": "stream",
     "text": [
      "FID:  92.44422660889745\n",
      "Namespace(alpha=1e-07, batch_size=32, beta1=0.5, beta2=0.999, checkpoint_dir='./flow_gan', dataset='cifar10', df_dim=64, epoch=25, generate=1, generate_num_imgs=1000, generate_sample_dir='cifar_hybrid_ckpt1', hidden_layers=1000, img_size=32, lambda_gp=10.0, like_reg=10.0, log_path='./flow_gan.log', lr=0.0002, lr_decay=0.99999, min_lr=0.0, mode='hybrid', model_type='real_nvp', n_critics=5, netD='', netG='./cifar_hybrid_ckpt/netG_epoch_63.pth', no_of_layers=8, root_dir='./data', sample_dir='./flow_gan_sample', start_epoch=0, writer_log='runs')\n",
      "31\n",
      "100%|███████████████████████████████████████████| 31/31 [00:26<00:00,  1.17it/s]\n",
      "13962.529485887097\n",
      "16\n"
     ]
    },
    {
     "name": "stderr",
     "output_type": "stream",
     "text": [
      "\r",
      "  0%|          | 0/62 [00:00<?, ?it/s]"
     ]
    },
    {
     "name": "stdout",
     "output_type": "stream",
     "text": [
      "batch_size 16\n",
      "batch_size1 16\n"
     ]
    },
    {
     "name": "stderr",
     "output_type": "stream",
     "text": [
      "100%|██████████| 62/62 [00:03<00:00, 15.75it/s]\n"
     ]
    },
    {
     "name": "stdout",
     "output_type": "stream",
     "text": [
      "FID:  92.25434465679223\n",
      "Namespace(alpha=1e-07, batch_size=32, beta1=0.5, beta2=0.999, checkpoint_dir='./flow_gan', dataset='cifar10', df_dim=64, epoch=25, generate=1, generate_num_imgs=1000, generate_sample_dir='cifar_hybrid_ckpt1', hidden_layers=1000, img_size=32, lambda_gp=10.0, like_reg=10.0, log_path='./flow_gan.log', lr=0.0002, lr_decay=0.99999, min_lr=0.0, mode='hybrid', model_type='real_nvp', n_critics=5, netD='', netG='./cifar_hybrid_ckpt/netG_epoch_64.pth', no_of_layers=8, root_dir='./data', sample_dir='./flow_gan_sample', start_epoch=0, writer_log='runs')\n",
      "31\n",
      "100%|███████████████████████████████████████████| 31/31 [00:27<00:00,  1.12it/s]\n",
      "22437.7019594254\n",
      "16\n"
     ]
    },
    {
     "name": "stderr",
     "output_type": "stream",
     "text": [
      "\r",
      "  0%|          | 0/62 [00:00<?, ?it/s]"
     ]
    },
    {
     "name": "stdout",
     "output_type": "stream",
     "text": [
      "batch_size 16\n",
      "batch_size1 16\n"
     ]
    },
    {
     "name": "stderr",
     "output_type": "stream",
     "text": [
      "100%|██████████| 62/62 [00:03<00:00, 15.79it/s]\n"
     ]
    },
    {
     "name": "stdout",
     "output_type": "stream",
     "text": [
      "FID:  146.52164072144978\n",
      "Namespace(alpha=1e-07, batch_size=32, beta1=0.5, beta2=0.999, checkpoint_dir='./flow_gan', dataset='cifar10', df_dim=64, epoch=25, generate=1, generate_num_imgs=1000, generate_sample_dir='cifar_hybrid_ckpt1', hidden_layers=1000, img_size=32, lambda_gp=10.0, like_reg=10.0, log_path='./flow_gan.log', lr=0.0002, lr_decay=0.99999, min_lr=0.0, mode='hybrid', model_type='real_nvp', n_critics=5, netD='', netG='./cifar_hybrid_ckpt/netG_epoch_65.pth', no_of_layers=8, root_dir='./data', sample_dir='./flow_gan_sample', start_epoch=0, writer_log='runs')\n",
      "31\n",
      "100%|███████████████████████████████████████████| 31/31 [00:26<00:00,  1.15it/s]\n",
      "16996.784778225807\n",
      "16\n"
     ]
    },
    {
     "name": "stderr",
     "output_type": "stream",
     "text": [
      "\r",
      "  0%|          | 0/62 [00:00<?, ?it/s]"
     ]
    },
    {
     "name": "stdout",
     "output_type": "stream",
     "text": [
      "batch_size 16\n",
      "batch_size1 16\n"
     ]
    },
    {
     "name": "stderr",
     "output_type": "stream",
     "text": [
      "100%|██████████| 62/62 [00:03<00:00, 15.62it/s]\n"
     ]
    },
    {
     "name": "stdout",
     "output_type": "stream",
     "text": [
      "FID:  118.17218272940175\n",
      "{'cifar_hybrid_ckpt1': [100.10954174526432, 97.29661131745684, 100.42545782065463, 93.69058460463913, 98.64710168719921, 111.28946835843567, 96.43347110958712, 97.44873065725943, 95.35513892016104, 95.24427611007928, 93.91493527164658, 95.38692353987574, 91.72547464575877, 94.81917253935609, 91.15258406904633, 96.6364738708208, 93.3391361724128, 92.44422660889745, 92.25434465679223, 146.52164072144978, 118.17218272940175]}\n",
      "Namespace(alpha=1e-07, batch_size=32, beta1=0.5, beta2=0.999, checkpoint_dir='./flow_gan', dataset='cifar10', df_dim=64, epoch=25, generate=1, generate_num_imgs=1000, generate_sample_dir='cifar_hybrid_ckpt1', hidden_layers=1000, img_size=32, lambda_gp=10.0, like_reg=10.0, log_path='./flow_gan.log', lr=0.0002, lr_decay=0.99999, min_lr=0.0, mode='hybrid', model_type='real_nvp', n_critics=5, netD='', netG='./cifar_hybrid_ckpt/netG_epoch_66.pth', no_of_layers=8, root_dir='./data', sample_dir='./flow_gan_sample', start_epoch=0, writer_log='runs')\n",
      "31\n",
      "100%|███████████████████████████████████████████| 31/31 [00:27<00:00,  1.13it/s]\n",
      "15797.166519657258\n",
      "16\n"
     ]
    },
    {
     "name": "stderr",
     "output_type": "stream",
     "text": [
      "\r",
      "  0%|          | 0/62 [00:00<?, ?it/s]"
     ]
    },
    {
     "name": "stdout",
     "output_type": "stream",
     "text": [
      "batch_size 16\n",
      "batch_size1 16\n"
     ]
    },
    {
     "name": "stderr",
     "output_type": "stream",
     "text": [
      "100%|██████████| 62/62 [00:03<00:00, 15.75it/s]\n"
     ]
    },
    {
     "name": "stdout",
     "output_type": "stream",
     "text": [
      "FID:  102.1671696955325\n",
      "Namespace(alpha=1e-07, batch_size=32, beta1=0.5, beta2=0.999, checkpoint_dir='./flow_gan', dataset='cifar10', df_dim=64, epoch=25, generate=1, generate_num_imgs=1000, generate_sample_dir='cifar_hybrid_ckpt1', hidden_layers=1000, img_size=32, lambda_gp=10.0, like_reg=10.0, log_path='./flow_gan.log', lr=0.0002, lr_decay=0.99999, min_lr=0.0, mode='hybrid', model_type='real_nvp', n_critics=5, netD='', netG='./cifar_hybrid_ckpt/netG_epoch_67.pth', no_of_layers=8, root_dir='./data', sample_dir='./flow_gan_sample', start_epoch=0, writer_log='runs')\n",
      "31\n",
      "100%|███████████████████████████████████████████| 31/31 [00:26<00:00,  1.18it/s]\n",
      "12301.019862021169\n",
      "16\n"
     ]
    },
    {
     "name": "stderr",
     "output_type": "stream",
     "text": [
      "\r",
      "  0%|          | 0/62 [00:00<?, ?it/s]"
     ]
    },
    {
     "name": "stdout",
     "output_type": "stream",
     "text": [
      "batch_size 16\n",
      "batch_size1 16\n"
     ]
    },
    {
     "name": "stderr",
     "output_type": "stream",
     "text": [
      "100%|██████████| 62/62 [00:03<00:00, 15.67it/s]\n"
     ]
    },
    {
     "name": "stdout",
     "output_type": "stream",
     "text": [
      "FID:  92.41370044644486\n",
      "Namespace(alpha=1e-07, batch_size=32, beta1=0.5, beta2=0.999, checkpoint_dir='./flow_gan', dataset='cifar10', df_dim=64, epoch=25, generate=1, generate_num_imgs=1000, generate_sample_dir='cifar_hybrid_ckpt1', hidden_layers=1000, img_size=32, lambda_gp=10.0, like_reg=10.0, log_path='./flow_gan.log', lr=0.0002, lr_decay=0.99999, min_lr=0.0, mode='hybrid', model_type='real_nvp', n_critics=5, netD='', netG='./cifar_hybrid_ckpt/netG_epoch_68.pth', no_of_layers=8, root_dir='./data', sample_dir='./flow_gan_sample', start_epoch=0, writer_log='runs')\n",
      "31\n",
      "100%|███████████████████████████████████████████| 31/31 [00:27<00:00,  1.15it/s]\n",
      "10928.604366179436\n",
      "16\n"
     ]
    },
    {
     "name": "stderr",
     "output_type": "stream",
     "text": [
      "\r",
      "  0%|          | 0/62 [00:00<?, ?it/s]"
     ]
    },
    {
     "name": "stdout",
     "output_type": "stream",
     "text": [
      "batch_size 16\n",
      "batch_size1 16\n"
     ]
    },
    {
     "name": "stderr",
     "output_type": "stream",
     "text": [
      "100%|██████████| 62/62 [00:03<00:00, 15.66it/s]\n"
     ]
    },
    {
     "name": "stdout",
     "output_type": "stream",
     "text": [
      "FID:  92.2722235155291\n",
      "Namespace(alpha=1e-07, batch_size=32, beta1=0.5, beta2=0.999, checkpoint_dir='./flow_gan', dataset='cifar10', df_dim=64, epoch=25, generate=1, generate_num_imgs=1000, generate_sample_dir='cifar_hybrid_ckpt1', hidden_layers=1000, img_size=32, lambda_gp=10.0, like_reg=10.0, log_path='./flow_gan.log', lr=0.0002, lr_decay=0.99999, min_lr=0.0, mode='hybrid', model_type='real_nvp', n_critics=5, netD='', netG='./cifar_hybrid_ckpt/netG_epoch_69.pth', no_of_layers=8, root_dir='./data', sample_dir='./flow_gan_sample', start_epoch=0, writer_log='runs')\n",
      "31\n",
      "100%|███████████████████████████████████████████| 31/31 [00:26<00:00,  1.16it/s]\n",
      "10731.756016885081\n",
      "16\n"
     ]
    },
    {
     "name": "stderr",
     "output_type": "stream",
     "text": [
      "\r",
      "  0%|          | 0/62 [00:00<?, ?it/s]"
     ]
    },
    {
     "name": "stdout",
     "output_type": "stream",
     "text": [
      "batch_size 16\n",
      "batch_size1 16\n"
     ]
    },
    {
     "name": "stderr",
     "output_type": "stream",
     "text": [
      "100%|██████████| 62/62 [00:03<00:00, 15.78it/s]\n"
     ]
    },
    {
     "name": "stdout",
     "output_type": "stream",
     "text": [
      "FID:  92.74752570783892\n",
      "Namespace(alpha=1e-07, batch_size=32, beta1=0.5, beta2=0.999, checkpoint_dir='./flow_gan', dataset='cifar10', df_dim=64, epoch=25, generate=1, generate_num_imgs=1000, generate_sample_dir='cifar_hybrid_ckpt1', hidden_layers=1000, img_size=32, lambda_gp=10.0, like_reg=10.0, log_path='./flow_gan.log', lr=0.0002, lr_decay=0.99999, min_lr=0.0, mode='hybrid', model_type='real_nvp', n_critics=5, netD='', netG='./cifar_hybrid_ckpt/netG_epoch_70.pth', no_of_layers=8, root_dir='./data', sample_dir='./flow_gan_sample', start_epoch=0, writer_log='runs')\n",
      "31\n",
      "100%|███████████████████████████████████████████| 31/31 [00:26<00:00,  1.16it/s]\n",
      "9478.360666582661\n",
      "16\n"
     ]
    },
    {
     "name": "stderr",
     "output_type": "stream",
     "text": [
      "\r",
      "  0%|          | 0/62 [00:00<?, ?it/s]"
     ]
    },
    {
     "name": "stdout",
     "output_type": "stream",
     "text": [
      "batch_size 16\n",
      "batch_size1 16\n"
     ]
    },
    {
     "name": "stderr",
     "output_type": "stream",
     "text": [
      "100%|██████████| 62/62 [00:03<00:00, 15.67it/s]\n"
     ]
    },
    {
     "name": "stdout",
     "output_type": "stream",
     "text": [
      "FID:  94.10293754887175\n",
      "Namespace(alpha=1e-07, batch_size=32, beta1=0.5, beta2=0.999, checkpoint_dir='./flow_gan', dataset='cifar10', df_dim=64, epoch=25, generate=1, generate_num_imgs=1000, generate_sample_dir='cifar_hybrid_ckpt1', hidden_layers=1000, img_size=32, lambda_gp=10.0, like_reg=10.0, log_path='./flow_gan.log', lr=0.0002, lr_decay=0.99999, min_lr=0.0, mode='hybrid', model_type='real_nvp', n_critics=5, netD='', netG='./cifar_hybrid_ckpt/netG_epoch_71.pth', no_of_layers=8, root_dir='./data', sample_dir='./flow_gan_sample', start_epoch=0, writer_log='runs')\n",
      "31\n",
      "100%|███████████████████████████████████████████| 31/31 [00:27<00:00,  1.15it/s]\n",
      "12448.8666047127\n",
      "16\n"
     ]
    },
    {
     "name": "stderr",
     "output_type": "stream",
     "text": [
      "\r",
      "  0%|          | 0/62 [00:00<?, ?it/s]"
     ]
    },
    {
     "name": "stdout",
     "output_type": "stream",
     "text": [
      "batch_size 16\n",
      "batch_size1 16\n"
     ]
    },
    {
     "name": "stderr",
     "output_type": "stream",
     "text": [
      "100%|██████████| 62/62 [00:03<00:00, 15.75it/s]\n"
     ]
    },
    {
     "name": "stdout",
     "output_type": "stream",
     "text": [
      "FID:  95.47810606327408\n",
      "Namespace(alpha=1e-07, batch_size=32, beta1=0.5, beta2=0.999, checkpoint_dir='./flow_gan', dataset='cifar10', df_dim=64, epoch=25, generate=1, generate_num_imgs=1000, generate_sample_dir='cifar_hybrid_ckpt1', hidden_layers=1000, img_size=32, lambda_gp=10.0, like_reg=10.0, log_path='./flow_gan.log', lr=0.0002, lr_decay=0.99999, min_lr=0.0, mode='hybrid', model_type='real_nvp', n_critics=5, netD='', netG='./cifar_hybrid_ckpt/netG_epoch_72.pth', no_of_layers=8, root_dir='./data', sample_dir='./flow_gan_sample', start_epoch=0, writer_log='runs')\n",
      "31\n",
      "100%|███████████████████████████████████████████| 31/31 [00:26<00:00,  1.16it/s]\n",
      "14405.31306703629\n",
      "16\n"
     ]
    },
    {
     "name": "stderr",
     "output_type": "stream",
     "text": [
      "\r",
      "  0%|          | 0/62 [00:00<?, ?it/s]"
     ]
    },
    {
     "name": "stdout",
     "output_type": "stream",
     "text": [
      "batch_size 16\n",
      "batch_size1 16\n"
     ]
    },
    {
     "name": "stderr",
     "output_type": "stream",
     "text": [
      "100%|██████████| 62/62 [00:03<00:00, 15.71it/s]\n"
     ]
    },
    {
     "name": "stdout",
     "output_type": "stream",
     "text": [
      "FID:  94.20266141526957\n",
      "Namespace(alpha=1e-07, batch_size=32, beta1=0.5, beta2=0.999, checkpoint_dir='./flow_gan', dataset='cifar10', df_dim=64, epoch=25, generate=1, generate_num_imgs=1000, generate_sample_dir='cifar_hybrid_ckpt1', hidden_layers=1000, img_size=32, lambda_gp=10.0, like_reg=10.0, log_path='./flow_gan.log', lr=0.0002, lr_decay=0.99999, min_lr=0.0, mode='hybrid', model_type='real_nvp', n_critics=5, netD='', netG='./cifar_hybrid_ckpt/netG_epoch_73.pth', no_of_layers=8, root_dir='./data', sample_dir='./flow_gan_sample', start_epoch=0, writer_log='runs')\n",
      "31\n",
      "100%|███████████████████████████████████████████| 31/31 [00:27<00:00,  1.13it/s]\n",
      "11770.561287172379\n",
      "16\n"
     ]
    },
    {
     "name": "stderr",
     "output_type": "stream",
     "text": [
      "\r",
      "  0%|          | 0/62 [00:00<?, ?it/s]"
     ]
    },
    {
     "name": "stdout",
     "output_type": "stream",
     "text": [
      "batch_size 16\n",
      "batch_size1 16\n"
     ]
    },
    {
     "name": "stderr",
     "output_type": "stream",
     "text": [
      "100%|██████████| 62/62 [00:03<00:00, 15.68it/s]\n"
     ]
    },
    {
     "name": "stdout",
     "output_type": "stream",
     "text": [
      "FID:  92.58392238840077\n",
      "Namespace(alpha=1e-07, batch_size=32, beta1=0.5, beta2=0.999, checkpoint_dir='./flow_gan', dataset='cifar10', df_dim=64, epoch=25, generate=1, generate_num_imgs=1000, generate_sample_dir='cifar_hybrid_ckpt1', hidden_layers=1000, img_size=32, lambda_gp=10.0, like_reg=10.0, log_path='./flow_gan.log', lr=0.0002, lr_decay=0.99999, min_lr=0.0, mode='hybrid', model_type='real_nvp', n_critics=5, netD='', netG='./cifar_hybrid_ckpt/netG_epoch_74.pth', no_of_layers=8, root_dir='./data', sample_dir='./flow_gan_sample', start_epoch=0, writer_log='runs')\n",
      "31\n",
      "100%|███████████████████████████████████████████| 31/31 [00:26<00:00,  1.17it/s]\n",
      "11327.610367313508\n",
      "16\n"
     ]
    },
    {
     "name": "stderr",
     "output_type": "stream",
     "text": [
      "\r",
      "  0%|          | 0/62 [00:00<?, ?it/s]"
     ]
    },
    {
     "name": "stdout",
     "output_type": "stream",
     "text": [
      "batch_size 16\n",
      "batch_size1 16\n"
     ]
    },
    {
     "name": "stderr",
     "output_type": "stream",
     "text": [
      "100%|██████████| 62/62 [00:03<00:00, 15.78it/s]\n"
     ]
    },
    {
     "name": "stdout",
     "output_type": "stream",
     "text": [
      "FID:  91.69206639501095\n",
      "Namespace(alpha=1e-07, batch_size=32, beta1=0.5, beta2=0.999, checkpoint_dir='./flow_gan', dataset='cifar10', df_dim=64, epoch=25, generate=1, generate_num_imgs=1000, generate_sample_dir='cifar_hybrid_ckpt1', hidden_layers=1000, img_size=32, lambda_gp=10.0, like_reg=10.0, log_path='./flow_gan.log', lr=0.0002, lr_decay=0.99999, min_lr=0.0, mode='hybrid', model_type='real_nvp', n_critics=5, netD='', netG='./cifar_hybrid_ckpt/netG_epoch_75.pth', no_of_layers=8, root_dir='./data', sample_dir='./flow_gan_sample', start_epoch=0, writer_log='runs')\n",
      "31\n",
      "100%|███████████████████████████████████████████| 31/31 [00:26<00:00,  1.18it/s]\n",
      "13875.59724672379\n",
      "16\n"
     ]
    },
    {
     "name": "stderr",
     "output_type": "stream",
     "text": [
      "\r",
      "  0%|          | 0/62 [00:00<?, ?it/s]"
     ]
    },
    {
     "name": "stdout",
     "output_type": "stream",
     "text": [
      "batch_size 16\n",
      "batch_size1 16\n"
     ]
    },
    {
     "name": "stderr",
     "output_type": "stream",
     "text": [
      "100%|██████████| 62/62 [00:03<00:00, 15.75it/s]\n"
     ]
    },
    {
     "name": "stdout",
     "output_type": "stream",
     "text": [
      "FID:  92.95449799033418\n",
      "{'cifar_hybrid_ckpt1': [100.10954174526432, 97.29661131745684, 100.42545782065463, 93.69058460463913, 98.64710168719921, 111.28946835843567, 96.43347110958712, 97.44873065725943, 95.35513892016104, 95.24427611007928, 93.91493527164658, 95.38692353987574, 91.72547464575877, 94.81917253935609, 91.15258406904633, 96.6364738708208, 93.3391361724128, 92.44422660889745, 92.25434465679223, 146.52164072144978, 118.17218272940175, 102.1671696955325, 92.41370044644486, 92.2722235155291, 92.74752570783892, 94.10293754887175, 95.47810606327408, 94.20266141526957, 92.58392238840077, 91.69206639501095, 92.95449799033418]}\n",
      "Namespace(alpha=1e-07, batch_size=32, beta1=0.5, beta2=0.999, checkpoint_dir='./flow_gan', dataset='cifar10', df_dim=64, epoch=25, generate=1, generate_num_imgs=1000, generate_sample_dir='cifar_hybrid_ckpt1', hidden_layers=1000, img_size=32, lambda_gp=10.0, like_reg=10.0, log_path='./flow_gan.log', lr=0.0002, lr_decay=0.99999, min_lr=0.0, mode='hybrid', model_type='real_nvp', n_critics=5, netD='', netG='./cifar_hybrid_ckpt/netG_epoch_76.pth', no_of_layers=8, root_dir='./data', sample_dir='./flow_gan_sample', start_epoch=0, writer_log='runs')\n",
      "31\n",
      "100%|███████████████████████████████████████████| 31/31 [00:25<00:00,  1.19it/s]\n",
      "12950.643113659275\n",
      "16\n"
     ]
    },
    {
     "name": "stderr",
     "output_type": "stream",
     "text": [
      "\r",
      "  0%|          | 0/62 [00:00<?, ?it/s]"
     ]
    },
    {
     "name": "stdout",
     "output_type": "stream",
     "text": [
      "batch_size 16\n",
      "batch_size1 16\n"
     ]
    },
    {
     "name": "stderr",
     "output_type": "stream",
     "text": [
      "100%|██████████| 62/62 [00:05<00:00, 11.44it/s]\n"
     ]
    },
    {
     "name": "stdout",
     "output_type": "stream",
     "text": [
      "FID:  93.35812036210814\n",
      "Namespace(alpha=1e-07, batch_size=32, beta1=0.5, beta2=0.999, checkpoint_dir='./flow_gan', dataset='cifar10', df_dim=64, epoch=25, generate=1, generate_num_imgs=1000, generate_sample_dir='cifar_hybrid_ckpt1', hidden_layers=1000, img_size=32, lambda_gp=10.0, like_reg=10.0, log_path='./flow_gan.log', lr=0.0002, lr_decay=0.99999, min_lr=0.0, mode='hybrid', model_type='real_nvp', n_critics=5, netD='', netG='./cifar_hybrid_ckpt/netG_epoch_77.pth', no_of_layers=8, root_dir='./data', sample_dir='./flow_gan_sample', start_epoch=0, writer_log='runs')\n",
      "31\n",
      "100%|███████████████████████████████████████████| 31/31 [00:26<00:00,  1.15it/s]\n",
      "10514.55330141129\n",
      "16\n"
     ]
    },
    {
     "name": "stderr",
     "output_type": "stream",
     "text": [
      "\r",
      "  0%|          | 0/62 [00:00<?, ?it/s]"
     ]
    },
    {
     "name": "stdout",
     "output_type": "stream",
     "text": [
      "batch_size 16\n",
      "batch_size1 16\n"
     ]
    },
    {
     "name": "stderr",
     "output_type": "stream",
     "text": [
      "100%|██████████| 62/62 [00:03<00:00, 15.80it/s]\n"
     ]
    },
    {
     "name": "stdout",
     "output_type": "stream",
     "text": [
      "FID:  92.75652405578006\n"
     ]
    }
   ],
   "source": [
    "import pickle\n",
    "folders = ['cifar_hybrid_ckpt']\n",
    "folders1 = ['cifar_hybrid_ckpt1']\n",
    "epochs = [77]\n",
    "d = {}\n",
    "t=0\n",
    "m1=0\n",
    "s1=0\n",
    "for i,folder in enumerate(folders):\n",
    "    folder1= folders1[i]\n",
    "    d[folder1]=[]\n",
    "    for index in range(45,epochs[i]+1):\n",
    "        !python main.py --dataset 'cifar10' --img_size 32 --no_of_layers 8 --batch_size 32 --netG './$folder/netG_epoch_{index}.pth' --generate 1 --generate_sample_dir $folder1 --generate_num_imgs 1000\n",
    "        fid,m1,s1 = main(['/nfs/students/winter-term-2020/project-5/cifar_train/',f\"./Generated_Images/{folder1}\"], t,m1,s1)\n",
    "        d[folder1].append(fid)\n",
    "        !rm -rf ./Generated_Images/$folder1\n",
    "        if t%10==0:\n",
    "            print(d)\n",
    "            pickle.dump(d, open('new.pkl', 'wb'))\n",
    "        t=t+1\n",
    "    pickle.dump(d, open('new.pkl', 'wb'))"
   ]
  },
  {
   "cell_type": "code",
   "execution_count": null,
   "metadata": {},
   "outputs": [],
   "source": []
  }
 ],
 "metadata": {
  "kernelspec": {
   "display_name": "Python 3",
   "language": "python",
   "name": "python3"
  },
  "language_info": {
   "codemirror_mode": {
    "name": "ipython",
    "version": 3
   },
   "file_extension": ".py",
   "mimetype": "text/x-python",
   "name": "python",
   "nbconvert_exporter": "python",
   "pygments_lexer": "ipython3",
   "version": "3.8.3"
  }
 },
 "nbformat": 4,
 "nbformat_minor": 4
}
