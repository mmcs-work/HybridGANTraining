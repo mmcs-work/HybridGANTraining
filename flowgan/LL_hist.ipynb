{
 "cells": [
  {
   "cell_type": "markdown",
   "metadata": {},
   "source": [
    "## MNIST"
   ]
  },
  {
   "cell_type": "code",
   "execution_count": null,
   "metadata": {
    "scrolled": true
   },
   "outputs": [],
   "source": [
    "!python LL_hist.py --netG './mnist_mle_ckpt/netG_epoch_99.pth' --filename 'mnist_mle.png'"
   ]
  },
  {
   "cell_type": "code",
   "execution_count": null,
   "metadata": {},
   "outputs": [],
   "source": [
    "!python LL_hist.py --netG './mnist_hybrid_ckpt/netG_epoch_87.pth' --filename 'mnist_hybrid.png'"
   ]
  },
  {
   "cell_type": "code",
   "execution_count": null,
   "metadata": {},
   "outputs": [],
   "source": [
    "!python LL_hist.py --netG './mnist_adv_flowgan_marin/netG_epoch_99.pth' --filename 'mnist_adv.png'"
   ]
  },
  {
   "cell_type": "markdown",
   "metadata": {},
   "source": [
    "## FMNIST"
   ]
  },
  {
   "cell_type": "code",
   "execution_count": null,
   "metadata": {},
   "outputs": [],
   "source": [
    "!python LL_hist.py --netG './mnist_adv_flowgan_marin/netG_epoch_99.pth'\\\n",
    "--filename 'fmnist_adv.png'\\\n",
    "--dataset 'fmnist'"
   ]
  },
  {
   "cell_type": "code",
   "execution_count": null,
   "metadata": {},
   "outputs": [],
   "source": [
    "!python LL_hist.py --netG './mnist_hybrid_ckpt/netG_epoch_87.pth'\\\n",
    "--filename 'fmnist_hybrid.png'\\\n",
    "--dataset 'fmnist'"
   ]
  },
  {
   "cell_type": "code",
   "execution_count": null,
   "metadata": {},
   "outputs": [],
   "source": [
    "!python LL_hist.py --netG './mnist_mle_ckpt/netG_epoch_99.pth'\\\n",
    "--filename 'fmnist_mle.png'\\\n",
    "--dataset 'fmnist'"
   ]
  },
  {
   "cell_type": "markdown",
   "metadata": {},
   "source": [
    "## Subplot results"
   ]
  },
  {
   "cell_type": "code",
   "execution_count": null,
   "metadata": {},
   "outputs": [],
   "source": [
    "import sys\n",
    "from PIL import Image\n",
    "\n",
    "images = [Image.open(x) for x in ['LL_hist/mnist_mle.png', 'LL_hist/mnist_hybrid.png', 'LL_hist/mnist_adv.png']]\n",
    "widths, heights = zip(*(i.size for i in images))\n",
    "\n",
    "total_width = sum(widths)\n",
    "max_height = max(heights)\n",
    "\n",
    "new_im = Image.new('RGB', (total_width, max_height))\n",
    "\n",
    "x_offset = 0\n",
    "for im in images:\n",
    "    new_im.paste(im, (x_offset,0))\n",
    "    x_offset += im.size[0]\n",
    "\n",
    "new_im.save('mnist.jpg')"
   ]
  },
  {
   "cell_type": "code",
   "execution_count": 1,
   "metadata": {},
   "outputs": [],
   "source": [
    "import numpy as np\n",
    "import seaborn as sns\n",
    "import pandas as pd"
   ]
  },
  {
   "cell_type": "code",
   "execution_count": 5,
   "metadata": {},
   "outputs": [
    {
     "data": {
      "text/html": [
       "<div>\n",
       "<style scoped>\n",
       "    .dataframe tbody tr th:only-of-type {\n",
       "        vertical-align: middle;\n",
       "    }\n",
       "\n",
       "    .dataframe tbody tr th {\n",
       "        vertical-align: top;\n",
       "    }\n",
       "\n",
       "    .dataframe thead th {\n",
       "        text-align: right;\n",
       "    }\n",
       "</style>\n",
       "<table border=\"1\" class=\"dataframe\">\n",
       "  <thead>\n",
       "    <tr style=\"text-align: right;\">\n",
       "      <th></th>\n",
       "      <th>mnist_mle</th>\n",
       "      <th>fmnist_mle</th>\n",
       "    </tr>\n",
       "  </thead>\n",
       "  <tbody>\n",
       "    <tr>\n",
       "      <th>0</th>\n",
       "      <td>2227.188477</td>\n",
       "      <td>6548.546387</td>\n",
       "    </tr>\n",
       "    <tr>\n",
       "      <th>1</th>\n",
       "      <td>2320.613281</td>\n",
       "      <td>9695.577148</td>\n",
       "    </tr>\n",
       "    <tr>\n",
       "      <th>2</th>\n",
       "      <td>2206.685547</td>\n",
       "      <td>5954.200684</td>\n",
       "    </tr>\n",
       "    <tr>\n",
       "      <th>3</th>\n",
       "      <td>2204.521484</td>\n",
       "      <td>7310.071777</td>\n",
       "    </tr>\n",
       "    <tr>\n",
       "      <th>4</th>\n",
       "      <td>2074.961914</td>\n",
       "      <td>7413.991699</td>\n",
       "    </tr>\n",
       "    <tr>\n",
       "      <th>...</th>\n",
       "      <td>...</td>\n",
       "      <td>...</td>\n",
       "    </tr>\n",
       "    <tr>\n",
       "      <th>9995</th>\n",
       "      <td>1993.718262</td>\n",
       "      <td>6462.145508</td>\n",
       "    </tr>\n",
       "    <tr>\n",
       "      <th>9996</th>\n",
       "      <td>2328.995605</td>\n",
       "      <td>8767.578125</td>\n",
       "    </tr>\n",
       "    <tr>\n",
       "      <th>9997</th>\n",
       "      <td>2101.460449</td>\n",
       "      <td>6598.847656</td>\n",
       "    </tr>\n",
       "    <tr>\n",
       "      <th>9998</th>\n",
       "      <td>2146.204590</td>\n",
       "      <td>6812.542480</td>\n",
       "    </tr>\n",
       "    <tr>\n",
       "      <th>9999</th>\n",
       "      <td>2356.016602</td>\n",
       "      <td>5546.927734</td>\n",
       "    </tr>\n",
       "  </tbody>\n",
       "</table>\n",
       "<p>10000 rows × 2 columns</p>\n",
       "</div>"
      ],
      "text/plain": [
       "        mnist_mle   fmnist_mle\n",
       "0     2227.188477  6548.546387\n",
       "1     2320.613281  9695.577148\n",
       "2     2206.685547  5954.200684\n",
       "3     2204.521484  7310.071777\n",
       "4     2074.961914  7413.991699\n",
       "...           ...          ...\n",
       "9995  1993.718262  6462.145508\n",
       "9996  2328.995605  8767.578125\n",
       "9997  2101.460449  6598.847656\n",
       "9998  2146.204590  6812.542480\n",
       "9999  2356.016602  5546.927734\n",
       "\n",
       "[10000 rows x 2 columns]"
      ]
     },
     "execution_count": 5,
     "metadata": {},
     "output_type": "execute_result"
    }
   ],
   "source": [
    "df"
   ]
  },
  {
   "cell_type": "code",
   "execution_count": 2,
   "metadata": {},
   "outputs": [
    {
     "data": {
      "text/plain": [
       "<AxesSubplot:ylabel='Count'>"
      ]
     },
     "execution_count": 2,
     "metadata": {},
     "output_type": "execute_result"
    },
    {
     "data": {
      "image/png": "[encoded data removed]",
      "text/plain": [
       "<Figure size 432x288 with 1 Axes>"
      ]
     },
     "metadata": {
      "needs_background": "light"
     },
     "output_type": "display_data"
    }
   ],
   "source": [
    "m = np.expand_dims(np.load('LL_hist/mnist_mle.npy'), axis=0).T\n",
    "f = np.expand_dims(np.load('LL_hist/fmnist_mle.npy'), axis=0).T\n",
    "\n",
    "df = pd.DataFrame(np.concatenate((m, f), axis=1), columns=[\"mnist_mle\", \"fmnist_mle\"])\n",
    "sns.histplot(data=df)"
   ]
  },
  {
   "cell_type": "code",
   "execution_count": 10,
   "metadata": {},
   "outputs": [
    {
     "data": {
      "text/plain": [
       "<matplotlib.axes._subplots.AxesSubplot at 0x7f49a68c4c70>"
      ]
     },
     "execution_count": 10,
     "metadata": {},
     "output_type": "execute_result"
    },
    {
     "data": {
      "image/png": "[encoded data removed]",
      "text/plain": [
       "<Figure size 432x288 with 1 Axes>"
      ]
     },
     "metadata": {
      "needs_background": "light"
     },
     "output_type": "display_data"
    }
   ],
   "source": [
    "m = np.expand_dims(np.load('LL_hist/mnist_hybrid.npy'), axis=0).T\n",
    "f = np.expand_dims(np.load('LL_hist/fmnist_hybrid.npy'), axis=0).T\n",
    "\n",
    "df = pd.DataFrame(np.concatenate((m, f), axis=1), columns=[\"mnist_hybrid\", \"fmnist_hybrid\"])\n",
    "sns.histplot(data=df)"
   ]
  },
  {
   "cell_type": "code",
   "execution_count": 12,
   "metadata": {},
   "outputs": [
    {
     "data": {
      "text/plain": [
       "<matplotlib.axes._subplots.AxesSubplot at 0x7f49a65c0e80>"
      ]
     },
     "execution_count": 12,
     "metadata": {},
     "output_type": "execute_result"
    },
    {
     "data": {
      "image/png": "[encoded data removed]",
      "text/plain": [
       "<Figure size 432x288 with 1 Axes>"
      ]
     },
     "metadata": {
      "needs_background": "light"
     },
     "output_type": "display_data"
    }
   ],
   "source": [
    "m = np.expand_dims(np.load('LL_hist/mnist_adv.npy'), axis=0).T\n",
    "f = np.expand_dims(np.load('LL_hist/fmnist_adv.npy'), axis=0).T\n",
    "\n",
    "df = pd.DataFrame(np.concatenate((m, f), axis=1), columns=[\"mnist_adv\", \"fmnist_adv\"])\n",
    "sns.histplot(data=df)"
   ]
  },
  {
   "cell_type": "code",
   "execution_count": null,
   "metadata": {},
   "outputs": [],
   "source": []
  }
 ],
 "metadata": {
  "kernelspec": {
   "display_name": "Python 3",
   "language": "python",
   "name": "python3"
  },
  "language_info": {
   "codemirror_mode": {
    "name": "ipython",
    "version": 3
   },
   "file_extension": ".py",
   "mimetype": "text/x-python",
   "name": "python",
   "nbconvert_exporter": "python",
   "pygments_lexer": "ipython3",
   "version": "3.8.3"
  }
 },
 "nbformat": 4,
 "nbformat_minor": 4
}
