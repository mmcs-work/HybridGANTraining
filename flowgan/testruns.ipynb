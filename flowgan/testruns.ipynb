{
 "cells": [
  {
   "cell_type": "markdown",
   "metadata": {},
   "source": [
    "## cifar10"
   ]
  },
  {
   "cell_type": "code",
   "execution_count": null,
   "metadata": {},
   "outputs": [
    {
     "name": "stdout",
     "output_type": "stream",
     "text": [
      "Namespace(alpha=1e-07, batch_size=32, beta1=0.5, beta2=0.999, checkpoint_dir='./cifar_adv_ckpt', dataset='cifar10', df_dim=64, epoch=100, generate=0, generate_num_imgs=10000, generate_sample_dir='./flowgan_sampled_images', hidden_layers=1000, img_size=32, lambda_gp=10.0, like_reg=0.0, log_path='cifar_adv.log', lr=0.0001, lr_decay=0.99999, min_lr=0.0, mode='adv', model_type='real_nvp', n_critics=5, netD='./cifar_adv_ckpt/netD_epoch_41.pth', netG='./cifar_adv_ckpt/netG_epoch_41.pth', no_of_layers=8, root_dir='./data', sample_dir='./cifar_adv_sample', start_epoch=42, writer_log='./cifar_adv_runs')\n",
      "Files already downloaded and verified\n",
      "Files already downloaded and verified\n",
      "100%|█| 40000/40000 [1:15:01<00:00,  8.89it/s, Dloss=-1.39, Gloss=57.7, LL=1.59e\n",
      "100%|███████| 10000/10000 [00:57<00:00, 173.70it/s, LL_val=1.64e+8, bpd=7.71e+4]\n",
      "100%|█| 40000/40000 [1:15:09<00:00,  8.87it/s, Dloss=-.55, Gloss=52.6, LL=2.18e+\n",
      "100%|███████| 10000/10000 [00:57<00:00, 173.75it/s, LL_val=2.27e+8, bpd=1.07e+5]\n",
      "100%|█| 40000/40000 [1:15:23<00:00,  8.84it/s, Dloss=-.854, Gloss=58.6, LL=2.67e\n",
      "100%|████████| 10000/10000 [00:57<00:00, 173.60it/s, LL_val=3.9e+8, bpd=1.83e+5]\n",
      " 96%|▉| 38592/40000 [1:12:46<02:40,  8.80it/s, Dloss=-1.9, Gloss=60.3, LL=3.5e+8"
     ]
    }
   ],
   "source": [
    "!python main.py --mode 'adv' \\\n",
    "--dataset 'cifar10' \\\n",
    "--log_path 'cifar_adv.log' \\\n",
    "--checkpoint_dir './cifar_adv_ckpt' \\\n",
    "--sample_dir './cifar_adv_sample' \\\n",
    "--writer_log './cifar_adv_runs' \\\n",
    "--start_epoch 42 \\\n",
    "--netG './cifar_adv_ckpt/netG_epoch_41.pth' \\\n",
    "--netD './cifar_adv_ckpt/netD_epoch_41.pth' \\\n",
    "--img_size 32 \\\n",
    "--no_of_layers 8 \\\n",
    "--lr 1e-4 \\\n",
    "--batch_size 32 \\\n",
    "--n_critics 5 \\\n",
    "--epoch 100 \\\n",
    "--like_reg 0."
   ]
  },
  {
   "cell_type": "code",
   "execution_count": null,
   "metadata": {},
   "outputs": [
    {
     "name": "stdout",
     "output_type": "stream",
     "text": [
      "Namespace(alpha=1e-07, batch_size=32, beta1=0.5, beta2=0.999, checkpoint_dir='./cifar_hybrid_ckpt', dataset='cifar10', df_dim=64, epoch=100, generate=0, generate_num_imgs=10000, generate_sample_dir='./flowgan_sampled_images', hidden_layers=1000, img_size=32, lambda_gp=10.0, like_reg=20.0, log_path='cifar_hybrid.log', lr=0.001, lr_decay=0.99999, min_lr=0.0, mode='hybrid', model_type='real_nvp', n_critics=5, netD='./cifar_hybrid_ckpt/netD_epoch_46.pth', netG='./cifar_hybrid_ckpt/netG_epoch_46.pth', no_of_layers=8, root_dir='./data', sample_dir='./cifar_hybrid_sample', start_epoch=47, writer_log='./cifar_hybrid_runs')\n",
      "Files already downloaded and verified\n",
      "Files already downloaded and verified\n",
      "100%|█| 40000/40000 [1:26:38<00:00,  7.69it/s, Dloss=-4.61, Gloss=8.2e+3, LL=7.6\n",
      "100%|███████████| 10000/10000 [00:59<00:00, 166.78it/s, LL_val=7.7e+3, bpd=3.62]\n",
      "100%|█| 40000/40000 [1:26:51<00:00,  7.67it/s, Dloss=-4.43, Gloss=7.88e+3, LL=7.\n",
      "100%|██████████| 10000/10000 [00:59<00:00, 166.68it/s, LL_val=7.68e+3, bpd=3.61]\n",
      "100%|█| 40000/40000 [1:27:06<00:00,  7.65it/s, Dloss=-3.83, Gloss=7.68e+3, LL=7.\n",
      "100%|███████████| 10000/10000 [01:00<00:00, 166.64it/s, LL_val=7.7e+3, bpd=3.62]\n",
      "100%|█| 40000/40000 [1:27:17<00:00,  7.64it/s, Dloss=-2.29, Gloss=7.63e+3, LL=7.\n",
      "100%|██████████| 10000/10000 [01:00<00:00, 166.37it/s, LL_val=7.72e+3, bpd=3.62]\n",
      "100%|█| 40000/40000 [1:27:20<00:00,  7.63it/s, Dloss=-4.28, Gloss=7.4e+3, LL=7.6\n",
      "100%|███████████| 10000/10000 [01:00<00:00, 166.09it/s, LL_val=7.66e+3, bpd=3.6]\n",
      "100%|█| 40000/40000 [1:27:27<00:00,  7.62it/s, Dloss=-5.62, Gloss=7.5e+3, LL=7.6\n",
      "100%|██████████| 10000/10000 [01:00<00:00, 166.01it/s, LL_val=7.65e+3, bpd=3.59]\n",
      "100%|█| 40000/40000 [1:27:37<00:00,  7.61it/s, Dloss=-3.61, Gloss=7.73e+3, LL=7.\n",
      "100%|███████████| 10000/10000 [01:00<00:00, 165.90it/s, LL_val=7.67e+3, bpd=3.6]\n",
      "100%|█| 40000/40000 [1:27:47<00:00,  7.59it/s, Dloss=-3.81, Gloss=7.54e+3, LL=7.\n",
      "100%|███████████| 10000/10000 [01:00<00:00, 165.67it/s, LL_val=7.67e+3, bpd=3.6]\n",
      "100%|█| 40000/40000 [1:27:52<00:00,  7.59it/s, Dloss=-4.62, Gloss=7.62e+3, LL=7.\n",
      "100%|███████████| 10000/10000 [01:00<00:00, 165.32it/s, LL_val=7.67e+3, bpd=3.6]\n",
      "100%|█| 40000/40000 [1:27:51<00:00,  7.59it/s, Dloss=-4.26, Gloss=7.46e+3, LL=7.\n",
      "100%|███████████| 10000/10000 [01:00<00:00, 164.93it/s, LL_val=7.68e+3, bpd=3.6]\n",
      "100%|█| 40000/40000 [1:27:55<00:00,  7.58it/s, Dloss=-4.55, Gloss=7.69e+3, LL=7.\n",
      "100%|███████████| 10000/10000 [01:00<00:00, 164.23it/s, LL_val=7.66e+3, bpd=3.6]\n",
      "100%|█| 40000/40000 [1:28:00<00:00,  7.57it/s, Dloss=-3.14, Gloss=7.7e+3, LL=7.6\n",
      "100%|██████████| 10000/10000 [01:00<00:00, 164.19it/s, LL_val=7.69e+3, bpd=3.61]\n",
      "100%|█| 40000/40000 [1:28:04<00:00,  7.57it/s, Dloss=-4, Gloss=7.63e+3, LL=7.59e\n",
      "100%|██████████| 10000/10000 [01:01<00:00, 163.71it/s, LL_val=7.65e+3, bpd=3.59]\n",
      "100%|█| 40000/40000 [1:28:07<00:00,  7.57it/s, Dloss=-4.58, Gloss=7.73e+3, LL=7.\n",
      "100%|███████████| 10000/10000 [01:01<00:00, 161.30it/s, LL_val=7.67e+3, bpd=3.6]\n",
      "100%|█| 40000/40000 [1:28:18<00:00,  7.55it/s, Dloss=-3.38, Gloss=7.81e+3, LL=7.\n",
      "100%|███████████| 10000/10000 [01:02<00:00, 160.78it/s, LL_val=7.67e+3, bpd=3.6]\n",
      "100%|█| 40000/40000 [1:28:11<00:00,  7.56it/s, Dloss=-3.34, Gloss=7.2e+3, LL=7.5\n",
      "100%|██████████| 10000/10000 [01:01<00:00, 161.43it/s, LL_val=7.65e+3, bpd=3.59]\n",
      "100%|█| 40000/40000 [1:28:14<00:00,  7.55it/s, Dloss=-3.6, Gloss=7.67e+3, LL=7.5\n",
      "100%|██████████| 10000/10000 [01:02<00:00, 161.18it/s, LL_val=7.64e+3, bpd=3.59]\n",
      "100%|█| 40000/40000 [1:28:12<00:00,  7.56it/s, Dloss=-6.04, Gloss=7.42e+3, LL=7.\n",
      "100%|██████████| 10000/10000 [01:02<00:00, 160.76it/s, LL_val=7.74e+3, bpd=3.64]\n",
      "100%|█| 40000/40000 [1:28:16<00:00,  7.55it/s, Dloss=-6.09, Gloss=7.64e+3, LL=7.\n",
      "100%|██████████| 10000/10000 [01:02<00:00, 160.59it/s, LL_val=7.64e+3, bpd=3.59]\n",
      " 13%|▏| 5120/40000 [11:18<1:16:57,  7.55it/s, Dloss=-4.17, Gloss=7.61e+3, LL=7.5"
     ]
    }
   ],
   "source": [
    "!python main.py --mode 'hybrid' \\\n",
    "--dataset 'cifar10' \\\n",
    "--log_path 'cifar_hybrid.log' \\\n",
    "--checkpoint_dir './cifar_hybrid_ckpt' \\\n",
    "--sample_dir './cifar_hybrid_sample' \\\n",
    "--writer_log './cifar_hybrid_runs' \\\n",
    "--start_epoch 47 \\\n",
    "--netG './cifar_hybrid_ckpt/netG_epoch_46.pth' \\\n",
    "--netD './cifar_hybrid_ckpt/netD_epoch_46.pth' \\\n",
    "--img_size 32 \\\n",
    "--no_of_layers 8 \\\n",
    "--lr 1e-3 \\\n",
    "--batch_size 32 \\\n",
    "--n_critics 5 \\\n",
    "--lr_decay 0.99999 \\\n",
    "--epoch 100 \\\n",
    "--like_reg 20."
   ]
  },
  {
   "cell_type": "markdown",
   "metadata": {},
   "source": [
    "## mnist"
   ]
  },
  {
   "cell_type": "markdown",
   "metadata": {},
   "source": [
    "Running experiments for Flowgan gen data with pure GAN loss as Marin suggested."
   ]
  },
  {
   "cell_type": "code",
   "execution_count": null,
   "metadata": {},
   "outputs": [],
   "source": [
    "!python main.py --mode 'adv' \\\n",
    "--dataset 'mnist' \\\n",
    "--log_path 'mnist_adv_flowgan_marin.log' \\\n",
    "--checkpoint_dir './mnist_adv_flowgan_marin' \\\n",
    "--sample_dir './mnist_adv_flowgan_marin_sample' \\\n",
    "--img_size 28 \\\n",
    "--no_of_layers 5 \\\n",
    "--lr 1e-4 \\\n",
    "--writer_log './adv_mnist_runs' \\\n",
    "--batch_size 32 \\\n",
    "--n_critics 5 \\\n",
    "--lr_decay 0.99999 \\\n",
    "--netG './mnist_adv_flowgan_marin/netG_epoch_99.pth' \\\n",
    "--netD './mnist_adv_flowgan_marin/netD_epoch_99.pth' \\\n",
    "--start_epoch 100 \\\n",
    "--epoch 200 "
   ]
  },
  {
   "cell_type": "code",
   "execution_count": null,
   "metadata": {},
   "outputs": [],
   "source": [
    "!python main.py --mode 'adv' \\\n",
    "--dataset 'mnist' \\\n",
    "--log_path 'mnist_adv_1layer.log' \\\n",
    "--checkpoint_dir './mnist_adv_1layer_ckpt' \\\n",
    "--sample_dir './mnist_adv_1layer_sample' \\\n",
    "--img_size 28 \\\n",
    "--no_of_layers 1 \\\n",
    "--lr 1e-4 \\\n",
    "--writer_log './adv_mnist_1layer_runs' \\\n",
    "--batch_size 32 \\\n",
    "--n_critics 3 \\\n",
    "--lr_decay 0.99999 \\\n",
    "--start_epoch 0 \\\n",
    "--epoch 100"
   ]
  },
  {
   "cell_type": "code",
   "execution_count": null,
   "metadata": {},
   "outputs": [],
   "source": []
  }
 ],
 "metadata": {
  "kernelspec": {
   "display_name": "Python 3",
   "language": "python",
   "name": "python3"
  },
  "language_info": {
   "codemirror_mode": {
    "name": "ipython",
    "version": 3
   },
   "file_extension": ".py",
   "mimetype": "text/x-python",
   "name": "python",
   "nbconvert_exporter": "python",
   "pygments_lexer": "ipython3",
   "version": "3.8.3"
  }
 },
 "nbformat": 4,
 "nbformat_minor": 4
}
