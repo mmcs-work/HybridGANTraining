{
 "cells": [
  {
   "cell_type": "markdown",
   "metadata": {},
   "source": [
    "## MLE CIFAR"
   ]
  },
  {
   "cell_type": "code",
   "execution_count": null,
   "metadata": {},
   "outputs": [],
   "source": [
    "!python main.py --mode 'mle' \\\n",
    "--dataset 'cifar10' \\\n",
    "--log_path 'cifar_mle.log' \\\n",
    "--checkpoint_dir './cifar_mle_ckpt' \\\n",
    "--sample_dir './cifar_mle_sample' \\\n",
    "--img_size 32 \\\n",
    "--no_of_layers 8 \\\n",
    "--lr 1e-3 \\\n",
    "--batch_size 32 \\\n",
    "--n_critics 0 \\\n",
    "--lr_decay 0.999995 \\\n",
    "--epoch 100 \\\n",
    "--like_reg 1. \\\n",
    "--beta1 0.9"
   ]
  },
  {
   "cell_type": "markdown",
   "metadata": {},
   "source": [
    "## MLE MNIST\n",
    "\n",
    "Dec. 31"
   ]
  },
  {
   "cell_type": "code",
   "execution_count": null,
   "metadata": {},
   "outputs": [],
   "source": [
    "!python main.py \\\n",
    "--mode 'mle' \\\n",
    "--dataset 'mnist' \\\n",
    "--log_path 'mnist_mle.log' \\\n",
    "--checkpoint_dir './mnist_mle_ckpt' \\\n",
    "--sample_dir './mnist_mle_sample' \\\n",
    "--writer_log './mnist_mle_runs' \\\n",
    "--img_size 28 \\\n",
    "--no_of_layers 5 \\\n",
    "--lr 1e-4 \\\n",
    "--batch_size 32 \\\n",
    "--n_critics 0 \\\n",
    "--lr_decay 1. \\\n",
    "--epoch 100"
   ]
  },
  {
   "cell_type": "markdown",
   "metadata": {},
   "source": [
    "## MNIST Hybrid\n",
    "\n",
    "3. Jan"
   ]
  },
  {
   "cell_type": "code",
   "execution_count": null,
   "metadata": {},
   "outputs": [],
   "source": [
    "!python main.py --mode 'hybrid' \\\n",
    "--dataset 'mnist' \\\n",
    "--log_path 'mnist_hybrid.log' \\\n",
    "--checkpoint_dir './mnist_hybrid_ckpt' \\\n",
    "--sample_dir './mnist_hybrid_sample' \\\n",
    "--writer_log './mnist_hybrid_runs' \\\n",
    "--img_size 28 \\\n",
    "--no_of_layers 5 \\\n",
    "--like_reg 1. \\\n",
    "--batch_size 32 \\\n",
    "--n_critics 5 \\\n",
    "--lr 1e-4 \\\n",
    "--lr_decay 1. \\\n",
    "--epoch 100"
   ]
  },
  {
   "cell_type": "code",
   "execution_count": null,
   "metadata": {},
   "outputs": [],
   "source": []
  }
 ],
 "metadata": {
  "kernelspec": {
   "display_name": "Python 3",
   "language": "python",
   "name": "python3"
  },
  "language_info": {
   "codemirror_mode": {
    "name": "ipython",
    "version": 3
   },
   "file_extension": ".py",
   "mimetype": "text/x-python",
   "name": "python",
   "nbconvert_exporter": "python",
   "pygments_lexer": "ipython3",
   "version": "3.8.3"
  }
 },
 "nbformat": 4,
 "nbformat_minor": 4
}
