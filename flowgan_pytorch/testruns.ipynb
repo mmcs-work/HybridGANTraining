{
 "cells": [
  {
   "cell_type": "markdown",
   "metadata": {},
   "source": [
    "## cifar10"
   ]
  },
  {
   "cell_type": "code",
   "execution_count": null,
   "metadata": {},
   "outputs": [],
   "source": [
    "!python main.py --mode 'hybrid' \\\n",
    "--dataset 'cifar10' \\\n",
    "--log_path 'cifar.log' \\\n",
    "--checkpoint_dir './cifar_ckpt' \\\n",
    "--sample_dir './cifar_sample' \\\n",
    "--img_size 32"
   ]
  },
  {
   "cell_type": "markdown",
   "metadata": {},
   "source": [
    "## mnist"
   ]
  },
  {
   "cell_type": "code",
   "execution_count": null,
   "metadata": {},
   "outputs": [
    {
     "name": "stdout",
     "output_type": "stream",
     "text": [
      "Namespace(alpha=1e-07, batch_size=32, beta1=0.5, beta2=0.999, checkpoint_dir='./mnist_ckpt', dataset='mnist', df_dim=64, epoch=25, f_div='wgan', hidden_layers=1000, img_size=28, lambda_gp=10.0, like_reg=0.0, log_path='mnist.log', lr=0.0001, lr_decay=1.0, min_lr=0.0, mode='adv', model_type='real_nvp', n_critics=5, netD='', netG='', no_of_layers=4, reg=1.0, root_dir='./data', sample_dir='./mnist_sample', start_epoch=0)\n",
      "100%|█| 50000/50000 [06:33<00:00, 126.99it/s, Dloss=0.0184, Gloss=3.3, LL=6.33e+\n",
      "100%|███████| 10000/10000 [00:14<00:00, 708.07it/s, LL_val=4.96e+6, bpd=9.13e+3]\n",
      "100%|█| 50000/50000 [06:33<00:00, 126.91it/s, Dloss=0.219, Gloss=2.36, LL=1.09e+\n",
      "100%|███████| 10000/10000 [00:14<00:00, 708.35it/s, LL_val=6.47e+7, bpd=1.19e+5]\n",
      "100%|█| 50000/50000 [06:34<00:00, 126.78it/s, Dloss=0.0757, Gloss=2.12, LL=2.13e\n",
      "100%|███████| 10000/10000 [00:14<00:00, 707.43it/s, LL_val=2.96e+7, bpd=5.46e+4]\n",
      " 20%|▏| 10048/50000 [01:19<04:44, 140.57it/s, Dloss=0.0985, Gloss=2.36, LL=2.55e"
     ]
    }
   ],
   "source": [
    "!python main.py --mode 'adv' \\\n",
    "--dataset 'mnist' \\\n",
    "--log_path 'mnist.log' \\\n",
    "--checkpoint_dir './mnist_ckpt' \\\n",
    "--sample_dir './mnist_sample' \\\n",
    "--img_size 28 \\\n",
    "--no_of_layers 4"
   ]
  },
  {
   "cell_type": "code",
   "execution_count": null,
   "metadata": {},
   "outputs": [],
   "source": []
  }
 ],
 "metadata": {
  "kernelspec": {
   "display_name": "Python 3",
   "language": "python",
   "name": "python3"
  },
  "language_info": {
   "codemirror_mode": {
    "name": "ipython",
    "version": 3
   },
   "file_extension": ".py",
   "mimetype": "text/x-python",
   "name": "python",
   "nbconvert_exporter": "python",
   "pygments_lexer": "ipython3",
   "version": "3.7.9"
  }
 },
 "nbformat": 4,
 "nbformat_minor": 4
}
