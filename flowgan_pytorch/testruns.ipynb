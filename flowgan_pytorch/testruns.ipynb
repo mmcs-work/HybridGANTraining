{
 "cells": [
  {
   "cell_type": "markdown",
   "metadata": {},
   "source": [
    "## cifar10"
   ]
  },
  {
   "cell_type": "code",
   "execution_count": 31,
   "metadata": {},
   "outputs": [
    {
     "name": "stdout",
     "output_type": "stream",
     "text": [
      "Namespace(alpha=1e-07, batch_size=32, beta1=0.5, beta2=0.9, checkpoint_dir='./cifar_ckpt', dataset='cifar10', df_dim=64, epoch=25, f_div='wgan', hidden_layers=1000, img_size=32, like_reg=0.0, log_path='cifar.log', lr=0.0001, lr_decay=1.0, min_lr=0.0, mode='hybrid', model_type='real_nvp', n_critics=5, netD='', netG='', no_of_layers=8, reg=1.0, root_dir='./data', sample_dir='./cifar_sample', start_epoch=0)\n",
      "Files already downloaded and verified\n",
      "Files already downloaded and verified\n",
      "100%|█████████████████████| 100/100 [00:04<00:00, 22.50it/s, LL=2.77e+4, bpd=13]\n",
      "100%|██████████████| 100/100 [00:00<00:00, 209.34it/s, LL_val=1.94e+4, bpd=9.12]\n",
      "100%|███████████████████| 100/100 [00:04<00:00, 24.69it/s, LL=2.02e+4, bpd=9.48]\n",
      "100%|██████████████| 100/100 [00:00<00:00, 205.95it/s, LL_val=1.81e+4, bpd=8.48]\n",
      "100%|███████████████████| 100/100 [00:04<00:00, 24.70it/s, LL=1.87e+4, bpd=8.77]\n",
      "100%|██████████████| 100/100 [00:00<00:00, 205.81it/s, LL_val=1.76e+4, bpd=8.26]\n",
      "  0%|                                                   | 0/100 [00:00<?, ?it/s]^C\n"
     ]
    }
   ],
   "source": [
    "!python main.py --mode 'hybrid' \\\n",
    "--dataset 'cifar10' \\\n",
    "--log_path 'cifar.log' \\\n",
    "--checkpoint_dir './cifar_ckpt' \\\n",
    "--sample_dir './cifar_sample' \\\n",
    "--img_size 32"
   ]
  },
  {
   "cell_type": "markdown",
   "metadata": {},
   "source": [
    "## mnist"
   ]
  },
  {
   "cell_type": "code",
   "execution_count": null,
   "metadata": {},
   "outputs": [],
   "source": [
    "!python main.py --mode 'hybrid'"
   ]
  }
 ],
 "metadata": {
  "kernelspec": {
   "display_name": "Python 3",
   "language": "python",
   "name": "python3"
  },
  "language_info": {
   "codemirror_mode": {
    "name": "ipython",
    "version": 3
   },
   "file_extension": ".py",
   "mimetype": "text/x-python",
   "name": "python",
   "nbconvert_exporter": "python",
   "pygments_lexer": "ipython3",
   "version": "3.7.9"
  }
 },
 "nbformat": 4,
 "nbformat_minor": 4
}
