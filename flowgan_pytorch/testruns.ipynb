{
 "cells": [
  {
   "cell_type": "code",
   "execution_count": null,
   "metadata": {},
   "outputs": [
    {
     "name": "stdout",
     "output_type": "stream",
     "text": [
      "Namespace(alpha=1e-07, batch_size=32, beta1=0.5, beta2=0.9, checkpoint_dir='./flow_gan', dataset='mnist', df_dim=64, epoch=25, f_div='wgan', hidden_layers=1000, img_size=28, like_reg=0.0, log_path='./flow_gan.log', lr=0.0001, lr_decay=1.0, min_lr=0.0, mode='adv', model_type='real_nvp', n_critics=5, netD='', netG='', no_of_layers=8, reg=1.0, root_dir='./data', sample_dir='./flow_gan_sample', start_epoch=0)\n",
      " 97%|███████████▌| 48288/50000 [11:07<00:21, 81.21it/s, al=9.12e+5, bpd=1.68e+3]"
     ]
    }
   ],
   "source": [
    "!python main.py --mode 'adv'"
   ]
  },
  {
   "cell_type": "code",
   "execution_count": null,
   "metadata": {},
   "outputs": [],
   "source": []
  }
 ],
 "metadata": {
  "kernelspec": {
   "display_name": "Python 3",
   "language": "python",
   "name": "python3"
  },
  "language_info": {
   "codemirror_mode": {
    "name": "ipython",
    "version": 3
   },
   "file_extension": ".py",
   "mimetype": "text/x-python",
   "name": "python",
   "nbconvert_exporter": "python",
   "pygments_lexer": "ipython3",
   "version": "3.7.9"
  }
 },
 "nbformat": 4,
 "nbformat_minor": 4
}
