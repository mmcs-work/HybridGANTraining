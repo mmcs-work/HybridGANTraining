{
 "cells": [
  {
   "cell_type": "code",
   "execution_count": 58,
   "metadata": {
    "scrolled": true
   },
   "outputs": [
    {
     "name": "stdout",
     "output_type": "stream",
     "text": [
      "Building model..\n",
      "\n",
      "Epoch: 0\n",
      "100%|█████████████| 60000/60000 [17:54<00:00, 55.84it/s, bpd=3.38, loss=1.84e+3]\n",
      "100%|█████████████| 10000/10000 [00:20<00:00, 493.12it/s, bpd=7.72, loss=4.2e+3]\n"
     ]
    }
   ],
   "source": [
    "!python ./train.py --batch_size 128 --num_epochs 1"
   ]
  },
  {
   "cell_type": "code",
   "execution_count": null,
   "metadata": {},
   "outputs": [],
   "source": []
  }
 ],
 "metadata": {
  "kernelspec": {
   "display_name": "Python 3",
   "language": "python",
   "name": "python3"
  },
  "language_info": {
   "codemirror_mode": {
    "name": "ipython",
    "version": 3
   },
   "file_extension": ".py",
   "mimetype": "text/x-python",
   "name": "python",
   "nbconvert_exporter": "python",
   "pygments_lexer": "ipython3",
   "version": "3.7.9"
  }
 },
 "nbformat": 4,
 "nbformat_minor": 4
}
